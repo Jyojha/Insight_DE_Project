{
 "cells": [
  {
   "cell_type": "code",
   "execution_count": 1,
   "metadata": {
    "autoscroll": false,
    "collapsed": false,
    "ein.tags": "worksheet-0",
    "slideshow": {
     "slide-type": "-"
    }
   },
   "outputs": [],
   "source": [
    "import numpy as np\n",
    "import pandas as pd\n",
    "import json\n",
    "\n",
    "from distance import haversin, haversin_polyline"
   ]
  },
  {
   "cell_type": "code",
   "execution_count": 2,
   "metadata": {
    "autoscroll": false,
    "collapsed": false,
    "ein.tags": "worksheet-0",
    "slideshow": {
     "slide-type": "-"
    }
   },
   "outputs": [],
   "source": [
    "with open('./street_data/SF_Street Intersections.geojson') as fp:\n",
    "     strt_intersect = json.load(fp)"
   ]
  },
  {
   "cell_type": "code",
   "execution_count": 3,
   "metadata": {
    "autoscroll": false,
    "collapsed": false,
    "ein.tags": "worksheet-0",
    "slideshow": {
     "slide-type": "-"
    }
   },
   "outputs": [
    {
     "data": {
      "text/plain": [
       "{u'geometry': {u'coordinates': [-122.5109259470119, 37.77043567583329],\n  u'type': u'Point'},\n u'properties': {u'cnn': u'27966000',\n  u'cnntext': u'27966000',\n  u'st_name': u'JOHN F KENNEDY',\n  u'st_type': u'DR'},\n u'type': u'Feature'}"
      ]
     },
     "execution_count": 3,
     "metadata": {},
     "output_type": "execute_result"
    }
   ],
   "source": [
    "strt_intersect['features'][2]"
   ]
  },
  {
   "cell_type": "code",
   "execution_count": 4,
   "metadata": {
    "autoscroll": false,
    "collapsed": false,
    "ein.tags": "worksheet-0",
    "slideshow": {
     "slide-type": "-"
    }
   },
   "outputs": [
    {
     "data": {
      "text/plain": [
       "u'SAN JOSE'"
      ]
     },
     "execution_count": 4,
     "metadata": {},
     "output_type": "execute_result"
    }
   ],
   "source": [
    "strt_intersect['features'][3]['properties']['st_name']\n"
   ]
  },
  {
   "cell_type": "code",
   "execution_count": 5,
   "metadata": {
    "autoscroll": false,
    "collapsed": false,
    "ein.tags": "worksheet-0",
    "slideshow": {
     "slide-type": "-"
    }
   },
   "outputs": [],
   "source": [
    "strt_int = {}"
   ]
  },
  {
   "cell_type": "code",
   "execution_count": 6,
   "metadata": {
    "autoscroll": false,
    "collapsed": false,
    "ein.tags": "worksheet-0",
    "slideshow": {
     "slide-type": "-"
    }
   },
   "outputs": [],
   "source": [
    "for intersection in strt_intersect['features']:\n",
    "    strt_int[intersection['properties']['cnn']] = intersection['geometry']['coordinates']\n",
    "    "
   ]
  },
  {
   "cell_type": "code",
   "execution_count": 7,
   "metadata": {
    "autoscroll": false,
    "collapsed": false,
    "ein.tags": "worksheet-0",
    "slideshow": {
     "slide-type": "-"
    }
   },
   "outputs": [
    {
     "data": {
      "text/plain": [
       "9645"
      ]
     },
     "execution_count": 7,
     "metadata": {},
     "output_type": "execute_result"
    }
   ],
   "source": [
    "len(strt_int)"
   ]
  },
  {
   "cell_type": "code",
   "execution_count": 8,
   "metadata": {
    "autoscroll": false,
    "collapsed": false,
    "ein.tags": "worksheet-0",
    "slideshow": {
     "slide-type": "-"
    }
   },
   "outputs": [],
   "source": [
    "strt_name = {}"
   ]
  },
  {
   "cell_type": "code",
   "execution_count": 9,
   "metadata": {
    "autoscroll": false,
    "collapsed": false,
    "ein.tags": "worksheet-0",
    "slideshow": {
     "slide-type": "-"
    }
   },
   "outputs": [],
   "source": [
    "for intersection in strt_intersect['features']:\n",
    "    streets = strt_name.setdefault(intersection['properties']['cnn'], [])\n",
    "    streets.append(intersection['properties']['st_name'])"
   ]
  },
  {
   "cell_type": "code",
   "execution_count": 10,
   "metadata": {
    "autoscroll": false,
    "collapsed": false,
    "ein.tags": "worksheet-0",
    "slideshow": {
     "slide-type": "-"
    }
   },
   "outputs": [
    {
     "data": {
      "text/plain": [
       "9645"
      ]
     },
     "execution_count": 10,
     "metadata": {},
     "output_type": "execute_result"
    }
   ],
   "source": [
    "len(strt_name)"
   ]
  },
  {
   "cell_type": "code",
   "execution_count": 11,
   "metadata": {
    "autoscroll": false,
    "collapsed": false,
    "ein.tags": "worksheet-0",
    "slideshow": {
     "slide-type": "-"
    }
   },
   "outputs": [],
   "source": [
    "street_info = pd.DataFrame(strt_int.items(), columns=['cnn', 'coords'])"
   ]
  },
  {
   "cell_type": "code",
   "execution_count": 12,
   "metadata": {
    "autoscroll": false,
    "collapsed": false,
    "ein.tags": "worksheet-0",
    "slideshow": {
     "slide-type": "-"
    }
   },
   "outputs": [
    {
     "data": {
      "text/plain": [
       "        cnn                           coords\n0  27380000  [-122.481702108, 37.7521400039]\n1  22138000  [-122.442010215, 37.7299109493]"
      ]
     },
     "execution_count": 12,
     "metadata": {},
     "output_type": "execute_result"
    }
   ],
   "source": [
    "street_info.head(2)"
   ]
  },
  {
   "cell_type": "code",
   "execution_count": 13,
   "metadata": {
    "autoscroll": false,
    "collapsed": false,
    "ein.tags": "worksheet-0",
    "slideshow": {
     "slide-type": "-"
    }
   },
   "outputs": [],
   "source": [
    "street_info['streets_at_intersection'] = street_info['cnn'].map(strt_name)"
   ]
  },
  {
   "cell_type": "code",
   "execution_count": 14,
   "metadata": {
    "autoscroll": false,
    "collapsed": false,
    "ein.tags": "worksheet-0",
    "slideshow": {
     "slide-type": "-"
    }
   },
   "outputs": [
    {
     "data": {
      "text/plain": [
       "        cnn                           coords       streets_at_intersection\n0  27380000  [-122.481702108, 37.7521400039]                [24TH, ORTEGA]\n1  22138000  [-122.442010215, 37.7299109493]                [CONGO, FLOOD]\n2  20758000  [-122.399685488, 37.7399019739]  [SELBY, INDUSTRIAL, OAKDALE]\n3  27459000   [-122.47968537, 37.7677621052]     [MIDDLE WEST, TRANSVERSE]\n4  51958000  [-122.370730314, 37.7093018209]           [TEVIS, FITZGERALD]"
      ]
     },
     "execution_count": 14,
     "metadata": {},
     "output_type": "execute_result"
    }
   ],
   "source": [
    "street_info.head(5)"
   ]
  },
  {
   "cell_type": "code",
   "execution_count": 15,
   "metadata": {
    "autoscroll": false,
    "collapsed": false,
    "ein.tags": "worksheet-0",
    "slideshow": {
     "slide-type": "-"
    }
   },
   "outputs": [
    {
     "data": {
      "text/plain": [
       "0                           [24TH, ORTEGA]\n1                           [CONGO, FLOOD]\n2             [SELBY, INDUSTRIAL, OAKDALE]\n3                [MIDDLE WEST, TRANSVERSE]\n4                      [TEVIS, FITZGERALD]\n5                          [NORIEGA, 44TH]\n6                        [MISSION, PERSIA]\n7                             [25TH, YORK]\n8                        [COTTER, MISSION]\n9                                 [DONNER]\n10                             [NOE, 23RD]\n11                                 [VERNA]\n12                        [SCOTT, LOMBARD]\n13                           [GEARY, 06TH]\n14                     [SILLIMAN, BOWDOIN]\n15                          [OAK, WEBSTER]\n16                                [POPLAR]\n17                               [ORIZABA]\n18                         [05TH, KIRKHAM]\n19                       [26TH, TENNESSEE]\n20                         [JERROLD, EARL]\n21                    [CLEMENTINA, KAPLAN]\n22                     [LINDSAY, LA SALLE]\n23                        [SUTTER, MARKET]\n24                [OAKDALE, HOLLADAY, JOY]\n25                              [CASTILLO]\n26                       [DONNER, INGALLS]\n27                          [ZOO, SKYLINE]\n28                     [HOLLOWAY, MIRAMAR]\n29                         [SELBY, REVERE]\n                       ...                \n9615       [UNNAMED 075, FISHER, INFANTRY]\n9616                         [SFGH ACCESS]\n9617                             [MELROSE]\n9618                             [FLORIDA]\n9619                  [VICTORIA, PALMETTO]\n9620                    [BRODERICK, BEACH]\n9621              [KITTREDGE, GOLDEN GATE]\n9622                     [PACIFIC, PELTON]\n9623                   [CLINTON, VALENCIA]\n9624                     [07TH, CLEVELAND]\n9625                         [EDDY, GOUGH]\n9626                        [CHABOT, TURK]\n9627                     [SENECA, BANNOCK]\n9628                      [25TH, QUINTARA]\n9629                    [CLARION, MISSION]\n9630                    [PHOENIX, PACIFIC]\n9631              [JUNIPERO SERRA, DARIEN]\n9632                    [PINE, DIVISADERO]\n9633                    [MCKINNON, RANKIN]\n9634                          [YORK, 23RD]\n9635                      [KEITH, QUESADA]\n9636                      [GIRARD, GORGAS]\n9637                      [STILL, ROTTECK]\n9638    [CANDLESTICK COVE, EXECUTIVE PARK]\n9639                    [THORNTON, ELMIRA]\n9640                       [20TH, LINCOLN]\n9641                      [BUCHANAN, POST]\n9642                 [SHOTWELL, MONTEZUMA]\n9643                       [NORIEGA, 20TH]\n9644               [SUSSEX, BEMIS, CASTRO]\nName: streets_at_intersection, dtype: object"
      ]
     },
     "execution_count": 15,
     "metadata": {},
     "output_type": "execute_result"
    }
   ],
   "source": [
    "street_info['streets_at_intersection']"
   ]
  },
  {
   "cell_type": "code",
   "execution_count": 16,
   "metadata": {
    "autoscroll": false,
    "collapsed": false,
    "ein.tags": "worksheet-0",
    "slideshow": {
     "slide-type": "-"
    }
   },
   "outputs": [
    {
     "data": {
      "text/plain": [
       "        cnn                           coords streets_at_intersection\n0  27380000  [-122.481702108, 37.7521400039]          [24TH, ORTEGA]\n1  22138000  [-122.442010215, 37.7299109493]          [CONGO, FLOOD]"
      ]
     },
     "execution_count": 16,
     "metadata": {},
     "output_type": "execute_result"
    }
   ],
   "source": [
    "street_info.head(2)"
   ]
  },
  {
   "cell_type": "code",
   "execution_count": 17,
   "metadata": {
    "autoscroll": false,
    "collapsed": false,
    "ein.tags": "worksheet-0",
    "slideshow": {
     "slide-type": "-"
    }
   },
   "outputs": [
    {
     "name": "stdout",
     "output_type": "stream",
     "text": [
      "<class 'pandas.core.frame.DataFrame'>\n",
      "RangeIndex: 9645 entries, 0 to 9644\n",
      "Data columns (total 3 columns):\n",
      "cnn                        9645 non-null object\n",
      "coords                     9645 non-null object\n",
      "streets_at_intersection    9645 non-null object\n",
      "dtypes: object(3)\n",
      "memory usage: 226.1+ KB\n"
     ]
    }
   ],
   "source": [
    "street_info.info()"
   ]
  },
  {
   "cell_type": "code",
   "execution_count": 18,
   "metadata": {
    "autoscroll": false,
    "collapsed": false,
    "ein.tags": "worksheet-0",
    "slideshow": {
     "slide-type": "-"
    }
   },
   "outputs": [],
   "source": [
    "street_info['cnn'] = street_info['cnn'].astype(int)"
   ]
  },
  {
   "cell_type": "code",
   "execution_count": 19,
   "metadata": {
    "autoscroll": false,
    "collapsed": false,
    "ein.tags": "worksheet-0",
    "slideshow": {
     "slide-type": "-"
    }
   },
   "outputs": [
    {
     "data": {
      "text/plain": [
       "[-122.48170210760132, 37.7521400039038]"
      ]
     },
     "execution_count": 19,
     "metadata": {},
     "output_type": "execute_result"
    }
   ],
   "source": [
    "street_info['coords'][0]"
   ]
  },
  {
   "cell_type": "code",
   "execution_count": 20,
   "metadata": {
    "autoscroll": false,
    "collapsed": false,
    "ein.tags": "worksheet-0",
    "slideshow": {
     "slide-type": "-"
    }
   },
   "outputs": [
    {
     "data": {
      "text/plain": [
       "           cnn                           coords streets_at_intersection\n110   52163000  [-122.393040237, 37.7631425484]           [I-280 S OFF]\n5064  52236000  [-122.470552716, 37.7070437304]           [I-280 S OFF]\n8752  52133000    [-122.447476767, 37.72451438]           [I-280 S OFF]\n9104  52114000  [-122.392121021, 37.7534819532]           [I-280 S OFF]"
      ]
     },
     "execution_count": 20,
     "metadata": {},
     "output_type": "execute_result"
    }
   ],
   "source": [
    "street_info[street_info['streets_at_intersection'].map(lambda x: x == ['I-280 S OFF'])]"
   ]
  },
  {
   "cell_type": "code",
   "execution_count": 21,
   "metadata": {
    "autoscroll": false,
    "collapsed": false,
    "ein.tags": "worksheet-0",
    "slideshow": {
     "slide-type": "-"
    }
   },
   "outputs": [
    {
     "data": {
      "text/plain": [
       "1426"
      ]
     },
     "execution_count": 21,
     "metadata": {},
     "output_type": "execute_result"
    }
   ],
   "source": [
    "len(street_info[street_info['streets_at_intersection'].map(lambda x: len(x)==1)])"
   ]
  },
  {
   "cell_type": "code",
   "execution_count": 22,
   "metadata": {
    "autoscroll": false,
    "collapsed": false,
    "ein.tags": "worksheet-0",
    "slideshow": {
     "slide-type": "-"
    }
   },
   "outputs": [
    {
     "data": {
      "text/plain": [
       "Empty DataFrame\nColumns: [cnn, coords, streets_at_intersection]\nIndex: []"
      ]
     },
     "execution_count": 22,
     "metadata": {},
     "output_type": "execute_result"
    }
   ],
   "source": [
    "street_info[street_info['cnn'].map(lambda x: x == '27579000')]"
   ]
  },
  {
   "cell_type": "code",
   "execution_count": 23,
   "metadata": {
    "autoscroll": false,
    "collapsed": false,
    "ein.tags": "worksheet-0",
    "slideshow": {
     "slide-type": "-"
    }
   },
   "outputs": [
    {
     "data": {
      "text/plain": [
       "Empty DataFrame\nColumns: [cnn, coords, streets_at_intersection]\nIndex: []"
      ]
     },
     "execution_count": 23,
     "metadata": {},
     "output_type": "execute_result"
    }
   ],
   "source": [
    "street_info[street_info['cnn'].map(lambda x: x == '27577000')]"
   ]
  },
  {
   "cell_type": "code",
   "execution_count": 24,
   "metadata": {
    "autoscroll": false,
    "collapsed": false,
    "ein.tags": "worksheet-0",
    "slideshow": {
     "slide-type": "-"
    }
   },
   "outputs": [],
   "source": [
    "strt_seg = pd.read_csv('./street_data/List_of_Streets_and_Intersections.csv')"
   ]
  },
  {
   "cell_type": "code",
   "execution_count": 25,
   "metadata": {
    "autoscroll": false,
    "collapsed": false,
    "ein.tags": "worksheet-0",
    "slideshow": {
     "slide-type": "-"
    }
   },
   "outputs": [
    {
     "data": {
      "text/plain": [
       "        CNN streetname              from_st         to_st cardinal addrange  \\\n0  30731000    01ST ST  BUSH ST \\ MARKET ST           NaN      NaN      NaN   \n1    100000    01ST ST  BUSH ST \\ MARKET ST  STEVENSON ST      NaN   1 - 34   \n\n                                         limits  location  theOrder  LF_FADD  \\\n0              BUSH ST \\ MARKET ST intersection       NaN         1      NaN   \n1  BUSH ST \\ MARKET ST to STEVENSON ST (1 - 34)       NaN         2      1.0   \n\n   RT_FADD  LF_TADD  RT_TADD    FROM_CNN      TO_CNN  \n0      NaN      NaN      NaN         NaN         NaN  \n1      2.0     19.0     34.0  30731000.0  24666000.0  "
      ]
     },
     "execution_count": 25,
     "metadata": {},
     "output_type": "execute_result"
    }
   ],
   "source": [
    "strt_seg.head(2)"
   ]
  },
  {
   "cell_type": "code",
   "execution_count": 26,
   "metadata": {
    "autoscroll": false,
    "collapsed": false,
    "ein.tags": "worksheet-0",
    "slideshow": {
     "slide-type": "-"
    }
   },
   "outputs": [
    {
     "name": "stdout",
     "output_type": "stream",
     "text": [
      "<class 'pandas.core.frame.DataFrame'>\n",
      "RangeIndex: 34665 entries, 0 to 34664\n",
      "Data columns (total 15 columns):\n",
      "CNN           34665 non-null int64\n",
      "streetname    34665 non-null object\n",
      "from_st       34665 non-null object\n",
      "to_st         16187 non-null object\n",
      "cardinal      2121 non-null object\n",
      "addrange      16187 non-null object\n",
      "limits        34665 non-null object\n",
      "location      0 non-null float64\n",
      "theOrder      34665 non-null int64\n",
      "LF_FADD       16187 non-null float64\n",
      "RT_FADD       16187 non-null float64\n",
      "LF_TADD       16187 non-null float64\n",
      "RT_TADD       16187 non-null float64\n",
      "FROM_CNN      16187 non-null float64\n",
      "TO_CNN        16187 non-null float64\n",
      "dtypes: float64(7), int64(2), object(6)\n",
      "memory usage: 4.0+ MB\n"
     ]
    }
   ],
   "source": [
    "strt_seg.info()"
   ]
  },
  {
   "cell_type": "code",
   "execution_count": 27,
   "metadata": {
    "autoscroll": false,
    "collapsed": false,
    "ein.tags": "worksheet-0",
    "slideshow": {
     "slide-type": "-"
    }
   },
   "outputs": [],
   "source": [
    "strt_seg_df = strt_seg.dropna(axis='index', how='any', subset=['TO_CNN', 'FROM_CNN'])"
   ]
  },
  {
   "cell_type": "code",
   "execution_count": 28,
   "metadata": {
    "autoscroll": false,
    "collapsed": false,
    "ein.tags": "worksheet-0",
    "slideshow": {
     "slide-type": "-"
    }
   },
   "outputs": [],
   "source": [
    "strt_seg_df.reset_index(inplace=True)"
   ]
  },
  {
   "cell_type": "code",
   "execution_count": 29,
   "metadata": {
    "autoscroll": false,
    "collapsed": false,
    "ein.tags": "worksheet-0",
    "slideshow": {
     "slide-type": "-"
    }
   },
   "outputs": [
    {
     "name": "stdout",
     "output_type": "stream",
     "text": [
      "<class 'pandas.core.frame.DataFrame'>\n",
      "RangeIndex: 16187 entries, 0 to 16186\n",
      "Data columns (total 16 columns):\n",
      "index         16187 non-null int64\n",
      "CNN           16187 non-null int64\n",
      "streetname    16187 non-null object\n",
      "from_st       16187 non-null object\n",
      "to_st         16187 non-null object\n",
      "cardinal      2121 non-null object\n",
      "addrange      16187 non-null object\n",
      "limits        16187 non-null object\n",
      "location      0 non-null float64\n",
      "theOrder      16187 non-null int64\n",
      "LF_FADD       16187 non-null float64\n",
      "RT_FADD       16187 non-null float64\n",
      "LF_TADD       16187 non-null float64\n",
      "RT_TADD       16187 non-null float64\n",
      "FROM_CNN      16187 non-null float64\n",
      "TO_CNN        16187 non-null float64\n",
      "dtypes: float64(7), int64(3), object(6)\n",
      "memory usage: 2.0+ MB\n"
     ]
    }
   ],
   "source": [
    "strt_seg_df.info()"
   ]
  },
  {
   "cell_type": "code",
   "execution_count": 30,
   "metadata": {
    "autoscroll": false,
    "collapsed": false,
    "ein.tags": "worksheet-0",
    "slideshow": {
     "slide-type": "-"
    }
   },
   "outputs": [],
   "source": [
    "strt_seg_df = strt_seg_df[['CNN', 'FROM_CNN', 'TO_CNN']]"
   ]
  },
  {
   "cell_type": "code",
   "execution_count": 31,
   "metadata": {
    "autoscroll": false,
    "collapsed": false,
    "ein.tags": "worksheet-0",
    "slideshow": {
     "slide-type": "-"
    }
   },
   "outputs": [
    {
     "data": {
      "text/plain": [
       "        CNN    FROM_CNN      TO_CNN\n0    100000  30731000.0  24666000.0\n1  11113000  22843000.0  50647000.0"
      ]
     },
     "execution_count": 31,
     "metadata": {},
     "output_type": "execute_result"
    }
   ],
   "source": [
    "strt_seg_df.head(2)"
   ]
  },
  {
   "cell_type": "code",
   "execution_count": 32,
   "metadata": {
    "autoscroll": false,
    "collapsed": false,
    "ein.tags": "worksheet-0",
    "slideshow": {
     "slide-type": "-"
    }
   },
   "outputs": [],
   "source": [
    "strt_seg_df['FROM_CNN'] = strt_seg_df['FROM_CNN'].astype(int)\n",
    "strt_seg_df['TO_CNN'] = strt_seg_df['TO_CNN'].astype(int)"
   ]
  },
  {
   "cell_type": "code",
   "execution_count": 33,
   "metadata": {
    "autoscroll": false,
    "collapsed": false,
    "ein.tags": "worksheet-0",
    "slideshow": {
     "slide-type": "-"
    }
   },
   "outputs": [
    {
     "name": "stdout",
     "output_type": "stream",
     "text": [
      "<class 'pandas.core.frame.DataFrame'>\n",
      "RangeIndex: 16187 entries, 0 to 16186\n",
      "Data columns (total 3 columns):\n",
      "CNN         16187 non-null int64\n",
      "FROM_CNN    16187 non-null int64\n",
      "TO_CNN      16187 non-null int64\n",
      "dtypes: int64(3)\n",
      "memory usage: 379.5 KB\n"
     ]
    }
   ],
   "source": [
    "strt_seg_df.info()"
   ]
  },
  {
   "cell_type": "code",
   "execution_count": 34,
   "metadata": {
    "autoscroll": false,
    "collapsed": false,
    "ein.tags": "worksheet-0",
    "slideshow": {
     "slide-type": "-"
    }
   },
   "outputs": [],
   "source": [
    "df1 = strt_seg_df.merge(street_info, how='inner', left_on='FROM_CNN', right_on='cnn')"
   ]
  },
  {
   "cell_type": "code",
   "execution_count": 35,
   "metadata": {
    "autoscroll": false,
    "collapsed": false,
    "ein.tags": "worksheet-0",
    "slideshow": {
     "slide-type": "-"
    }
   },
   "outputs": [
    {
     "data": {
      "text/plain": [
       "        CNN  FROM_CNN    TO_CNN       cnn                           coords  \\\n0    100000  30731000  24666000  30731000   [-122.399148598, 37.791016649]   \n1   8742201  30731000  30732000  30731000   [-122.399148598, 37.791016649]   \n2   3419000  30731000  24672000  30731000   [-122.399148598, 37.791016649]   \n3   8742101  30731000  30734000  30731000   [-122.399148598, 37.791016649]   \n4  11113000  22843000  50647000  22843000  [-122.456962905, 37.7433704314]   \n\n  streets_at_intersection  \n0    [MARKET, BUSH, 01ST]  \n1    [MARKET, BUSH, 01ST]  \n2    [MARKET, BUSH, 01ST]  \n3    [MARKET, BUSH, 01ST]  \n4    [ROCKAWAY, ROCKWOOD]  "
      ]
     },
     "execution_count": 35,
     "metadata": {},
     "output_type": "execute_result"
    }
   ],
   "source": [
    "df1.head()"
   ]
  },
  {
   "cell_type": "code",
   "execution_count": 36,
   "metadata": {
    "autoscroll": false,
    "collapsed": false,
    "ein.tags": "worksheet-0",
    "slideshow": {
     "slide-type": "-"
    }
   },
   "outputs": [],
   "source": [
    "df1.rename(columns={'coords': 'from_cnn_coords'}, inplace=True)"
   ]
  },
  {
   "cell_type": "code",
   "execution_count": 37,
   "metadata": {
    "autoscroll": false,
    "collapsed": false,
    "ein.tags": "worksheet-0",
    "slideshow": {
     "slide-type": "-"
    }
   },
   "outputs": [],
   "source": [
    "df1.drop(labels=['cnn', 'streets_at_intersection'], axis=1, inplace=True)"
   ]
  },
  {
   "cell_type": "code",
   "execution_count": 38,
   "metadata": {
    "autoscroll": false,
    "collapsed": false,
    "ein.tags": "worksheet-0",
    "slideshow": {
     "slide-type": "-"
    }
   },
   "outputs": [
    {
     "name": "stdout",
     "output_type": "stream",
     "text": [
      "<class 'pandas.core.frame.DataFrame'>\n",
      "Int64Index: 16146 entries, 0 to 16145\n",
      "Data columns (total 4 columns):\n",
      "CNN                16146 non-null int64\n",
      "FROM_CNN           16146 non-null int64\n",
      "TO_CNN             16146 non-null int64\n",
      "from_cnn_coords    16146 non-null object\n",
      "dtypes: int64(3), object(1)\n",
      "memory usage: 630.7+ KB\n"
     ]
    }
   ],
   "source": [
    "df1.info()"
   ]
  },
  {
   "cell_type": "code",
   "execution_count": 39,
   "metadata": {
    "autoscroll": false,
    "collapsed": false,
    "ein.tags": "worksheet-0",
    "slideshow": {
     "slide-type": "-"
    }
   },
   "outputs": [],
   "source": [
    "df1 = df1.merge(street_info, how='inner', left_on='TO_CNN', right_on='cnn')"
   ]
  },
  {
   "cell_type": "code",
   "execution_count": 40,
   "metadata": {
    "autoscroll": false,
    "collapsed": false,
    "ein.tags": "worksheet-0",
    "slideshow": {
     "slide-type": "-"
    }
   },
   "outputs": [],
   "source": [
    "df1.rename(columns={'coords': 'to_cnn_coords'}, inplace=True)"
   ]
  },
  {
   "cell_type": "code",
   "execution_count": 41,
   "metadata": {
    "autoscroll": false,
    "collapsed": false,
    "ein.tags": "worksheet-0",
    "slideshow": {
     "slide-type": "-"
    }
   },
   "outputs": [
    {
     "name": "stdout",
     "output_type": "stream",
     "text": [
      "<class 'pandas.core.frame.DataFrame'>\n",
      "Int64Index: 16130 entries, 0 to 16129\n",
      "Data columns (total 7 columns):\n",
      "CNN                        16130 non-null int64\n",
      "FROM_CNN                   16130 non-null int64\n",
      "TO_CNN                     16130 non-null int64\n",
      "from_cnn_coords            16130 non-null object\n",
      "cnn                        16130 non-null int64\n",
      "to_cnn_coords              16130 non-null object\n",
      "streets_at_intersection    16130 non-null object\n",
      "dtypes: int64(4), object(3)\n",
      "memory usage: 1008.1+ KB\n"
     ]
    }
   ],
   "source": [
    "df1.info()"
   ]
  },
  {
   "cell_type": "code",
   "execution_count": 42,
   "metadata": {
    "autoscroll": false,
    "collapsed": false,
    "ein.tags": "worksheet-0",
    "slideshow": {
     "slide-type": "-"
    }
   },
   "outputs": [],
   "source": [
    "df1.drop(labels=['streets_at_intersection', 'cnn'], axis=1, inplace=True)"
   ]
  },
  {
   "cell_type": "code",
   "execution_count": 43,
   "metadata": {
    "autoscroll": false,
    "collapsed": false,
    "ein.tags": "worksheet-0",
    "slideshow": {
     "slide-type": "-"
    }
   },
   "outputs": [
    {
     "data": {
      "text/plain": [
       "       CNN  FROM_CNN    TO_CNN                 from_cnn_coords  \\\n0   100000  30731000  24666000  [-122.399148598, 37.791016649]   \n1  8742201  30731000  30732000  [-122.399148598, 37.791016649]   \n\n                     to_cnn_coords  \n0  [-122.398589511, 37.7905712253]  \n1  [-122.399504511, 37.7908053759]  "
      ]
     },
     "execution_count": 43,
     "metadata": {},
     "output_type": "execute_result"
    }
   ],
   "source": [
    "df1.head(2)"
   ]
  },
  {
   "cell_type": "code",
   "execution_count": 44,
   "metadata": {
    "autoscroll": false,
    "collapsed": false,
    "ein.tags": "worksheet-0",
    "slideshow": {
     "slide-type": "-"
    }
   },
   "outputs": [
    {
     "name": "stdout",
     "output_type": "stream",
     "text": [
      "<class 'pandas.core.frame.DataFrame'>\n",
      "Int64Index: 16130 entries, 0 to 16129\n",
      "Data columns (total 5 columns):\n",
      "CNN                16130 non-null int64\n",
      "FROM_CNN           16130 non-null int64\n",
      "TO_CNN             16130 non-null int64\n",
      "from_cnn_coords    16130 non-null object\n",
      "to_cnn_coords      16130 non-null object\n",
      "dtypes: int64(3), object(2)\n",
      "memory usage: 756.1+ KB\n"
     ]
    }
   ],
   "source": [
    "df1.info()"
   ]
  },
  {
   "cell_type": "code",
   "execution_count": 45,
   "metadata": {
    "autoscroll": false,
    "collapsed": false,
    "ein.tags": "worksheet-0",
    "slideshow": {
     "slide-type": "-"
    }
   },
   "outputs": [
    {
     "data": {
      "text/plain": [
       "  accepted  classcode       cnn   cnntext district f_node_cnn jurisdicti  \\\n0        N          0  15145000  15145000     None   26132000       None   \n1        Y          0  11305001  11305001     None   26255000        DPW   \n2        Y          5  11305002  11305002     None   54224000        DPW   \n3        Y          5  13798000  13798000     None   35015000        DPW   \n4        N          5   5389001   5389001     None   35016000        DPW   \n\n     layer lf_fadd lf_toadd  \\\n0  PRIVATE     0.0      0.0   \n1    UPROW     1.0     37.0   \n2  STREETS    39.0     99.0   \n3  STREETS   221.0    299.0   \n4  STREETS     0.0      0.0   \n\n                         ...                         oneway rt_fadd rt_toadd  \\\n0                        ...                              B     0.0      0.0   \n1                        ...                              B     2.0     36.0   \n2                        ...                              B    38.0     98.0   \n3                        ...                              F   222.0    298.0   \n4                        ...                              B     0.0      0.0   \n\n  st_type         street      street_gc         streetname t_node_cnn  \\\n0      CT          CROWN          CROWN           CROWN CT   54223000   \n1     AVE  SAINT GERMAIN  SAINT GERMAIN  SAINT GERMAIN AVE   54224000   \n2     AVE  SAINT GERMAIN  SAINT GERMAIN  SAINT GERMAIN AVE   26247000   \n3      ST         CORONA         CORONA          CORONA ST   35015000   \n4     AVE        FAIRFAX        FAIRFAX        FAIRFAX AVE   35017000   \n\n  zip_code                                         centerline  \n0    94114  [[-122.446942445, 37.7572289215], [-122.446641...  \n1    94114  [[-122.447915266, 37.757589498], [-122.4488770...  \n2    94114  [[-122.448877014, 37.7575363275], [-122.450289...  \n3    94127  [[-122.466597727, 37.7259244753], [-122.466538...  \n4    94124  [[-122.380850804, 37.7362793847], [-122.381003...  \n\n[5 rows x 22 columns]"
      ]
     },
     "execution_count": 45,
     "metadata": {},
     "output_type": "execute_result"
    }
   ],
   "source": [
    "centerlines = pd.read_json('./street_data/San Francisco Basemap Street Centerlines.geojson',\n",
    "                           precise_float=True)\n",
    "\n",
    "features = centerlines['features']\n",
    "coords = features.map(lambda x: x['geometry']['coordinates'])\n",
    "\n",
    "centerlines = pd.DataFrame.from_records(features.map(lambda x: x['properties']))\n",
    "centerlines['centerline'] = coords\n",
    "centerlines['cnn'] = centerlines['cnntext'].astype(int)\n",
    "centerlines['classcode'] = centerlines['classcode'].astype(int)\n",
    "\n",
    "centerlines.head()"
   ]
  },
  {
   "cell_type": "code",
   "execution_count": 46,
   "metadata": {
    "autoscroll": false,
    "collapsed": false,
    "ein.tags": "worksheet-0",
    "slideshow": {
     "slide-type": "-"
    }
   },
   "outputs": [],
   "source": [
    "centerlines = centerlines[['cnn', 'streetname', 'classcode', 'oneway', 'centerline']]"
   ]
  },
  {
   "cell_type": "code",
   "execution_count": 47,
   "metadata": {
    "autoscroll": false,
    "collapsed": false,
    "ein.tags": "worksheet-0",
    "slideshow": {
     "slide-type": "-"
    }
   },
   "outputs": [
    {
     "data": {
      "text/plain": [
       "        cnn         streetname  classcode oneway  \\\n0  15145000           CROWN CT          0      B   \n1  11305001  SAINT GERMAIN AVE          0      B   \n\n                                          centerline  \n0  [[-122.446942445, 37.7572289215], [-122.446641...  \n1  [[-122.447915266, 37.757589498], [-122.4488770...  "
      ]
     },
     "execution_count": 47,
     "metadata": {},
     "output_type": "execute_result"
    }
   ],
   "source": [
    "centerlines.head(2)"
   ]
  },
  {
   "cell_type": "code",
   "execution_count": 48,
   "metadata": {
    "autoscroll": false,
    "collapsed": false,
    "ein.tags": "worksheet-0",
    "slideshow": {
     "slide-type": "-"
    }
   },
   "outputs": [],
   "source": [
    "comb_strt_seg = centerlines.merge(df1, how='right', left_on='cnn', right_on='CNN')"
   ]
  },
  {
   "cell_type": "code",
   "execution_count": 49,
   "metadata": {
    "autoscroll": false,
    "collapsed": false,
    "ein.tags": "worksheet-0",
    "slideshow": {
     "slide-type": "-"
    }
   },
   "outputs": [
    {
     "name": "stdout",
     "output_type": "stream",
     "text": [
      "<class 'pandas.core.frame.DataFrame'>\n",
      "Int64Index: 16130 entries, 0 to 16129\n",
      "Data columns (total 10 columns):\n",
      "cnn                16130 non-null int64\n",
      "streetname         16130 non-null object\n",
      "classcode          16130 non-null int64\n",
      "oneway             16130 non-null object\n",
      "centerline         16130 non-null object\n",
      "CNN                16130 non-null int64\n",
      "FROM_CNN           16130 non-null int64\n",
      "TO_CNN             16130 non-null int64\n",
      "from_cnn_coords    16130 non-null object\n",
      "to_cnn_coords      16130 non-null object\n",
      "dtypes: int64(5), object(5)\n",
      "memory usage: 1.4+ MB\n"
     ]
    }
   ],
   "source": [
    "comb_strt_seg.info()"
   ]
  },
  {
   "cell_type": "code",
   "execution_count": 50,
   "metadata": {
    "autoscroll": false,
    "collapsed": false,
    "ein.tags": "worksheet-0",
    "slideshow": {
     "slide-type": "-"
    }
   },
   "outputs": [],
   "source": [
    "comb_strt_seg.drop(labels='cnn', axis=1, inplace=True)"
   ]
  },
  {
   "cell_type": "code",
   "execution_count": 51,
   "metadata": {
    "autoscroll": false,
    "collapsed": false,
    "ein.tags": "worksheet-0",
    "slideshow": {
     "slide-type": "-"
    }
   },
   "outputs": [],
   "source": [
    "comb_strt_seg.rename(columns={'CNN': 'cnn',\n",
    "                              'FROM_CNN': 'from_cnn',\n",
    "                              'TO_CNN': 'to_cnn'},\n",
    "                     inplace=True)"
   ]
  },
  {
   "cell_type": "code",
   "execution_count": 52,
   "metadata": {
    "autoscroll": false,
    "collapsed": false,
    "ein.tags": "worksheet-0",
    "slideshow": {
     "slide-type": "-"
    }
   },
   "outputs": [
    {
     "data": {
      "text/plain": [
       "          streetname  classcode oneway  \\\n0           CROWN CT          0      B   \n1  SAINT GERMAIN AVE          0      B   \n2  SAINT GERMAIN AVE          5      B   \n3          CORONA ST          5      F   \n4        FAIRFAX AVE          5      B   \n\n                                          centerline       cnn  from_cnn  \\\n0  [[-122.446942445, 37.7572289215], [-122.446641...  15145000  26132000   \n1  [[-122.447915266, 37.757589498], [-122.4488770...  11305001  26255000   \n2  [[-122.448877014, 37.7575363275], [-122.450289...  11305002  54224000   \n3  [[-122.466597727, 37.7259244753], [-122.466538...  13798000  35015000   \n4  [[-122.380850804, 37.7362793847], [-122.381003...   5389001  35016000   \n\n     to_cnn                  from_cnn_coords                    to_cnn_coords  \n0  54223000  [-122.446942444, 37.7572289215]  [-122.445867016, 37.7569364859]  \n1  54224000   [-122.447915266, 37.757589498]  [-122.448877014, 37.7575363275]  \n2  26247000  [-122.448877014, 37.7575363275]  [-122.450289302, 37.7574582341]  \n3  35015000  [-122.466597727, 37.7259244744]  [-122.466597727, 37.7259244744]  \n4  35017000  [-122.380850804, 37.7362793847]   [-122.381003701, 37.736790553]  "
      ]
     },
     "execution_count": 52,
     "metadata": {},
     "output_type": "execute_result"
    }
   ],
   "source": [
    "comb_strt_seg.head()"
   ]
  },
  {
   "cell_type": "code",
   "execution_count": 53,
   "metadata": {
    "autoscroll": false,
    "collapsed": false,
    "ein.tags": "worksheet-0",
    "slideshow": {
     "slide-type": "-"
    }
   },
   "outputs": [
    {
     "data": {
      "text/plain": [
       "6310       0.000000\n6263       0.000000\n1874       0.000000\n14631      0.000000\n14633      0.000000\n14635      0.000000\n14637      0.000000\n6285       0.000000\n11137      0.000000\n6299       0.000000\n6306       0.000000\n6307       0.000000\n6262       0.000000\n14641      0.000000\n3688       0.000000\n1841       0.000000\n11114      0.000000\n14648      0.000000\n6323       0.000000\n1832       0.000000\n6326       0.000000\n6340       0.000000\n14658      0.000000\n14660      0.000000\n14672      0.000000\n1844       0.000000\n1886       0.000000\n6250       0.000000\n14618      0.000000\n11230      0.000000\n            ...    \n860        0.000141\n885        0.000141\n4597       0.000141\n3925       0.000141\n6550       0.000141\n13011      0.000141\n1175       0.000141\n4005       0.000141\n8961       0.000141\n15301      0.000601\n6449       0.000601\n16103      0.005154\n16100      0.011642\n3429       0.012620\n3147       0.012620\n15552      0.014240\n1261       0.016945\n974        0.019050\n15551      0.019050\n16101      0.050178\n16104      0.073668\n10499      0.762964\n3719       9.881587\n2488      12.980927\n9538      35.353650\n724       71.953167\n12322     82.781296\n676       96.966378\n321      120.777255\n11436    246.641844\ndtype: float64"
      ]
     },
     "execution_count": 53,
     "metadata": {},
     "output_type": "execute_result"
    }
   ],
   "source": [
    "comb_strt_seg.apply(lambda x: haversin(x['from_cnn_coords'], x['centerline'][0]), axis=1).sort_values()\n"
   ]
  },
  {
   "cell_type": "code",
   "execution_count": 54,
   "metadata": {
    "autoscroll": false,
    "collapsed": false,
    "ein.tags": "worksheet-0",
    "slideshow": {
     "slide-type": "-"
    }
   },
   "outputs": [
    {
     "data": {
      "text/plain": [
       "streetname                                                SHIELDS ST\ncenterline         [[-122.462752036, 37.7179352912], [-122.462639...\nfrom_cnn_coords                       [-122.462639626, 37.717936035]\nto_cnn_coords                        [-122.462752036, 37.7179352912]\nName: 3719, dtype: object"
      ]
     },
     "execution_count": 54,
     "metadata": {},
     "output_type": "execute_result"
    }
   ],
   "source": [
    "comb_strt_seg[['streetname', 'centerline', 'from_cnn_coords', 'to_cnn_coords']].ix[3719]"
   ]
  },
  {
   "cell_type": "code",
   "execution_count": 55,
   "metadata": {
    "autoscroll": false,
    "collapsed": false,
    "ein.tags": "worksheet-0",
    "slideshow": {
     "slide-type": "-"
    }
   },
   "outputs": [
    {
     "data": {
      "text/plain": [
       "100.88716663535098"
      ]
     },
     "execution_count": 55,
     "metadata": {},
     "output_type": "execute_result"
    }
   ],
   "source": [
    "haversin_polyline(comb_strt_seg.ix[0, 'centerline'])"
   ]
  },
  {
   "cell_type": "code",
   "execution_count": 56,
   "metadata": {
    "autoscroll": false,
    "collapsed": false,
    "ein.tags": "worksheet-0",
    "slideshow": {
     "slide-type": "-"
    }
   },
   "outputs": [],
   "source": [
    "comb_strt_seg['length'] = comb_strt_seg['centerline'].map(haversin_polyline)"
   ]
  },
  {
   "cell_type": "code",
   "execution_count": 57,
   "metadata": {
    "autoscroll": false,
    "collapsed": false,
    "ein.tags": "worksheet-0",
    "slideshow": {
     "slide-type": "-"
    }
   },
   "outputs": [
    {
     "data": {
      "text/plain": [
       "Empty DataFrame\nColumns: [streetname, classcode, oneway, centerline, cnn, from_cnn, to_cnn, from_cnn_coords, to_cnn_coords, length]\nIndex: []"
      ]
     },
     "execution_count": 57,
     "metadata": {},
     "output_type": "execute_result"
    }
   ],
   "source": [
    "comb_strt_seg[comb_strt_seg['length'] == 0]"
   ]
  },
  {
   "cell_type": "code",
   "execution_count": 58,
   "metadata": {
    "autoscroll": false,
    "collapsed": false,
    "ein.tags": "worksheet-0",
    "slideshow": {
     "slide-type": "-"
    }
   },
   "outputs": [
    {
     "data": {
      "text/plain": [
       "          streetname  classcode oneway  \\\n0           CROWN CT          0      B   \n1  SAINT GERMAIN AVE          0      B   \n\n                                          centerline       cnn  from_cnn  \\\n0  [[-122.446942445, 37.7572289215], [-122.446641...  15145000  26132000   \n1  [[-122.447915266, 37.757589498], [-122.4488770...  11305001  26255000   \n\n     to_cnn                  from_cnn_coords                    to_cnn_coords  \\\n0  54223000  [-122.446942444, 37.7572289215]  [-122.445867016, 37.7569364859]   \n1  54224000   [-122.447915266, 37.757589498]  [-122.448877014, 37.7575363275]   \n\n       length  \n0  100.887167  \n1   84.702128  "
      ]
     },
     "execution_count": 58,
     "metadata": {},
     "output_type": "execute_result"
    }
   ],
   "source": [
    "comb_strt_seg.head(2)"
   ]
  },
  {
   "cell_type": "code",
   "execution_count": 59,
   "metadata": {
    "autoscroll": false,
    "collapsed": false,
    "ein.tags": "worksheet-0",
    "slideshow": {
     "slide-type": "-"
    }
   },
   "outputs": [],
   "source": [
    "comb_strt_seg.sort_values(['length', 'streetname'], inplace=True)"
   ]
  },
  {
   "cell_type": "code",
   "execution_count": 60,
   "metadata": {
    "autoscroll": false,
    "collapsed": false,
    "ein.tags": "worksheet-0",
    "slideshow": {
     "slide-type": "-"
    }
   },
   "outputs": [],
   "source": [
    "comb_strt_seg.reset_index(inplace=True, drop=True)"
   ]
  },
  {
   "cell_type": "code",
   "execution_count": 61,
   "metadata": {
    "autoscroll": false,
    "collapsed": false,
    "ein.tags": "worksheet-0",
    "slideshow": {
     "slide-type": "-"
    }
   },
   "outputs": [
    {
     "name": "stdout",
     "output_type": "stream",
     "text": [
      "<class 'pandas.core.frame.DataFrame'>\n",
      "RangeIndex: 16130 entries, 0 to 16129\n",
      "Data columns (total 10 columns):\n",
      "streetname         16130 non-null object\n",
      "classcode          16130 non-null int64\n",
      "oneway             16130 non-null object\n",
      "centerline         16130 non-null object\n",
      "cnn                16130 non-null int64\n",
      "from_cnn           16130 non-null int64\n",
      "to_cnn             16130 non-null int64\n",
      "from_cnn_coords    16130 non-null object\n",
      "to_cnn_coords      16130 non-null object\n",
      "length             16130 non-null float64\n",
      "dtypes: float64(1), int64(4), object(5)\n",
      "memory usage: 1.2+ MB\n"
     ]
    }
   ],
   "source": [
    "comb_strt_seg.info()"
   ]
  },
  {
   "cell_type": "code",
   "execution_count": 62,
   "metadata": {
    "autoscroll": false,
    "collapsed": false,
    "ein.tags": "worksheet-0",
    "slideshow": {
     "slide-type": "slide"
    }
   },
   "outputs": [
    {
     "data": {
      "text/plain": [
       "       streetname  classcode oneway  \\\n0       GRANT AVE          5      B   \n1         HYDE ST          5      B   \n2   SACRAMENTO ST          5      B   \n3  LEAVENWORTH ST          5      B   \n4         CLAY ST          5      T   \n5     PACIFIC AVE          5      B   \n6      JACKSON ST          5      B   \n7      VALLEJO ST          5      B   \n8        JONES ST          5      T   \n9        MASON ST          5      B   \n\n                                          centerline       cnn  from_cnn  \\\n0  [[-122.407895702, 37.8022031597], [-122.407898...   6408000  25376000   \n1  [[-122.419105547, 37.7994822746], [-122.419109...   7141000  30028000   \n2  [[-122.411900469, 37.7926482491], [-122.411929...  11238000  25077000   \n3  [[-122.416931168, 37.7970508219], [-122.416936...   8259000  25285000   \n4  [[-122.409900714, 37.7938061657], [-122.409935...   4097000  25015000   \n5  [[-122.412503875, 37.7961920286], [-122.412540...  10136000  25124000   \n6  [[-122.408704654, 37.7957668411], [-122.408743...   7380000  25040000   \n7  [[-122.403644962, 37.7992241694], [-122.403690...  13086000  30040000   \n8  [[-122.412872038, 37.7853084493], [-122.412881...   7568000  24931000   \n9  [[-122.412408149, 37.7997180011], [-122.412417...   8825000  25418000   \n\n     to_cnn                  from_cnn_coords                    to_cnn_coords  \\\n0  25391000  [-122.407895702, 37.8022031597]  [-122.407898666, 37.8022180205]   \n1  25543000  [-122.419105547, 37.7994822746]   [-122.419109459, 37.799501833]   \n2  30047000  [-122.411900469, 37.7926482491]  [-122.411929944, 37.7926445051]   \n3  30043000  [-122.416931168, 37.7970508219]  [-122.416936047, 37.7970750186]   \n4  25016000  [-122.409900714, 37.7938061657]  [-122.409935886, 37.7938016901]   \n5  25125000  [-122.412503876, 37.7961920286]  [-122.412540657, 37.7961874009]   \n6  25041000  [-122.408704654, 37.7957668411]  [-122.408743234, 37.7957619818]   \n7  24827000  [-122.403644962, 37.7992241685]   [-122.40369039, 37.7992184505]   \n8  24927000  [-122.412872038, 37.7853084484]   [-122.412881239, 37.785353823]   \n9  25419000    [-122.41240815, 37.799718002]  [-122.412417555, 37.7997647693]   \n\n     length  \n0  1.671880  \n1  2.200408  \n2  2.621567  \n3  2.722776  \n4  3.128414  \n5  3.270567  \n6  3.430513  \n7  4.039196  \n8  5.106512  \n9  5.262333  "
      ]
     },
     "execution_count": 62,
     "metadata": {},
     "output_type": "execute_result"
    }
   ],
   "source": [
    "comb_strt_seg.head(10)"
   ]
  },
  {
   "cell_type": "code",
   "execution_count": 63,
   "metadata": {
    "autoscroll": false,
    "collapsed": false,
    "ein.tags": "worksheet-0",
    "slideshow": {
     "slide-type": "-"
    }
   },
   "outputs": [
    {
     "data": {
      "text/plain": [
       "               streetname  classcode oneway  \\\n16120  HWY 101 NORTHBOUND          1      F   \n16121    HWY 1 NORTHBOUND          1      F   \n16122        JOHN MUIR DR          4      B   \n16123    HWY 1 SOUTHBOUND          1      F   \n16124  HWY 101 NORTHBOUND          1      F   \n16125    I-280 SOUTHBOUND          1      F   \n16126      I-80 WESTBOUND          1      F   \n16127      I-80 EASTBOUND          1      F   \n16128           GREAT HWY          3      T   \n16129           GREAT HWY          3      F   \n\n                                              centerline       cnn  from_cnn  \\\n16120  [[-122.401495961, 37.7247557928], [-122.401839...  19222000  52123000   \n16121  [[-122.47262579, 37.7863148065], [-122.4725447...  19185000  27628000   \n16122  [[-122.485723865, 37.708085729], [-122.4862614...   7553000  33539000   \n16123  [[-122.469680996, 37.8024997839], [-122.469538...  19186000  52101000   \n16124  [[-122.450356379, 37.8034862443], [-122.450506...  15176000  54235000   \n16125  [[-122.392028946, 37.7506630819], [-122.392372...  19343000  52144000   \n16126  [[-122.367433795, 37.8078191912], [-122.388125...  14249000  53063000   \n16127  [[-122.388139084, 37.7885626445], [-122.367465...  14248000  52306000   \n16128  [[-122.510341319, 37.7640008332], [-122.510250...   6436101  27942000   \n16129  [[-122.510341319, 37.7640008332], [-122.510406...   6436201  27942000   \n\n         to_cnn                  from_cnn_coords  \\\n16120  52168000  [-122.401495961, 37.7247557928]   \n16121  52102000   [-122.47262579, 37.7863148065]   \n16122  23323000  [-122.485723866, 37.7080857299]   \n16123  27628000  [-122.469680996, 37.8024997839]   \n16124  52266000  [-122.450356379, 37.8034862443]   \n16125  52125000  [-122.392028947, 37.7506630819]   \n16126  52307000  [-122.367433795, 37.8078191921]   \n16127  53062000  [-122.388139084, 37.7885626445]   \n16128  32904000  [-122.510341319, 37.7640008332]   \n16129  32904000  [-122.510341319, 37.7640008332]   \n\n                         to_cnn_coords       length  \n16120  [-122.407970803, 37.7386174844]  1649.834517  \n16121   [-122.46939327, 37.8008108732]  1672.978234  \n16122  [-122.500220954, 37.7189555588]  1830.397209  \n16123   [-122.47262579, 37.7863148065]  1864.054877  \n16124  [-122.473088125, 37.8050227493]  2172.687327  \n16125  [-122.411473163, 37.7337860011]  2652.838756  \n16126   [-122.388125845, 37.788553802]  2807.945926  \n16127  [-122.367465625, 37.8078513432]  2808.865662  \n16128  [-122.506717429, 37.7354697579]  3188.999923  \n16129  [-122.506717429, 37.7354697579]  3189.057885  "
      ]
     },
     "execution_count": 63,
     "metadata": {},
     "output_type": "execute_result"
    }
   ],
   "source": [
    "comb_strt_seg.tail(10)"
   ]
  },
  {
   "cell_type": "code",
   "execution_count": 64,
   "metadata": {
    "autoscroll": false,
    "collapsed": false,
    "ein.tags": "worksheet-0",
    "slideshow": {
     "slide-type": "-"
    }
   },
   "outputs": [
    {
     "data": {
      "text/plain": [
       "685"
      ]
     },
     "execution_count": 64,
     "metadata": {},
     "output_type": "execute_result"
    }
   ],
   "source": [
    "grouped = comb_strt_seg.groupby(by=['from_cnn', 'to_cnn'])\n",
    "grouped = grouped.filter(lambda x: len(x) > 1).groupby(by=['from_cnn', 'to_cnn'], as_index=False)\n",
    "grouped.ngroups"
   ]
  },
  {
   "cell_type": "code",
   "execution_count": 65,
   "metadata": {
    "autoscroll": false,
    "collapsed": false,
    "ein.tags": "worksheet-0",
    "slideshow": {
     "slide-type": "-"
    }
   },
   "outputs": [
    {
     "data": {
      "text/plain": [
       "         streetname  classcode oneway  \\\n14859   FILLMORE ST          4      T   \n14865   FILLMORE ST          4      F   \n9930      MARKET ST          4      F   \n9950      MARKET ST          4      T   \n5159   HOLLOWAY AVE          5      F   \n6048   HOLLOWAY AVE          5      T   \n10973  WOODSIDE AVE          4      F   \n11415  WOODSIDE AVE          4      T   \n7987    LINCOLN WAY          3      T   \n8262    LINCOLN WAY          3      F   \n\n                                              centerline       cnn  from_cnn  \\\n14859  [[-122.43627391, 37.8008141445], [-122.4363812...   5568101  26763000   \n14865  [[-122.43627391, 37.8008141445], [-122.4362029...   5568201  26763000   \n9930   [[-122.397383446, 37.7924055215], [-122.397490...   8740201  30729000   \n9950   [[-122.397383446, 37.7924055215], [-122.397406...   8740101  30729000   \n5159   [[-122.475221952, 37.721057296], [-122.4754474...   6996201  23032000   \n6048   [[-122.475221952, 37.721057296], [-122.4754007...   6996101  23032000   \n10973  [[-122.458728518, 37.7467554297], [-122.458610...  13712201  22863000   \n11415  [[-122.458728518, 37.7467554297], [-122.458656...  13712101  22863000   \n7987   [[-122.478324821, 37.7653991358], [-122.478403...   8358101  27377000   \n8262   [[-122.478324821, 37.7653991358], [-122.478347...   8358201  27377000   \n\n         to_cnn                  from_cnn_coords  \\\n14859  26764000   [-122.43627391, 37.8008141445]   \n14865  26764000   [-122.43627391, 37.8008141445]   \n9930   30730000  [-122.397383446, 37.7924055215]   \n9950   30730000  [-122.397383446, 37.7924055215]   \n5159   23056000   [-122.475221952, 37.721057296]   \n6048   23056000   [-122.475221952, 37.721057296]   \n10973  22862000  [-122.458728518, 37.7467554297]   \n11415  22862000  [-122.458728518, 37.7467554297]   \n7987   27378000  [-122.478324821, 37.7653991358]   \n8262   27378000  [-122.478324821, 37.7653991358]   \n\n                         to_cnn_coords      length  \n14859  [-122.436693347, 37.8026284241]  210.291944  \n14865  [-122.436693347, 37.8026284241]  210.386048  \n9930   [-122.398264448, 37.7917160586]  111.676565  \n9950   [-122.398264448, 37.7917160586]  112.101990  \n5159    [-122.47606967, 37.7207799471]   81.863960  \n6048    [-122.47606967, 37.7207799471]   87.244901  \n10973  [-122.457166741, 37.7466980209]  139.456044  \n11415  [-122.457166741, 37.7466980209]  145.111226  \n7987    [-122.47939843, 37.7653509932]   96.166208  \n8262    [-122.47939843, 37.7653509932]   98.080417  "
      ]
     },
     "execution_count": 65,
     "metadata": {},
     "output_type": "execute_result"
    }
   ],
   "source": [
    "comb_strt_seg.take(np.array(grouped.groups.values()).flat).head(10)"
   ]
  },
  {
   "cell_type": "code",
   "execution_count": 66,
   "metadata": {
    "autoscroll": false,
    "collapsed": false,
    "ein.tags": "worksheet-0",
    "slideshow": {
     "slide-type": "-"
    }
   },
   "outputs": [],
   "source": [
    "comb_strt_seg.to_pickle('./street_data/street_segments.pickle')"
   ]
  },
  {
   "cell_type": "code",
   "execution_count": 67,
   "metadata": {
    "autoscroll": false,
    "collapsed": false,
    "ein.tags": "worksheet-0",
    "slideshow": {
     "slide-type": "-"
    }
   },
   "outputs": [
    {
     "data": {
      "text/plain": [
       "True"
      ]
     },
     "execution_count": 67,
     "metadata": {},
     "output_type": "execute_result"
    }
   ],
   "source": [
    "read = pd.read_pickle('./street_data/street_segments.pickle')\n",
    "(read == comb_strt_seg).all(axis=0).all()"
   ]
  }
 ],
 "metadata": {
  "anaconda-cloud": null,
  "kernelspec": {
   "display_name": "Python 2",
   "name": "python2"
  },
  "language_info": {
   "codemirror_mode": {
    "name": "ipython",
    "version": 2
   },
   "file_extension": ".py",
   "mimetype": "text/x-python",
   "name": "python",
   "nbconvert_exporter": "python",
   "pygments_lexer": "ipython2",
   "version": "2.7.13"
  },
  "name": "SF_Street_Data.ipynb"
 },
 "nbformat": 4,
 "nbformat_minor": 1
}
