{
 "cells": [
  {
   "cell_type": "code",
   "execution_count": 1,
   "metadata": {
    "collapsed": true
   },
   "outputs": [],
   "source": [
    "import pandas as pd\n",
    "import numpy as np\n",
    "import seaborn as sns\n",
    "import matplotlib.pyplot as plt\n",
    "import json"
   ]
  },
  {
   "cell_type": "code",
   "execution_count": 2,
   "metadata": {
    "collapsed": false
   },
   "outputs": [],
   "source": [
    "with open('./street_data/SF_Street Intersections.geojson') as fp:\n",
    "\n",
    "     strt_intersect = json.load(fp)"
   ]
  },
  {
   "cell_type": "code",
   "execution_count": 3,
   "metadata": {
    "collapsed": false
   },
   "outputs": [
    {
     "data": {
      "text/plain": [
       "{u'geometry': {u'coordinates': [-122.5109259470119, 37.77043567583329],\n",
       "  u'type': u'Point'},\n",
       " u'properties': {u'cnn': u'27966000',\n",
       "  u'cnntext': u'27966000',\n",
       "  u'st_name': u'JOHN F KENNEDY',\n",
       "  u'st_type': u'DR'},\n",
       " u'type': u'Feature'}"
      ]
     },
     "execution_count": 3,
     "metadata": {},
     "output_type": "execute_result"
    }
   ],
   "source": [
    "strt_intersect['features'][2]"
   ]
  },
  {
   "cell_type": "code",
   "execution_count": 4,
   "metadata": {
    "collapsed": false
   },
   "outputs": [
    {
     "data": {
      "text/plain": [
       "u'SAN JOSE'"
      ]
     },
     "execution_count": 4,
     "metadata": {},
     "output_type": "execute_result"
    }
   ],
   "source": [
    "strt_intersect['features'][3]['properties']['st_name']\n"
   ]
  },
  {
   "cell_type": "code",
   "execution_count": 5,
   "metadata": {
    "collapsed": true
   },
   "outputs": [],
   "source": [
    "strt_int = {}"
   ]
  },
  {
   "cell_type": "code",
   "execution_count": 6,
   "metadata": {
    "collapsed": false
   },
   "outputs": [],
   "source": [
    "for i in range(len(strt_intersect['features'])):\n",
    "    strt_int[strt_intersect['features'][i]['properties']['cnn']] = strt_intersect['features'][i]['geometry']['coordinates']\n",
    "    "
   ]
  },
  {
   "cell_type": "code",
   "execution_count": 7,
   "metadata": {
    "collapsed": false
   },
   "outputs": [
    {
     "data": {
      "text/plain": [
       "9645"
      ]
     },
     "execution_count": 7,
     "metadata": {},
     "output_type": "execute_result"
    }
   ],
   "source": [
    "len(strt_int)"
   ]
  },
  {
   "cell_type": "code",
   "execution_count": 8,
   "metadata": {
    "collapsed": true
   },
   "outputs": [],
   "source": [
    "strt_name = {}"
   ]
  },
  {
   "cell_type": "code",
   "execution_count": 9,
   "metadata": {
    "collapsed": false
   },
   "outputs": [],
   "source": [
    "for i in range(len(strt_intersect['features'])):\n",
    "    \n",
    "    if strt_intersect['features'][i]['properties']['cnn'] in strt_name:\n",
    "        strt_name[strt_intersect['features'][i]['properties']['cnn']].append(strt_intersect['features'][i]['properties']['st_name'])\n",
    "    \n",
    "    else:\n",
    "        strt_name[strt_intersect['features'][i]['properties']['cnn']] = [strt_intersect['features'][i]['properties']['st_name']]"
   ]
  },
  {
   "cell_type": "code",
   "execution_count": 10,
   "metadata": {
    "collapsed": false
   },
   "outputs": [
    {
     "data": {
      "text/plain": [
       "9645"
      ]
     },
     "execution_count": 10,
     "metadata": {},
     "output_type": "execute_result"
    }
   ],
   "source": [
    "len(strt_name)"
   ]
  },
  {
   "cell_type": "code",
   "execution_count": 11,
   "metadata": {
    "collapsed": true
   },
   "outputs": [],
   "source": [
    "street_info = pd.DataFrame(strt_int.items(), columns=['cnn', 'coords'])"
   ]
  },
  {
   "cell_type": "code",
   "execution_count": 12,
   "metadata": {
    "collapsed": false
   },
   "outputs": [
    {
     "data": {
      "text/html": [
       "<div>\n",
       "<table border=\"1\" class=\"dataframe\">\n",
       "  <thead>\n",
       "    <tr style=\"text-align: right;\">\n",
       "      <th></th>\n",
       "      <th>cnn</th>\n",
       "      <th>coords</th>\n",
       "    </tr>\n",
       "  </thead>\n",
       "  <tbody>\n",
       "    <tr>\n",
       "      <th>0</th>\n",
       "      <td>27380000</td>\n",
       "      <td>[-122.481702108, 37.7521400039]</td>\n",
       "    </tr>\n",
       "    <tr>\n",
       "      <th>1</th>\n",
       "      <td>22138000</td>\n",
       "      <td>[-122.442010215, 37.7299109493]</td>\n",
       "    </tr>\n",
       "  </tbody>\n",
       "</table>\n",
       "</div>"
      ],
      "text/plain": [
       "        cnn                           coords\n",
       "0  27380000  [-122.481702108, 37.7521400039]\n",
       "1  22138000  [-122.442010215, 37.7299109493]"
      ]
     },
     "execution_count": 12,
     "metadata": {},
     "output_type": "execute_result"
    }
   ],
   "source": [
    "street_info.head(2)"
   ]
  },
  {
   "cell_type": "code",
   "execution_count": 13,
   "metadata": {
    "collapsed": false
   },
   "outputs": [],
   "source": [
    "street_info['streets_at_intersection'] = street_info['cnn'].map(strt_name)"
   ]
  },
  {
   "cell_type": "code",
   "execution_count": 14,
   "metadata": {
    "collapsed": false
   },
   "outputs": [
    {
     "data": {
      "text/html": [
       "<div>\n",
       "<table border=\"1\" class=\"dataframe\">\n",
       "  <thead>\n",
       "    <tr style=\"text-align: right;\">\n",
       "      <th></th>\n",
       "      <th>cnn</th>\n",
       "      <th>coords</th>\n",
       "      <th>streets_at_intersection</th>\n",
       "    </tr>\n",
       "  </thead>\n",
       "  <tbody>\n",
       "    <tr>\n",
       "      <th>0</th>\n",
       "      <td>27380000</td>\n",
       "      <td>[-122.481702108, 37.7521400039]</td>\n",
       "      <td>[24TH, ORTEGA]</td>\n",
       "    </tr>\n",
       "    <tr>\n",
       "      <th>1</th>\n",
       "      <td>22138000</td>\n",
       "      <td>[-122.442010215, 37.7299109493]</td>\n",
       "      <td>[CONGO, FLOOD]</td>\n",
       "    </tr>\n",
       "    <tr>\n",
       "      <th>2</th>\n",
       "      <td>20758000</td>\n",
       "      <td>[-122.399685488, 37.7399019739]</td>\n",
       "      <td>[SELBY, INDUSTRIAL, OAKDALE]</td>\n",
       "    </tr>\n",
       "    <tr>\n",
       "      <th>3</th>\n",
       "      <td>27459000</td>\n",
       "      <td>[-122.47968537, 37.7677621052]</td>\n",
       "      <td>[MIDDLE WEST, TRANSVERSE]</td>\n",
       "    </tr>\n",
       "    <tr>\n",
       "      <th>4</th>\n",
       "      <td>51958000</td>\n",
       "      <td>[-122.370730314, 37.7093018209]</td>\n",
       "      <td>[TEVIS, FITZGERALD]</td>\n",
       "    </tr>\n",
       "  </tbody>\n",
       "</table>\n",
       "</div>"
      ],
      "text/plain": [
       "        cnn                           coords       streets_at_intersection\n",
       "0  27380000  [-122.481702108, 37.7521400039]                [24TH, ORTEGA]\n",
       "1  22138000  [-122.442010215, 37.7299109493]                [CONGO, FLOOD]\n",
       "2  20758000  [-122.399685488, 37.7399019739]  [SELBY, INDUSTRIAL, OAKDALE]\n",
       "3  27459000   [-122.47968537, 37.7677621052]     [MIDDLE WEST, TRANSVERSE]\n",
       "4  51958000  [-122.370730314, 37.7093018209]           [TEVIS, FITZGERALD]"
      ]
     },
     "execution_count": 14,
     "metadata": {},
     "output_type": "execute_result"
    }
   ],
   "source": [
    "street_info.head(5)"
   ]
  },
  {
   "cell_type": "code",
   "execution_count": 15,
   "metadata": {
    "collapsed": false
   },
   "outputs": [
    {
     "data": {
      "text/plain": [
       "[u'24TH', u'ORTEGA']"
      ]
     },
     "execution_count": 15,
     "metadata": {},
     "output_type": "execute_result"
    }
   ],
   "source": [
    "street_info.ix[0, 'streets_at_intersection']"
   ]
  },
  {
   "cell_type": "code",
   "execution_count": 16,
   "metadata": {
    "collapsed": false
   },
   "outputs": [
    {
     "data": {
      "text/html": [
       "<div>\n",
       "<table border=\"1\" class=\"dataframe\">\n",
       "  <thead>\n",
       "    <tr style=\"text-align: right;\">\n",
       "      <th></th>\n",
       "      <th>cnn</th>\n",
       "      <th>coords</th>\n",
       "      <th>streets_at_intersection</th>\n",
       "    </tr>\n",
       "  </thead>\n",
       "  <tbody>\n",
       "    <tr>\n",
       "      <th>0</th>\n",
       "      <td>27380000</td>\n",
       "      <td>[-122.481702108, 37.7521400039]</td>\n",
       "      <td>[24TH, ORTEGA]</td>\n",
       "    </tr>\n",
       "    <tr>\n",
       "      <th>1</th>\n",
       "      <td>22138000</td>\n",
       "      <td>[-122.442010215, 37.7299109493]</td>\n",
       "      <td>[CONGO, FLOOD]</td>\n",
       "    </tr>\n",
       "  </tbody>\n",
       "</table>\n",
       "</div>"
      ],
      "text/plain": [
       "        cnn                           coords streets_at_intersection\n",
       "0  27380000  [-122.481702108, 37.7521400039]          [24TH, ORTEGA]\n",
       "1  22138000  [-122.442010215, 37.7299109493]          [CONGO, FLOOD]"
      ]
     },
     "execution_count": 16,
     "metadata": {},
     "output_type": "execute_result"
    }
   ],
   "source": [
    "street_info.head(2)"
   ]
  },
  {
   "cell_type": "code",
   "execution_count": 17,
   "metadata": {
    "collapsed": false
   },
   "outputs": [
    {
     "name": "stdout",
     "output_type": "stream",
     "text": [
      "<class 'pandas.core.frame.DataFrame'>\n",
      "RangeIndex: 9645 entries, 0 to 9644\n",
      "Data columns (total 3 columns):\n",
      "cnn                        9645 non-null object\n",
      "coords                     9645 non-null object\n",
      "streets_at_intersection    9645 non-null object\n",
      "dtypes: object(3)\n",
      "memory usage: 226.1+ KB\n"
     ]
    }
   ],
   "source": [
    "street_info.info()"
   ]
  },
  {
   "cell_type": "code",
   "execution_count": 18,
   "metadata": {
    "collapsed": true
   },
   "outputs": [],
   "source": [
    "street_info['cnn'] = street_info['cnn'].astype(int)"
   ]
  },
  {
   "cell_type": "code",
   "execution_count": 19,
   "metadata": {
    "collapsed": false
   },
   "outputs": [
    {
     "data": {
      "text/plain": [
       "[-122.48170210760132, 37.7521400039038]"
      ]
     },
     "execution_count": 19,
     "metadata": {},
     "output_type": "execute_result"
    }
   ],
   "source": [
    "street_info['coords'][0]"
   ]
  },
  {
   "cell_type": "code",
   "execution_count": 20,
   "metadata": {
    "collapsed": false
   },
   "outputs": [
    {
     "data": {
      "text/html": [
       "<div>\n",
       "<table border=\"1\" class=\"dataframe\">\n",
       "  <thead>\n",
       "    <tr style=\"text-align: right;\">\n",
       "      <th></th>\n",
       "      <th>cnn</th>\n",
       "      <th>coords</th>\n",
       "      <th>streets_at_intersection</th>\n",
       "    </tr>\n",
       "  </thead>\n",
       "  <tbody>\n",
       "    <tr>\n",
       "      <th>110</th>\n",
       "      <td>52163000</td>\n",
       "      <td>[-122.393040237, 37.7631425484]</td>\n",
       "      <td>[I-280 S OFF]</td>\n",
       "    </tr>\n",
       "    <tr>\n",
       "      <th>5064</th>\n",
       "      <td>52236000</td>\n",
       "      <td>[-122.470552716, 37.7070437304]</td>\n",
       "      <td>[I-280 S OFF]</td>\n",
       "    </tr>\n",
       "    <tr>\n",
       "      <th>8752</th>\n",
       "      <td>52133000</td>\n",
       "      <td>[-122.447476767, 37.72451438]</td>\n",
       "      <td>[I-280 S OFF]</td>\n",
       "    </tr>\n",
       "    <tr>\n",
       "      <th>9104</th>\n",
       "      <td>52114000</td>\n",
       "      <td>[-122.392121021, 37.7534819532]</td>\n",
       "      <td>[I-280 S OFF]</td>\n",
       "    </tr>\n",
       "  </tbody>\n",
       "</table>\n",
       "</div>"
      ],
      "text/plain": [
       "           cnn                           coords streets_at_intersection\n",
       "110   52163000  [-122.393040237, 37.7631425484]           [I-280 S OFF]\n",
       "5064  52236000  [-122.470552716, 37.7070437304]           [I-280 S OFF]\n",
       "8752  52133000    [-122.447476767, 37.72451438]           [I-280 S OFF]\n",
       "9104  52114000  [-122.392121021, 37.7534819532]           [I-280 S OFF]"
      ]
     },
     "execution_count": 20,
     "metadata": {},
     "output_type": "execute_result"
    }
   ],
   "source": [
    "street_info[street_info['streets_at_intersection'].map(lambda x: x == ['I-280 S OFF'])]"
   ]
  },
  {
   "cell_type": "code",
   "execution_count": 21,
   "metadata": {
    "collapsed": false
   },
   "outputs": [
    {
     "data": {
      "text/plain": [
       "1426"
      ]
     },
     "execution_count": 21,
     "metadata": {},
     "output_type": "execute_result"
    }
   ],
   "source": [
    "len(street_info[street_info['streets_at_intersection'].map(lambda x: len(x)==1)])"
   ]
  },
  {
   "cell_type": "code",
   "execution_count": 22,
   "metadata": {
    "collapsed": false
   },
   "outputs": [
    {
     "data": {
      "text/html": [
       "<div>\n",
       "<table border=\"1\" class=\"dataframe\">\n",
       "  <thead>\n",
       "    <tr style=\"text-align: right;\">\n",
       "      <th></th>\n",
       "      <th>cnn</th>\n",
       "      <th>coords</th>\n",
       "      <th>streets_at_intersection</th>\n",
       "    </tr>\n",
       "  </thead>\n",
       "  <tbody>\n",
       "  </tbody>\n",
       "</table>\n",
       "</div>"
      ],
      "text/plain": [
       "Empty DataFrame\n",
       "Columns: [cnn, coords, streets_at_intersection]\n",
       "Index: []"
      ]
     },
     "execution_count": 22,
     "metadata": {},
     "output_type": "execute_result"
    }
   ],
   "source": [
    "street_info[street_info['cnn'].map(lambda x: x == '27579000')]"
   ]
  },
  {
   "cell_type": "code",
   "execution_count": 23,
   "metadata": {
    "collapsed": false
   },
   "outputs": [
    {
     "data": {
      "text/html": [
       "<div>\n",
       "<table border=\"1\" class=\"dataframe\">\n",
       "  <thead>\n",
       "    <tr style=\"text-align: right;\">\n",
       "      <th></th>\n",
       "      <th>cnn</th>\n",
       "      <th>coords</th>\n",
       "      <th>streets_at_intersection</th>\n",
       "    </tr>\n",
       "  </thead>\n",
       "  <tbody>\n",
       "  </tbody>\n",
       "</table>\n",
       "</div>"
      ],
      "text/plain": [
       "Empty DataFrame\n",
       "Columns: [cnn, coords, streets_at_intersection]\n",
       "Index: []"
      ]
     },
     "execution_count": 23,
     "metadata": {},
     "output_type": "execute_result"
    }
   ],
   "source": [
    "street_info[street_info['cnn'].map(lambda x: x == '27577000')]"
   ]
  },
  {
   "cell_type": "code",
   "execution_count": 24,
   "metadata": {
    "collapsed": true
   },
   "outputs": [],
   "source": [
    "strt_seg = pd.read_csv('./street_data/List_of_Streets_and_Intersections.csv')"
   ]
  },
  {
   "cell_type": "code",
   "execution_count": 25,
   "metadata": {
    "collapsed": false
   },
   "outputs": [
    {
     "data": {
      "text/html": [
       "<div>\n",
       "<table border=\"1\" class=\"dataframe\">\n",
       "  <thead>\n",
       "    <tr style=\"text-align: right;\">\n",
       "      <th></th>\n",
       "      <th>CNN</th>\n",
       "      <th>streetname</th>\n",
       "      <th>from_st</th>\n",
       "      <th>to_st</th>\n",
       "      <th>cardinal</th>\n",
       "      <th>addrange</th>\n",
       "      <th>limits</th>\n",
       "      <th>location</th>\n",
       "      <th>theOrder</th>\n",
       "      <th>LF_FADD</th>\n",
       "      <th>RT_FADD</th>\n",
       "      <th>LF_TADD</th>\n",
       "      <th>RT_TADD</th>\n",
       "      <th>FROM_CNN</th>\n",
       "      <th>TO_CNN</th>\n",
       "    </tr>\n",
       "  </thead>\n",
       "  <tbody>\n",
       "    <tr>\n",
       "      <th>0</th>\n",
       "      <td>30731000</td>\n",
       "      <td>01ST ST</td>\n",
       "      <td>BUSH ST \\ MARKET ST</td>\n",
       "      <td>NaN</td>\n",
       "      <td>NaN</td>\n",
       "      <td>NaN</td>\n",
       "      <td>BUSH ST \\ MARKET ST intersection</td>\n",
       "      <td>NaN</td>\n",
       "      <td>1</td>\n",
       "      <td>NaN</td>\n",
       "      <td>NaN</td>\n",
       "      <td>NaN</td>\n",
       "      <td>NaN</td>\n",
       "      <td>NaN</td>\n",
       "      <td>NaN</td>\n",
       "    </tr>\n",
       "    <tr>\n",
       "      <th>1</th>\n",
       "      <td>100000</td>\n",
       "      <td>01ST ST</td>\n",
       "      <td>BUSH ST \\ MARKET ST</td>\n",
       "      <td>STEVENSON ST</td>\n",
       "      <td>NaN</td>\n",
       "      <td>1 - 34</td>\n",
       "      <td>BUSH ST \\ MARKET ST to STEVENSON ST (1 - 34)</td>\n",
       "      <td>NaN</td>\n",
       "      <td>2</td>\n",
       "      <td>1.0</td>\n",
       "      <td>2.0</td>\n",
       "      <td>19.0</td>\n",
       "      <td>34.0</td>\n",
       "      <td>30731000.0</td>\n",
       "      <td>24666000.0</td>\n",
       "    </tr>\n",
       "  </tbody>\n",
       "</table>\n",
       "</div>"
      ],
      "text/plain": [
       "        CNN streetname              from_st         to_st cardinal addrange  \\\n",
       "0  30731000    01ST ST  BUSH ST \\ MARKET ST           NaN      NaN      NaN   \n",
       "1    100000    01ST ST  BUSH ST \\ MARKET ST  STEVENSON ST      NaN   1 - 34   \n",
       "\n",
       "                                         limits  location  theOrder  LF_FADD  \\\n",
       "0              BUSH ST \\ MARKET ST intersection       NaN         1      NaN   \n",
       "1  BUSH ST \\ MARKET ST to STEVENSON ST (1 - 34)       NaN         2      1.0   \n",
       "\n",
       "   RT_FADD  LF_TADD  RT_TADD    FROM_CNN      TO_CNN  \n",
       "0      NaN      NaN      NaN         NaN         NaN  \n",
       "1      2.0     19.0     34.0  30731000.0  24666000.0  "
      ]
     },
     "execution_count": 25,
     "metadata": {},
     "output_type": "execute_result"
    }
   ],
   "source": [
    "strt_seg.head(2)"
   ]
  },
  {
   "cell_type": "code",
   "execution_count": 26,
   "metadata": {
    "collapsed": false
   },
   "outputs": [],
   "source": [
    "strt_seg_df = strt_seg[strt_seg['limits'].map(lambda x: 'intersection' not in x.split(' '))]"
   ]
  },
  {
   "cell_type": "code",
   "execution_count": 27,
   "metadata": {
    "collapsed": false
   },
   "outputs": [],
   "source": [
    "strt_seg_df.reset_index(inplace=True)"
   ]
  },
  {
   "cell_type": "code",
   "execution_count": 28,
   "metadata": {
    "collapsed": false
   },
   "outputs": [
    {
     "name": "stdout",
     "output_type": "stream",
     "text": [
      "<class 'pandas.core.frame.DataFrame'>\n",
      "RangeIndex: 16187 entries, 0 to 16186\n",
      "Data columns (total 16 columns):\n",
      "index         16187 non-null int64\n",
      "CNN           16187 non-null int64\n",
      "streetname    16187 non-null object\n",
      "from_st       16187 non-null object\n",
      "to_st         16187 non-null object\n",
      "cardinal      2121 non-null object\n",
      "addrange      16187 non-null object\n",
      "limits        16187 non-null object\n",
      "location      0 non-null float64\n",
      "theOrder      16187 non-null int64\n",
      "LF_FADD       16187 non-null float64\n",
      "RT_FADD       16187 non-null float64\n",
      "LF_TADD       16187 non-null float64\n",
      "RT_TADD       16187 non-null float64\n",
      "FROM_CNN      16187 non-null float64\n",
      "TO_CNN        16187 non-null float64\n",
      "dtypes: float64(7), int64(3), object(6)\n",
      "memory usage: 2.0+ MB\n"
     ]
    }
   ],
   "source": [
    "strt_seg_df.info()"
   ]
  },
  {
   "cell_type": "code",
   "execution_count": 29,
   "metadata": {
    "collapsed": true
   },
   "outputs": [],
   "source": [
    "strt_seg_df = strt_seg_df[[x for x in strt_seg_df.columns if x in ['CNN','limits','FROM_CNN','TO_CNN']]]"
   ]
  },
  {
   "cell_type": "code",
   "execution_count": 30,
   "metadata": {
    "collapsed": false
   },
   "outputs": [
    {
     "data": {
      "text/html": [
       "<div>\n",
       "<table border=\"1\" class=\"dataframe\">\n",
       "  <thead>\n",
       "    <tr style=\"text-align: right;\">\n",
       "      <th></th>\n",
       "      <th>CNN</th>\n",
       "      <th>limits</th>\n",
       "      <th>FROM_CNN</th>\n",
       "      <th>TO_CNN</th>\n",
       "    </tr>\n",
       "  </thead>\n",
       "  <tbody>\n",
       "    <tr>\n",
       "      <th>0</th>\n",
       "      <td>100000</td>\n",
       "      <td>BUSH ST \\ MARKET ST to STEVENSON ST (1 - 34)</td>\n",
       "      <td>30731000.0</td>\n",
       "      <td>24666000.0</td>\n",
       "    </tr>\n",
       "    <tr>\n",
       "      <th>1</th>\n",
       "      <td>11113000</td>\n",
       "      <td>ROCKAWAY AVE to END (1 - 99)</td>\n",
       "      <td>22843000.0</td>\n",
       "      <td>50647000.0</td>\n",
       "    </tr>\n",
       "  </tbody>\n",
       "</table>\n",
       "</div>"
      ],
      "text/plain": [
       "        CNN                                        limits    FROM_CNN  \\\n",
       "0    100000  BUSH ST \\ MARKET ST to STEVENSON ST (1 - 34)  30731000.0   \n",
       "1  11113000                  ROCKAWAY AVE to END (1 - 99)  22843000.0   \n",
       "\n",
       "       TO_CNN  \n",
       "0  24666000.0  \n",
       "1  50647000.0  "
      ]
     },
     "execution_count": 30,
     "metadata": {},
     "output_type": "execute_result"
    }
   ],
   "source": [
    "strt_seg_df.head(2)"
   ]
  },
  {
   "cell_type": "code",
   "execution_count": 31,
   "metadata": {
    "collapsed": false
   },
   "outputs": [],
   "source": [
    "strt_seg_df['FROM_CNN'] = strt_seg_df['FROM_CNN'].astype(int)\n",
    "strt_seg_df['TO_CNN'] = strt_seg_df['TO_CNN'].astype(int)"
   ]
  },
  {
   "cell_type": "code",
   "execution_count": 32,
   "metadata": {
    "collapsed": false
   },
   "outputs": [
    {
     "name": "stdout",
     "output_type": "stream",
     "text": [
      "<class 'pandas.core.frame.DataFrame'>\n",
      "RangeIndex: 16187 entries, 0 to 16186\n",
      "Data columns (total 4 columns):\n",
      "CNN         16187 non-null int64\n",
      "limits      16187 non-null object\n",
      "FROM_CNN    16187 non-null int64\n",
      "TO_CNN      16187 non-null int64\n",
      "dtypes: int64(3), object(1)\n",
      "memory usage: 505.9+ KB\n"
     ]
    }
   ],
   "source": [
    "strt_seg_df.info()"
   ]
  },
  {
   "cell_type": "code",
   "execution_count": 33,
   "metadata": {
    "collapsed": false
   },
   "outputs": [
    {
     "name": "stdout",
     "output_type": "stream",
     "text": [
      "1000 loops, best of 3: 225 µs per loop\n"
     ]
    }
   ],
   "source": [
    "timeit street_info.iloc[1, 0]"
   ]
  },
  {
   "cell_type": "code",
   "execution_count": 34,
   "metadata": {
    "collapsed": true
   },
   "outputs": [],
   "source": [
    "from_cnn_latlon = {}\n",
    "to_cnn_latlon = {}"
   ]
  },
  {
   "cell_type": "code",
   "execution_count": 35,
   "metadata": {
    "collapsed": false
   },
   "outputs": [],
   "source": [
    "df1 = strt_seg_df.merge(street_info, how = 'inner', left_on='FROM_CNN', right_on='cnn')"
   ]
  },
  {
   "cell_type": "code",
   "execution_count": 36,
   "metadata": {
    "collapsed": false
   },
   "outputs": [
    {
     "data": {
      "text/html": [
       "<div>\n",
       "<table border=\"1\" class=\"dataframe\">\n",
       "  <thead>\n",
       "    <tr style=\"text-align: right;\">\n",
       "      <th></th>\n",
       "      <th>CNN</th>\n",
       "      <th>limits</th>\n",
       "      <th>FROM_CNN</th>\n",
       "      <th>TO_CNN</th>\n",
       "      <th>cnn</th>\n",
       "      <th>coords</th>\n",
       "      <th>streets_at_intersection</th>\n",
       "    </tr>\n",
       "  </thead>\n",
       "  <tbody>\n",
       "    <tr>\n",
       "      <th>0</th>\n",
       "      <td>100000</td>\n",
       "      <td>BUSH ST \\ MARKET ST to STEVENSON ST (1 - 34)</td>\n",
       "      <td>30731000</td>\n",
       "      <td>24666000</td>\n",
       "      <td>30731000</td>\n",
       "      <td>[-122.399148598, 37.791016649]</td>\n",
       "      <td>[MARKET, BUSH, 01ST]</td>\n",
       "    </tr>\n",
       "    <tr>\n",
       "      <th>1</th>\n",
       "      <td>8742201</td>\n",
       "      <td>01ST ST \\ BUSH ST to BATTERY ST (500 - 538) --...</td>\n",
       "      <td>30731000</td>\n",
       "      <td>30732000</td>\n",
       "      <td>30731000</td>\n",
       "      <td>[-122.399148598, 37.791016649]</td>\n",
       "      <td>[MARKET, BUSH, 01ST]</td>\n",
       "    </tr>\n",
       "    <tr>\n",
       "      <th>2</th>\n",
       "      <td>3419000</td>\n",
       "      <td>01ST ST \\ MARKET ST to BATTERY ST (1 - 99)</td>\n",
       "      <td>30731000</td>\n",
       "      <td>24672000</td>\n",
       "      <td>30731000</td>\n",
       "      <td>[-122.399148598, 37.791016649]</td>\n",
       "      <td>[MARKET, BUSH, 01ST]</td>\n",
       "    </tr>\n",
       "    <tr>\n",
       "      <th>3</th>\n",
       "      <td>8742101</td>\n",
       "      <td>01ST ST \\ BUSH ST to 02ND ST (501 - 599) -- SO...</td>\n",
       "      <td>30731000</td>\n",
       "      <td>30734000</td>\n",
       "      <td>30731000</td>\n",
       "      <td>[-122.399148598, 37.791016649]</td>\n",
       "      <td>[MARKET, BUSH, 01ST]</td>\n",
       "    </tr>\n",
       "    <tr>\n",
       "      <th>4</th>\n",
       "      <td>11113000</td>\n",
       "      <td>ROCKAWAY AVE to END (1 - 99)</td>\n",
       "      <td>22843000</td>\n",
       "      <td>50647000</td>\n",
       "      <td>22843000</td>\n",
       "      <td>[-122.456962905, 37.7433704314]</td>\n",
       "      <td>[ROCKAWAY, ROCKWOOD]</td>\n",
       "    </tr>\n",
       "  </tbody>\n",
       "</table>\n",
       "</div>"
      ],
      "text/plain": [
       "        CNN                                             limits  FROM_CNN  \\\n",
       "0    100000       BUSH ST \\ MARKET ST to STEVENSON ST (1 - 34)  30731000   \n",
       "1   8742201  01ST ST \\ BUSH ST to BATTERY ST (500 - 538) --...  30731000   \n",
       "2   3419000         01ST ST \\ MARKET ST to BATTERY ST (1 - 99)  30731000   \n",
       "3   8742101  01ST ST \\ BUSH ST to 02ND ST (501 - 599) -- SO...  30731000   \n",
       "4  11113000                       ROCKAWAY AVE to END (1 - 99)  22843000   \n",
       "\n",
       "     TO_CNN       cnn                           coords streets_at_intersection  \n",
       "0  24666000  30731000   [-122.399148598, 37.791016649]    [MARKET, BUSH, 01ST]  \n",
       "1  30732000  30731000   [-122.399148598, 37.791016649]    [MARKET, BUSH, 01ST]  \n",
       "2  24672000  30731000   [-122.399148598, 37.791016649]    [MARKET, BUSH, 01ST]  \n",
       "3  30734000  30731000   [-122.399148598, 37.791016649]    [MARKET, BUSH, 01ST]  \n",
       "4  50647000  22843000  [-122.456962905, 37.7433704314]    [ROCKAWAY, ROCKWOOD]  "
      ]
     },
     "execution_count": 36,
     "metadata": {},
     "output_type": "execute_result"
    }
   ],
   "source": [
    "df1.head()"
   ]
  },
  {
   "cell_type": "code",
   "execution_count": 37,
   "metadata": {
    "collapsed": true
   },
   "outputs": [],
   "source": [
    "df1.rename(columns={'coords':'from_cnn_coords'}, inplace=True)"
   ]
  },
  {
   "cell_type": "code",
   "execution_count": 38,
   "metadata": {
    "collapsed": false
   },
   "outputs": [],
   "source": [
    "df1.drop(labels='cnn',axis=1, inplace=True)"
   ]
  },
  {
   "cell_type": "code",
   "execution_count": 39,
   "metadata": {
    "collapsed": false
   },
   "outputs": [],
   "source": [
    "df1 = df1.merge(street_info, how='inner',left_on='TO_CNN',right_on='cnn')"
   ]
  },
  {
   "cell_type": "code",
   "execution_count": 40,
   "metadata": {
    "collapsed": false
   },
   "outputs": [],
   "source": [
    "df1.rename(columns={'coords':'to_cnn_coords'}, inplace=True)"
   ]
  },
  {
   "cell_type": "code",
   "execution_count": 41,
   "metadata": {
    "collapsed": true
   },
   "outputs": [],
   "source": [
    "df1.drop(labels=['limits','streets_at_intersection_x','streets_at_intersection_y','cnn'], axis=1, inplace=True)"
   ]
  },
  {
   "cell_type": "code",
   "execution_count": 42,
   "metadata": {
    "collapsed": false
   },
   "outputs": [
    {
     "data": {
      "text/html": [
       "<div>\n",
       "<table border=\"1\" class=\"dataframe\">\n",
       "  <thead>\n",
       "    <tr style=\"text-align: right;\">\n",
       "      <th></th>\n",
       "      <th>CNN</th>\n",
       "      <th>FROM_CNN</th>\n",
       "      <th>TO_CNN</th>\n",
       "      <th>from_cnn_coords</th>\n",
       "      <th>to_cnn_coords</th>\n",
       "    </tr>\n",
       "  </thead>\n",
       "  <tbody>\n",
       "    <tr>\n",
       "      <th>0</th>\n",
       "      <td>100000</td>\n",
       "      <td>30731000</td>\n",
       "      <td>24666000</td>\n",
       "      <td>[-122.399148598, 37.791016649]</td>\n",
       "      <td>[-122.398589511, 37.7905712253]</td>\n",
       "    </tr>\n",
       "    <tr>\n",
       "      <th>1</th>\n",
       "      <td>8742201</td>\n",
       "      <td>30731000</td>\n",
       "      <td>30732000</td>\n",
       "      <td>[-122.399148598, 37.791016649]</td>\n",
       "      <td>[-122.399504511, 37.7908053759]</td>\n",
       "    </tr>\n",
       "  </tbody>\n",
       "</table>\n",
       "</div>"
      ],
      "text/plain": [
       "       CNN  FROM_CNN    TO_CNN                 from_cnn_coords  \\\n",
       "0   100000  30731000  24666000  [-122.399148598, 37.791016649]   \n",
       "1  8742201  30731000  30732000  [-122.399148598, 37.791016649]   \n",
       "\n",
       "                     to_cnn_coords  \n",
       "0  [-122.398589511, 37.7905712253]  \n",
       "1  [-122.399504511, 37.7908053759]  "
      ]
     },
     "execution_count": 42,
     "metadata": {},
     "output_type": "execute_result"
    }
   ],
   "source": [
    "df1.head(2)"
   ]
  },
  {
   "cell_type": "code",
   "execution_count": 43,
   "metadata": {
    "collapsed": false
   },
   "outputs": [
    {
     "name": "stdout",
     "output_type": "stream",
     "text": [
      "<class 'pandas.core.frame.DataFrame'>\n",
      "Int64Index: 16130 entries, 0 to 16129\n",
      "Data columns (total 5 columns):\n",
      "CNN                16130 non-null int64\n",
      "FROM_CNN           16130 non-null int64\n",
      "TO_CNN             16130 non-null int64\n",
      "from_cnn_coords    16130 non-null object\n",
      "to_cnn_coords      16130 non-null object\n",
      "dtypes: int64(3), object(2)\n",
      "memory usage: 756.1+ KB\n"
     ]
    }
   ],
   "source": [
    "df1.info()"
   ]
  },
  {
   "cell_type": "code",
   "execution_count": 44,
   "metadata": {
    "collapsed": true
   },
   "outputs": [],
   "source": [
    "center_lines = pd.read_csv('./street_data/San_Francisco_Basemap_Street_Centerlines.csv')"
   ]
  },
  {
   "cell_type": "code",
   "execution_count": 45,
   "metadata": {
    "collapsed": false
   },
   "outputs": [
    {
     "name": "stdout",
     "output_type": "stream",
     "text": [
      "<class 'pandas.core.frame.DataFrame'>\n",
      "RangeIndex: 16187 entries, 0 to 16186\n",
      "Data columns (total 22 columns):\n",
      "accepted      16181 non-null object\n",
      "classcode     16187 non-null int64\n",
      "cnn           16187 non-null int64\n",
      "cnntext       16187 non-null int64\n",
      "district      0 non-null float64\n",
      "f_node_cnn    16187 non-null int64\n",
      "jurisdicti    13173 non-null object\n",
      "layer         16187 non-null object\n",
      "lf_fadd       16187 non-null int64\n",
      "lf_toadd      16187 non-null int64\n",
      "nhood         16186 non-null object\n",
      "oneway        16187 non-null object\n",
      "rt_fadd       16187 non-null int64\n",
      "rt_toadd      16187 non-null int64\n",
      "street        16187 non-null object\n",
      "streetname    16187 non-null object\n",
      "street_gc     16187 non-null object\n",
      "st_type       15794 non-null object\n",
      "t_node_cnn    16187 non-null int64\n",
      "zip_code      16187 non-null int64\n",
      "geometry      16187 non-null object\n",
      "multigeom     16187 non-null bool\n",
      "dtypes: bool(1), float64(1), int64(10), object(10)\n",
      "memory usage: 2.6+ MB\n"
     ]
    }
   ],
   "source": [
    "center_lines.info()"
   ]
  },
  {
   "cell_type": "code",
   "execution_count": 46,
   "metadata": {
    "collapsed": true
   },
   "outputs": [],
   "source": [
    "center_lines = center_lines[[x for x in center_lines.columns if x in ['cnn','classcode','streetname','oneway']]]"
   ]
  },
  {
   "cell_type": "code",
   "execution_count": 47,
   "metadata": {
    "collapsed": false
   },
   "outputs": [
    {
     "data": {
      "text/html": [
       "<div>\n",
       "<table border=\"1\" class=\"dataframe\">\n",
       "  <thead>\n",
       "    <tr style=\"text-align: right;\">\n",
       "      <th></th>\n",
       "      <th>classcode</th>\n",
       "      <th>cnn</th>\n",
       "      <th>oneway</th>\n",
       "      <th>streetname</th>\n",
       "    </tr>\n",
       "  </thead>\n",
       "  <tbody>\n",
       "    <tr>\n",
       "      <th>0</th>\n",
       "      <td>0</td>\n",
       "      <td>15145000</td>\n",
       "      <td>B</td>\n",
       "      <td>CROWN CT</td>\n",
       "    </tr>\n",
       "    <tr>\n",
       "      <th>1</th>\n",
       "      <td>0</td>\n",
       "      <td>11305001</td>\n",
       "      <td>B</td>\n",
       "      <td>SAINT GERMAIN AVE</td>\n",
       "    </tr>\n",
       "  </tbody>\n",
       "</table>\n",
       "</div>"
      ],
      "text/plain": [
       "   classcode       cnn oneway         streetname\n",
       "0          0  15145000      B           CROWN CT\n",
       "1          0  11305001      B  SAINT GERMAIN AVE"
      ]
     },
     "execution_count": 47,
     "metadata": {},
     "output_type": "execute_result"
    }
   ],
   "source": [
    "center_lines.head(2)"
   ]
  },
  {
   "cell_type": "code",
   "execution_count": 48,
   "metadata": {
    "collapsed": false
   },
   "outputs": [],
   "source": [
    "comb_strt_seg = center_lines.merge(df1, how='right',left_on='cnn',right_on='CNN')"
   ]
  },
  {
   "cell_type": "code",
   "execution_count": 49,
   "metadata": {
    "collapsed": false
   },
   "outputs": [
    {
     "name": "stdout",
     "output_type": "stream",
     "text": [
      "<class 'pandas.core.frame.DataFrame'>\n",
      "Int64Index: 16130 entries, 0 to 16129\n",
      "Data columns (total 9 columns):\n",
      "classcode          16130 non-null int64\n",
      "cnn                16130 non-null int64\n",
      "oneway             16130 non-null object\n",
      "streetname         16130 non-null object\n",
      "CNN                16130 non-null int64\n",
      "FROM_CNN           16130 non-null int64\n",
      "TO_CNN             16130 non-null int64\n",
      "from_cnn_coords    16130 non-null object\n",
      "to_cnn_coords      16130 non-null object\n",
      "dtypes: int64(5), object(4)\n",
      "memory usage: 1.2+ MB\n"
     ]
    }
   ],
   "source": [
    "comb_strt_seg.info()"
   ]
  },
  {
   "cell_type": "code",
   "execution_count": 50,
   "metadata": {
    "collapsed": true
   },
   "outputs": [],
   "source": [
    "comb_strt_seg.drop(labels='cnn',axis=1, inplace=True)"
   ]
  },
  {
   "cell_type": "code",
   "execution_count": 51,
   "metadata": {
    "collapsed": true
   },
   "outputs": [],
   "source": [
    "comb_strt_seg.rename(columns={'CNN':'cnn','FROM_CNN':'from_cnn','TO_CNN':'to_cnn'},inplace=True)"
   ]
  },
  {
   "cell_type": "code",
   "execution_count": 52,
   "metadata": {
    "collapsed": false
   },
   "outputs": [
    {
     "data": {
      "text/html": [
       "<div>\n",
       "<table border=\"1\" class=\"dataframe\">\n",
       "  <thead>\n",
       "    <tr style=\"text-align: right;\">\n",
       "      <th></th>\n",
       "      <th>classcode</th>\n",
       "      <th>oneway</th>\n",
       "      <th>streetname</th>\n",
       "      <th>cnn</th>\n",
       "      <th>from_cnn</th>\n",
       "      <th>to_cnn</th>\n",
       "      <th>from_cnn_coords</th>\n",
       "      <th>to_cnn_coords</th>\n",
       "    </tr>\n",
       "  </thead>\n",
       "  <tbody>\n",
       "    <tr>\n",
       "      <th>0</th>\n",
       "      <td>0</td>\n",
       "      <td>B</td>\n",
       "      <td>CROWN CT</td>\n",
       "      <td>15145000</td>\n",
       "      <td>26132000</td>\n",
       "      <td>54223000</td>\n",
       "      <td>[-122.446942444, 37.7572289215]</td>\n",
       "      <td>[-122.445867016, 37.7569364859]</td>\n",
       "    </tr>\n",
       "    <tr>\n",
       "      <th>1</th>\n",
       "      <td>0</td>\n",
       "      <td>B</td>\n",
       "      <td>SAINT GERMAIN AVE</td>\n",
       "      <td>11305001</td>\n",
       "      <td>26255000</td>\n",
       "      <td>54224000</td>\n",
       "      <td>[-122.447915266, 37.757589498]</td>\n",
       "      <td>[-122.448877014, 37.7575363275]</td>\n",
       "    </tr>\n",
       "    <tr>\n",
       "      <th>2</th>\n",
       "      <td>5</td>\n",
       "      <td>B</td>\n",
       "      <td>SAINT GERMAIN AVE</td>\n",
       "      <td>11305002</td>\n",
       "      <td>54224000</td>\n",
       "      <td>26247000</td>\n",
       "      <td>[-122.448877014, 37.7575363275]</td>\n",
       "      <td>[-122.450289302, 37.7574582341]</td>\n",
       "    </tr>\n",
       "    <tr>\n",
       "      <th>3</th>\n",
       "      <td>5</td>\n",
       "      <td>F</td>\n",
       "      <td>CORONA ST</td>\n",
       "      <td>13798000</td>\n",
       "      <td>35015000</td>\n",
       "      <td>35015000</td>\n",
       "      <td>[-122.466597727, 37.7259244744]</td>\n",
       "      <td>[-122.466597727, 37.7259244744]</td>\n",
       "    </tr>\n",
       "    <tr>\n",
       "      <th>4</th>\n",
       "      <td>5</td>\n",
       "      <td>B</td>\n",
       "      <td>FAIRFAX AVE</td>\n",
       "      <td>5389001</td>\n",
       "      <td>35016000</td>\n",
       "      <td>35017000</td>\n",
       "      <td>[-122.380850804, 37.7362793847]</td>\n",
       "      <td>[-122.381003701, 37.736790553]</td>\n",
       "    </tr>\n",
       "  </tbody>\n",
       "</table>\n",
       "</div>"
      ],
      "text/plain": [
       "   classcode oneway         streetname       cnn  from_cnn    to_cnn  \\\n",
       "0          0      B           CROWN CT  15145000  26132000  54223000   \n",
       "1          0      B  SAINT GERMAIN AVE  11305001  26255000  54224000   \n",
       "2          5      B  SAINT GERMAIN AVE  11305002  54224000  26247000   \n",
       "3          5      F          CORONA ST  13798000  35015000  35015000   \n",
       "4          5      B        FAIRFAX AVE   5389001  35016000  35017000   \n",
       "\n",
       "                   from_cnn_coords                    to_cnn_coords  \n",
       "0  [-122.446942444, 37.7572289215]  [-122.445867016, 37.7569364859]  \n",
       "1   [-122.447915266, 37.757589498]  [-122.448877014, 37.7575363275]  \n",
       "2  [-122.448877014, 37.7575363275]  [-122.450289302, 37.7574582341]  \n",
       "3  [-122.466597727, 37.7259244744]  [-122.466597727, 37.7259244744]  \n",
       "4  [-122.380850804, 37.7362793847]   [-122.381003701, 37.736790553]  "
      ]
     },
     "execution_count": 52,
     "metadata": {},
     "output_type": "execute_result"
    }
   ],
   "source": [
    "comb_strt_seg.head()"
   ]
  },
  {
   "cell_type": "code",
   "execution_count": 53,
   "metadata": {
    "collapsed": true
   },
   "outputs": [],
   "source": [
    "import distance"
   ]
  },
  {
   "cell_type": "code",
   "execution_count": 54,
   "metadata": {
    "collapsed": false
   },
   "outputs": [
    {
     "data": {
      "text/plain": [
       "99.91626420972686"
      ]
     },
     "execution_count": 54,
     "metadata": {},
     "output_type": "execute_result"
    }
   ],
   "source": [
    "distance.haversin(comb_strt_seg.ix[0,'from_cnn_coords'], comb_strt_seg.ix[0,'to_cnn_coords'])"
   ]
  },
  {
   "cell_type": "code",
   "execution_count": 55,
   "metadata": {
    "collapsed": true
   },
   "outputs": [],
   "source": [
    "import distance\n",
    "\n",
    "def dist_calc(row):\n",
    "    return distance.haversin(row['from_cnn_coords'], row['to_cnn_coords'])\n",
    "      \n",
    "            \n",
    "        \n",
    "    "
   ]
  },
  {
   "cell_type": "code",
   "execution_count": 56,
   "metadata": {
    "collapsed": true
   },
   "outputs": [],
   "source": [
    "comb_strt_seg['length']= comb_strt_seg.apply(dist_calc, axis=1)"
   ]
  },
  {
   "cell_type": "code",
   "execution_count": 63,
   "metadata": {
    "collapsed": false
   },
   "outputs": [],
   "source": [
    "comb_strt_seg = comb_strt_seg[comb_strt_seg.length != 0]"
   ]
  },
  {
   "cell_type": "code",
   "execution_count": 64,
   "metadata": {
    "collapsed": true
   },
   "outputs": [],
   "source": [
    "comb_strt_seg.reset_index(inplace=True)"
   ]
  },
  {
   "cell_type": "code",
   "execution_count": 69,
   "metadata": {
    "collapsed": false
   },
   "outputs": [
    {
     "data": {
      "text/html": [
       "<div>\n",
       "<table border=\"1\" class=\"dataframe\">\n",
       "  <thead>\n",
       "    <tr style=\"text-align: right;\">\n",
       "      <th></th>\n",
       "      <th>index</th>\n",
       "      <th>classcode</th>\n",
       "      <th>oneway</th>\n",
       "      <th>streetname</th>\n",
       "      <th>cnn</th>\n",
       "      <th>from_cnn</th>\n",
       "      <th>to_cnn</th>\n",
       "      <th>from_cnn_coords</th>\n",
       "      <th>to_cnn_coords</th>\n",
       "      <th>length</th>\n",
       "    </tr>\n",
       "  </thead>\n",
       "  <tbody>\n",
       "    <tr>\n",
       "      <th>0</th>\n",
       "      <td>0</td>\n",
       "      <td>0</td>\n",
       "      <td>B</td>\n",
       "      <td>CROWN CT</td>\n",
       "      <td>15145000</td>\n",
       "      <td>26132000</td>\n",
       "      <td>54223000</td>\n",
       "      <td>[-122.446942444, 37.7572289215]</td>\n",
       "      <td>[-122.445867016, 37.7569364859]</td>\n",
       "      <td>99.916264</td>\n",
       "    </tr>\n",
       "    <tr>\n",
       "      <th>1</th>\n",
       "      <td>1</td>\n",
       "      <td>0</td>\n",
       "      <td>B</td>\n",
       "      <td>SAINT GERMAIN AVE</td>\n",
       "      <td>11305001</td>\n",
       "      <td>26255000</td>\n",
       "      <td>54224000</td>\n",
       "      <td>[-122.447915266, 37.757589498]</td>\n",
       "      <td>[-122.448877014, 37.7575363275]</td>\n",
       "      <td>84.702128</td>\n",
       "    </tr>\n",
       "  </tbody>\n",
       "</table>\n",
       "</div>"
      ],
      "text/plain": [
       "   index  classcode oneway         streetname       cnn  from_cnn    to_cnn  \\\n",
       "0      0          0      B           CROWN CT  15145000  26132000  54223000   \n",
       "1      1          0      B  SAINT GERMAIN AVE  11305001  26255000  54224000   \n",
       "\n",
       "                   from_cnn_coords                    to_cnn_coords     length  \n",
       "0  [-122.446942444, 37.7572289215]  [-122.445867016, 37.7569364859]  99.916264  \n",
       "1   [-122.447915266, 37.757589498]  [-122.448877014, 37.7575363275]  84.702128  "
      ]
     },
     "execution_count": 69,
     "metadata": {},
     "output_type": "execute_result"
    }
   ],
   "source": [
    "comb_strt_seg.head(2)"
   ]
  },
  {
   "cell_type": "code",
   "execution_count": 71,
   "metadata": {
    "collapsed": false
   },
   "outputs": [
    {
     "name": "stderr",
     "output_type": "stream",
     "text": [
      "/Users/jyots/anaconda/envs/dsi/lib/python2.7/site-packages/ipykernel/__main__.py:1: FutureWarning: sort(columns=....) is deprecated, use sort_values(by=.....)\n",
      "  if __name__ == '__main__':\n",
      "/Users/jyots/anaconda/envs/dsi/lib/python2.7/site-packages/pandas/core/frame.py:3225: SettingWithCopyWarning: \n",
      "A value is trying to be set on a copy of a slice from a DataFrame\n",
      "\n",
      "See the caveats in the documentation: http://pandas.pydata.org/pandas-docs/stable/indexing.html#indexing-view-versus-copy\n",
      "  na_position=na_position)\n"
     ]
    }
   ],
   "source": [
    "comb_strt_seg.sort(columns='length',inplace=True)"
   ]
  },
  {
   "cell_type": "code",
   "execution_count": 75,
   "metadata": {
    "collapsed": false
   },
   "outputs": [],
   "source": [
    "comb_strt_seg.reset_index(inplace=True)"
   ]
  },
  {
   "cell_type": "code",
   "execution_count": 79,
   "metadata": {
    "collapsed": false
   },
   "outputs": [],
   "source": [
    "comb_strt_seg.drop(labels=['level_0','index'],axis=1,inplace=True)"
   ]
  },
  {
   "cell_type": "code",
   "execution_count": 80,
   "metadata": {
    "collapsed": false
   },
   "outputs": [
    {
     "data": {
      "text/html": [
       "<div>\n",
       "<table border=\"1\" class=\"dataframe\">\n",
       "  <thead>\n",
       "    <tr style=\"text-align: right;\">\n",
       "      <th></th>\n",
       "      <th>classcode</th>\n",
       "      <th>oneway</th>\n",
       "      <th>streetname</th>\n",
       "      <th>cnn</th>\n",
       "      <th>from_cnn</th>\n",
       "      <th>to_cnn</th>\n",
       "      <th>from_cnn_coords</th>\n",
       "      <th>to_cnn_coords</th>\n",
       "      <th>length</th>\n",
       "    </tr>\n",
       "  </thead>\n",
       "  <tbody>\n",
       "    <tr>\n",
       "      <th>0</th>\n",
       "      <td>5</td>\n",
       "      <td>B</td>\n",
       "      <td>GRANT AVE</td>\n",
       "      <td>6408000</td>\n",
       "      <td>25376000</td>\n",
       "      <td>25391000</td>\n",
       "      <td>[-122.407895702, 37.8022031597]</td>\n",
       "      <td>[-122.407898666, 37.8022180205]</td>\n",
       "      <td>1.671781</td>\n",
       "    </tr>\n",
       "    <tr>\n",
       "      <th>1</th>\n",
       "      <td>5</td>\n",
       "      <td>B</td>\n",
       "      <td>HYDE ST</td>\n",
       "      <td>7141000</td>\n",
       "      <td>30028000</td>\n",
       "      <td>25543000</td>\n",
       "      <td>[-122.419105547, 37.7994822746]</td>\n",
       "      <td>[-122.419109459, 37.799501833]</td>\n",
       "      <td>2.200408</td>\n",
       "    </tr>\n",
       "  </tbody>\n",
       "</table>\n",
       "</div>"
      ],
      "text/plain": [
       "   classcode oneway streetname      cnn  from_cnn    to_cnn  \\\n",
       "0          5      B  GRANT AVE  6408000  25376000  25391000   \n",
       "1          5      B    HYDE ST  7141000  30028000  25543000   \n",
       "\n",
       "                   from_cnn_coords                    to_cnn_coords    length  \n",
       "0  [-122.407895702, 37.8022031597]  [-122.407898666, 37.8022180205]  1.671781  \n",
       "1  [-122.419105547, 37.7994822746]   [-122.419109459, 37.799501833]  2.200408  "
      ]
     },
     "execution_count": 80,
     "metadata": {},
     "output_type": "execute_result"
    }
   ],
   "source": [
    "comb_strt_seg.head(2)"
   ]
  },
  {
   "cell_type": "code",
   "execution_count": 83,
   "metadata": {
    "collapsed": false
   },
   "outputs": [],
   "source": [
    "comb_strt_seg.to_csv('./street_data/processed_strt_data.csv')"
   ]
  },
  {
   "cell_type": "code",
   "execution_count": null,
   "metadata": {
    "collapsed": true
   },
   "outputs": [],
   "source": []
  }
 ],
 "metadata": {
  "anaconda-cloud": {},
  "kernelspec": {
   "display_name": "Python [conda env:dsi]",
   "language": "python",
   "name": "conda-env-dsi-py"
  },
  "language_info": {
   "codemirror_mode": {
    "name": "ipython",
    "version": 2
   },
   "file_extension": ".py",
   "mimetype": "text/x-python",
   "name": "python",
   "nbconvert_exporter": "python",
   "pygments_lexer": "ipython2",
   "version": "2.7.12"
  }
 },
 "nbformat": 4,
 "nbformat_minor": 1
}
