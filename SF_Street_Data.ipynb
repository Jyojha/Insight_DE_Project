{
 "cells": [
  {
   "cell_type": "code",
   "execution_count": 1,
   "metadata": {
    "autoscroll": false,
    "collapsed": false,
    "ein.tags": "worksheet-0",
    "slideshow": {
     "slide-type": "-"
    }
   },
   "outputs": [],
   "source": [
    "import numpy as np\n",
    "import pandas as pd\n",
    "import json"
   ]
  },
  {
   "cell_type": "code",
   "execution_count": 2,
   "metadata": {
    "autoscroll": false,
    "collapsed": false,
    "ein.tags": "worksheet-0",
    "slideshow": {
     "slide-type": "-"
    }
   },
   "outputs": [],
   "source": [
    "with open('./street_data/SF_Street Intersections.geojson') as fp:\n",
    "     strt_intersect = json.load(fp)"
   ]
  },
  {
   "cell_type": "code",
   "execution_count": 3,
   "metadata": {
    "autoscroll": false,
    "collapsed": false,
    "ein.tags": "worksheet-0",
    "slideshow": {
     "slide-type": "-"
    }
   },
   "outputs": [
    {
     "data": {
      "text/plain": [
       "{u'geometry': {u'coordinates': [-122.5109259470119, 37.77043567583329],\n  u'type': u'Point'},\n u'properties': {u'cnn': u'27966000',\n  u'cnntext': u'27966000',\n  u'st_name': u'JOHN F KENNEDY',\n  u'st_type': u'DR'},\n u'type': u'Feature'}"
      ]
     },
     "execution_count": 3,
     "metadata": {},
     "output_type": "execute_result"
    }
   ],
   "source": [
    "strt_intersect['features'][2]"
   ]
  },
  {
   "cell_type": "code",
   "execution_count": 4,
   "metadata": {
    "autoscroll": false,
    "collapsed": false,
    "ein.tags": "worksheet-0",
    "slideshow": {
     "slide-type": "-"
    }
   },
   "outputs": [
    {
     "data": {
      "text/plain": [
       "u'SAN JOSE'"
      ]
     },
     "execution_count": 4,
     "metadata": {},
     "output_type": "execute_result"
    }
   ],
   "source": [
    "strt_intersect['features'][3]['properties']['st_name']\n"
   ]
  },
  {
   "cell_type": "code",
   "execution_count": 5,
   "metadata": {
    "autoscroll": false,
    "collapsed": false,
    "ein.tags": "worksheet-0",
    "slideshow": {
     "slide-type": "-"
    }
   },
   "outputs": [],
   "source": [
    "strt_int = {}"
   ]
  },
  {
   "cell_type": "code",
   "execution_count": 6,
   "metadata": {
    "autoscroll": false,
    "collapsed": false,
    "ein.tags": "worksheet-0",
    "slideshow": {
     "slide-type": "-"
    }
   },
   "outputs": [],
   "source": [
    "for intersection in strt_intersect['features']:\n",
    "    strt_int[intersection['properties']['cnn']] = intersection['geometry']['coordinates']\n",
    "    "
   ]
  },
  {
   "cell_type": "code",
   "execution_count": 7,
   "metadata": {
    "autoscroll": false,
    "collapsed": false,
    "ein.tags": "worksheet-0",
    "slideshow": {
     "slide-type": "-"
    }
   },
   "outputs": [
    {
     "data": {
      "text/plain": [
       "9645"
      ]
     },
     "execution_count": 7,
     "metadata": {},
     "output_type": "execute_result"
    }
   ],
   "source": [
    "len(strt_int)"
   ]
  },
  {
   "cell_type": "code",
   "execution_count": 8,
   "metadata": {
    "autoscroll": false,
    "collapsed": false,
    "ein.tags": "worksheet-0",
    "slideshow": {
     "slide-type": "-"
    }
   },
   "outputs": [],
   "source": [
    "strt_name = {}"
   ]
  },
  {
   "cell_type": "code",
   "execution_count": 9,
   "metadata": {
    "autoscroll": false,
    "collapsed": false,
    "ein.tags": "worksheet-0",
    "slideshow": {
     "slide-type": "-"
    }
   },
   "outputs": [],
   "source": [
    "for intersection in strt_intersect['features']:\n",
    "    streets = strt_name.setdefault(intersection['properties']['cnn'], [])\n",
    "    streets.append(intersection['properties']['st_name'])"
   ]
  },
  {
   "cell_type": "code",
   "execution_count": 10,
   "metadata": {
    "autoscroll": false,
    "collapsed": false,
    "ein.tags": "worksheet-0",
    "slideshow": {
     "slide-type": "-"
    }
   },
   "outputs": [
    {
     "data": {
      "text/plain": [
       "9645"
      ]
     },
     "execution_count": 10,
     "metadata": {},
     "output_type": "execute_result"
    }
   ],
   "source": [
    "len(strt_name)"
   ]
  },
  {
   "cell_type": "code",
   "execution_count": 11,
   "metadata": {
    "autoscroll": false,
    "collapsed": false,
    "ein.tags": "worksheet-0",
    "slideshow": {
     "slide-type": "-"
    }
   },
   "outputs": [],
   "source": [
    "street_info = pd.DataFrame(strt_int.items(), columns=['cnn', 'coords'])"
   ]
  },
  {
   "cell_type": "code",
   "execution_count": 12,
   "metadata": {
    "autoscroll": false,
    "collapsed": false,
    "ein.tags": "worksheet-0",
    "slideshow": {
     "slide-type": "-"
    }
   },
   "outputs": [
    {
     "data": {
      "text/plain": [
       "        cnn                           coords\n0  27380000  [-122.481702108, 37.7521400039]\n1  22138000  [-122.442010215, 37.7299109493]"
      ]
     },
     "execution_count": 12,
     "metadata": {},
     "output_type": "execute_result"
    }
   ],
   "source": [
    "street_info.head(2)"
   ]
  },
  {
   "cell_type": "code",
   "execution_count": 13,
   "metadata": {
    "autoscroll": false,
    "collapsed": false,
    "ein.tags": "worksheet-0",
    "slideshow": {
     "slide-type": "-"
    }
   },
   "outputs": [],
   "source": [
    "street_info['streets_at_intersection'] = street_info['cnn'].map(strt_name)"
   ]
  },
  {
   "cell_type": "code",
   "execution_count": 14,
   "metadata": {
    "autoscroll": false,
    "collapsed": false,
    "ein.tags": "worksheet-0",
    "slideshow": {
     "slide-type": "-"
    }
   },
   "outputs": [
    {
     "data": {
      "text/plain": [
       "        cnn                           coords       streets_at_intersection\n0  27380000  [-122.481702108, 37.7521400039]                [24TH, ORTEGA]\n1  22138000  [-122.442010215, 37.7299109493]                [CONGO, FLOOD]\n2  20758000  [-122.399685488, 37.7399019739]  [SELBY, INDUSTRIAL, OAKDALE]\n3  27459000   [-122.47968537, 37.7677621052]     [MIDDLE WEST, TRANSVERSE]\n4  51958000  [-122.370730314, 37.7093018209]           [TEVIS, FITZGERALD]"
      ]
     },
     "execution_count": 14,
     "metadata": {},
     "output_type": "execute_result"
    }
   ],
   "source": [
    "street_info.head(5)"
   ]
  },
  {
   "cell_type": "code",
   "execution_count": 15,
   "metadata": {
    "autoscroll": false,
    "collapsed": false,
    "ein.tags": "worksheet-0",
    "slideshow": {
     "slide-type": "-"
    }
   },
   "outputs": [
    {
     "data": {
      "text/plain": [
       "0                           [24TH, ORTEGA]\n1                           [CONGO, FLOOD]\n2             [SELBY, INDUSTRIAL, OAKDALE]\n3                [MIDDLE WEST, TRANSVERSE]\n4                      [TEVIS, FITZGERALD]\n5                          [NORIEGA, 44TH]\n6                        [MISSION, PERSIA]\n7                             [25TH, YORK]\n8                        [COTTER, MISSION]\n9                                 [DONNER]\n10                             [NOE, 23RD]\n11                                 [VERNA]\n12                        [SCOTT, LOMBARD]\n13                           [GEARY, 06TH]\n14                     [SILLIMAN, BOWDOIN]\n15                          [OAK, WEBSTER]\n16                                [POPLAR]\n17                               [ORIZABA]\n18                         [05TH, KIRKHAM]\n19                       [26TH, TENNESSEE]\n20                         [JERROLD, EARL]\n21                    [CLEMENTINA, KAPLAN]\n22                     [LINDSAY, LA SALLE]\n23                        [SUTTER, MARKET]\n24                [OAKDALE, HOLLADAY, JOY]\n25                              [CASTILLO]\n26                       [DONNER, INGALLS]\n27                          [ZOO, SKYLINE]\n28                     [HOLLOWAY, MIRAMAR]\n29                         [SELBY, REVERE]\n                       ...                \n9615       [UNNAMED 075, FISHER, INFANTRY]\n9616                         [SFGH ACCESS]\n9617                             [MELROSE]\n9618                             [FLORIDA]\n9619                  [VICTORIA, PALMETTO]\n9620                    [BRODERICK, BEACH]\n9621              [KITTREDGE, GOLDEN GATE]\n9622                     [PACIFIC, PELTON]\n9623                   [CLINTON, VALENCIA]\n9624                     [07TH, CLEVELAND]\n9625                         [EDDY, GOUGH]\n9626                        [CHABOT, TURK]\n9627                     [SENECA, BANNOCK]\n9628                      [25TH, QUINTARA]\n9629                    [CLARION, MISSION]\n9630                    [PHOENIX, PACIFIC]\n9631              [JUNIPERO SERRA, DARIEN]\n9632                    [PINE, DIVISADERO]\n9633                    [MCKINNON, RANKIN]\n9634                          [YORK, 23RD]\n9635                      [KEITH, QUESADA]\n9636                      [GIRARD, GORGAS]\n9637                      [STILL, ROTTECK]\n9638    [CANDLESTICK COVE, EXECUTIVE PARK]\n9639                    [THORNTON, ELMIRA]\n9640                       [20TH, LINCOLN]\n9641                      [BUCHANAN, POST]\n9642                 [SHOTWELL, MONTEZUMA]\n9643                       [NORIEGA, 20TH]\n9644               [SUSSEX, BEMIS, CASTRO]\nName: streets_at_intersection, dtype: object"
      ]
     },
     "execution_count": 15,
     "metadata": {},
     "output_type": "execute_result"
    }
   ],
   "source": [
    "street_info['streets_at_intersection']"
   ]
  },
  {
   "cell_type": "code",
   "execution_count": 16,
   "metadata": {
    "autoscroll": false,
    "collapsed": false,
    "ein.tags": "worksheet-0",
    "slideshow": {
     "slide-type": "-"
    }
   },
   "outputs": [
    {
     "data": {
      "text/plain": [
       "        cnn                           coords streets_at_intersection\n0  27380000  [-122.481702108, 37.7521400039]          [24TH, ORTEGA]\n1  22138000  [-122.442010215, 37.7299109493]          [CONGO, FLOOD]"
      ]
     },
     "execution_count": 16,
     "metadata": {},
     "output_type": "execute_result"
    }
   ],
   "source": [
    "street_info.head(2)"
   ]
  },
  {
   "cell_type": "code",
   "execution_count": 17,
   "metadata": {
    "autoscroll": false,
    "collapsed": false,
    "ein.tags": "worksheet-0",
    "slideshow": {
     "slide-type": "-"
    }
   },
   "outputs": [
    {
     "name": "stdout",
     "output_type": "stream",
     "text": [
      "<class 'pandas.core.frame.DataFrame'>\n",
      "RangeIndex: 9645 entries, 0 to 9644\n",
      "Data columns (total 3 columns):\n",
      "cnn                        9645 non-null object\n",
      "coords                     9645 non-null object\n",
      "streets_at_intersection    9645 non-null object\n",
      "dtypes: object(3)\n",
      "memory usage: 226.1+ KB\n"
     ]
    }
   ],
   "source": [
    "street_info.info()"
   ]
  },
  {
   "cell_type": "code",
   "execution_count": 18,
   "metadata": {
    "autoscroll": false,
    "collapsed": false,
    "ein.tags": "worksheet-0",
    "slideshow": {
     "slide-type": "-"
    }
   },
   "outputs": [],
   "source": [
    "street_info['cnn'] = street_info['cnn'].astype(int)"
   ]
  },
  {
   "cell_type": "code",
   "execution_count": 19,
   "metadata": {
    "autoscroll": false,
    "collapsed": false,
    "ein.tags": "worksheet-0",
    "slideshow": {
     "slide-type": "-"
    }
   },
   "outputs": [
    {
     "data": {
      "text/plain": [
       "[-122.48170210760132, 37.7521400039038]"
      ]
     },
     "execution_count": 19,
     "metadata": {},
     "output_type": "execute_result"
    }
   ],
   "source": [
    "street_info['coords'][0]"
   ]
  },
  {
   "cell_type": "code",
   "execution_count": 20,
   "metadata": {
    "autoscroll": false,
    "collapsed": false,
    "ein.tags": "worksheet-0",
    "slideshow": {
     "slide-type": "-"
    }
   },
   "outputs": [
    {
     "data": {
      "text/plain": [
       "           cnn                           coords streets_at_intersection\n110   52163000  [-122.393040237, 37.7631425484]           [I-280 S OFF]\n5064  52236000  [-122.470552716, 37.7070437304]           [I-280 S OFF]\n8752  52133000    [-122.447476767, 37.72451438]           [I-280 S OFF]\n9104  52114000  [-122.392121021, 37.7534819532]           [I-280 S OFF]"
      ]
     },
     "execution_count": 20,
     "metadata": {},
     "output_type": "execute_result"
    }
   ],
   "source": [
    "street_info[street_info['streets_at_intersection'].map(lambda x: x == ['I-280 S OFF'])]"
   ]
  },
  {
   "cell_type": "code",
   "execution_count": 21,
   "metadata": {
    "autoscroll": false,
    "collapsed": false,
    "ein.tags": "worksheet-0",
    "slideshow": {
     "slide-type": "-"
    }
   },
   "outputs": [
    {
     "data": {
      "text/plain": [
       "1426"
      ]
     },
     "execution_count": 21,
     "metadata": {},
     "output_type": "execute_result"
    }
   ],
   "source": [
    "len(street_info[street_info['streets_at_intersection'].map(lambda x: len(x)==1)])"
   ]
  },
  {
   "cell_type": "code",
   "execution_count": 22,
   "metadata": {
    "autoscroll": false,
    "collapsed": false,
    "ein.tags": "worksheet-0",
    "slideshow": {
     "slide-type": "-"
    }
   },
   "outputs": [
    {
     "data": {
      "text/plain": [
       "Empty DataFrame\nColumns: [cnn, coords, streets_at_intersection]\nIndex: []"
      ]
     },
     "execution_count": 22,
     "metadata": {},
     "output_type": "execute_result"
    }
   ],
   "source": [
    "street_info[street_info['cnn'].map(lambda x: x == '27579000')]"
   ]
  },
  {
   "cell_type": "code",
   "execution_count": 23,
   "metadata": {
    "autoscroll": false,
    "collapsed": false,
    "ein.tags": "worksheet-0",
    "slideshow": {
     "slide-type": "-"
    }
   },
   "outputs": [
    {
     "data": {
      "text/plain": [
       "Empty DataFrame\nColumns: [cnn, coords, streets_at_intersection]\nIndex: []"
      ]
     },
     "execution_count": 23,
     "metadata": {},
     "output_type": "execute_result"
    }
   ],
   "source": [
    "street_info[street_info['cnn'].map(lambda x: x == '27577000')]"
   ]
  },
  {
   "cell_type": "code",
   "execution_count": 24,
   "metadata": {
    "autoscroll": false,
    "collapsed": false,
    "ein.tags": "worksheet-0",
    "slideshow": {
     "slide-type": "-"
    }
   },
   "outputs": [],
   "source": [
    "strt_seg = pd.read_csv('./street_data/List_of_Streets_and_Intersections.csv')"
   ]
  },
  {
   "cell_type": "code",
   "execution_count": 25,
   "metadata": {
    "autoscroll": false,
    "collapsed": false,
    "ein.tags": "worksheet-0",
    "slideshow": {
     "slide-type": "-"
    }
   },
   "outputs": [
    {
     "data": {
      "text/plain": [
       "        CNN streetname              from_st         to_st cardinal addrange  \\\n0  30731000    01ST ST  BUSH ST \\ MARKET ST           NaN      NaN      NaN   \n1    100000    01ST ST  BUSH ST \\ MARKET ST  STEVENSON ST      NaN   1 - 34   \n\n                                         limits  location  theOrder  LF_FADD  \\\n0              BUSH ST \\ MARKET ST intersection       NaN         1      NaN   \n1  BUSH ST \\ MARKET ST to STEVENSON ST (1 - 34)       NaN         2      1.0   \n\n   RT_FADD  LF_TADD  RT_TADD    FROM_CNN      TO_CNN  \n0      NaN      NaN      NaN         NaN         NaN  \n1      2.0     19.0     34.0  30731000.0  24666000.0  "
      ]
     },
     "execution_count": 25,
     "metadata": {},
     "output_type": "execute_result"
    }
   ],
   "source": [
    "strt_seg.head(2)"
   ]
  },
  {
   "cell_type": "code",
   "execution_count": 26,
   "metadata": {
    "autoscroll": false,
    "collapsed": false,
    "ein.tags": "worksheet-0",
    "slideshow": {
     "slide-type": "-"
    }
   },
   "outputs": [
    {
     "name": "stdout",
     "output_type": "stream",
     "text": [
      "<class 'pandas.core.frame.DataFrame'>\n",
      "RangeIndex: 34665 entries, 0 to 34664\n",
      "Data columns (total 15 columns):\n",
      "CNN           34665 non-null int64\n",
      "streetname    34665 non-null object\n",
      "from_st       34665 non-null object\n",
      "to_st         16187 non-null object\n",
      "cardinal      2121 non-null object\n",
      "addrange      16187 non-null object\n",
      "limits        34665 non-null object\n",
      "location      0 non-null float64\n",
      "theOrder      34665 non-null int64\n",
      "LF_FADD       16187 non-null float64\n",
      "RT_FADD       16187 non-null float64\n",
      "LF_TADD       16187 non-null float64\n",
      "RT_TADD       16187 non-null float64\n",
      "FROM_CNN      16187 non-null float64\n",
      "TO_CNN        16187 non-null float64\n",
      "dtypes: float64(7), int64(2), object(6)\n",
      "memory usage: 4.0+ MB\n"
     ]
    }
   ],
   "source": [
    "strt_seg.info()"
   ]
  },
  {
   "cell_type": "code",
   "execution_count": 27,
   "metadata": {
    "autoscroll": false,
    "collapsed": false,
    "ein.tags": "worksheet-0",
    "slideshow": {
     "slide-type": "-"
    }
   },
   "outputs": [],
   "source": [
    "strt_seg_df = strt_seg.dropna(axis='index', how='any', subset=['TO_CNN', 'FROM_CNN'])"
   ]
  },
  {
   "cell_type": "code",
   "execution_count": 28,
   "metadata": {
    "autoscroll": false,
    "collapsed": false,
    "ein.tags": "worksheet-0",
    "slideshow": {
     "slide-type": "-"
    }
   },
   "outputs": [],
   "source": [
    "strt_seg_df.reset_index(inplace=True)"
   ]
  },
  {
   "cell_type": "code",
   "execution_count": 29,
   "metadata": {
    "autoscroll": false,
    "collapsed": false,
    "ein.tags": "worksheet-0",
    "slideshow": {
     "slide-type": "-"
    }
   },
   "outputs": [
    {
     "name": "stdout",
     "output_type": "stream",
     "text": [
      "<class 'pandas.core.frame.DataFrame'>\n",
      "RangeIndex: 16187 entries, 0 to 16186\n",
      "Data columns (total 16 columns):\n",
      "index         16187 non-null int64\n",
      "CNN           16187 non-null int64\n",
      "streetname    16187 non-null object\n",
      "from_st       16187 non-null object\n",
      "to_st         16187 non-null object\n",
      "cardinal      2121 non-null object\n",
      "addrange      16187 non-null object\n",
      "limits        16187 non-null object\n",
      "location      0 non-null float64\n",
      "theOrder      16187 non-null int64\n",
      "LF_FADD       16187 non-null float64\n",
      "RT_FADD       16187 non-null float64\n",
      "LF_TADD       16187 non-null float64\n",
      "RT_TADD       16187 non-null float64\n",
      "FROM_CNN      16187 non-null float64\n",
      "TO_CNN        16187 non-null float64\n",
      "dtypes: float64(7), int64(3), object(6)\n",
      "memory usage: 2.0+ MB\n"
     ]
    }
   ],
   "source": [
    "strt_seg_df.info()"
   ]
  },
  {
   "cell_type": "code",
   "execution_count": 30,
   "metadata": {
    "autoscroll": false,
    "collapsed": false,
    "ein.tags": "worksheet-0",
    "slideshow": {
     "slide-type": "-"
    }
   },
   "outputs": [],
   "source": [
    "strt_seg_df = strt_seg_df[['CNN', 'FROM_CNN', 'TO_CNN']]"
   ]
  },
  {
   "cell_type": "code",
   "execution_count": 31,
   "metadata": {
    "autoscroll": false,
    "collapsed": false,
    "ein.tags": "worksheet-0",
    "slideshow": {
     "slide-type": "-"
    }
   },
   "outputs": [
    {
     "data": {
      "text/plain": [
       "        CNN    FROM_CNN      TO_CNN\n0    100000  30731000.0  24666000.0\n1  11113000  22843000.0  50647000.0"
      ]
     },
     "execution_count": 31,
     "metadata": {},
     "output_type": "execute_result"
    }
   ],
   "source": [
    "strt_seg_df.head(2)"
   ]
  },
  {
   "cell_type": "code",
   "execution_count": 32,
   "metadata": {
    "autoscroll": false,
    "collapsed": false,
    "ein.tags": "worksheet-0",
    "slideshow": {
     "slide-type": "-"
    }
   },
   "outputs": [],
   "source": [
    "strt_seg_df['FROM_CNN'] = strt_seg_df['FROM_CNN'].astype(int)\n",
    "strt_seg_df['TO_CNN'] = strt_seg_df['TO_CNN'].astype(int)"
   ]
  },
  {
   "cell_type": "code",
   "execution_count": 33,
   "metadata": {
    "autoscroll": false,
    "collapsed": false,
    "ein.tags": "worksheet-0",
    "slideshow": {
     "slide-type": "-"
    }
   },
   "outputs": [
    {
     "name": "stdout",
     "output_type": "stream",
     "text": [
      "<class 'pandas.core.frame.DataFrame'>\n",
      "RangeIndex: 16187 entries, 0 to 16186\n",
      "Data columns (total 3 columns):\n",
      "CNN         16187 non-null int64\n",
      "FROM_CNN    16187 non-null int64\n",
      "TO_CNN      16187 non-null int64\n",
      "dtypes: int64(3)\n",
      "memory usage: 379.5 KB\n"
     ]
    }
   ],
   "source": [
    "strt_seg_df.info()"
   ]
  },
  {
   "cell_type": "code",
   "execution_count": 34,
   "metadata": {
    "autoscroll": false,
    "collapsed": false,
    "ein.tags": "worksheet-0",
    "slideshow": {
     "slide-type": "-"
    }
   },
   "outputs": [],
   "source": [
    "df1 = strt_seg_df.merge(street_info, how='inner', left_on='FROM_CNN', right_on='cnn')"
   ]
  },
  {
   "cell_type": "code",
   "execution_count": 35,
   "metadata": {
    "autoscroll": false,
    "collapsed": false,
    "ein.tags": "worksheet-0",
    "slideshow": {
     "slide-type": "-"
    }
   },
   "outputs": [
    {
     "data": {
      "text/plain": [
       "        CNN  FROM_CNN    TO_CNN       cnn                           coords  \\\n0    100000  30731000  24666000  30731000   [-122.399148598, 37.791016649]   \n1   8742201  30731000  30732000  30731000   [-122.399148598, 37.791016649]   \n2   3419000  30731000  24672000  30731000   [-122.399148598, 37.791016649]   \n3   8742101  30731000  30734000  30731000   [-122.399148598, 37.791016649]   \n4  11113000  22843000  50647000  22843000  [-122.456962905, 37.7433704314]   \n\n  streets_at_intersection  \n0    [MARKET, BUSH, 01ST]  \n1    [MARKET, BUSH, 01ST]  \n2    [MARKET, BUSH, 01ST]  \n3    [MARKET, BUSH, 01ST]  \n4    [ROCKAWAY, ROCKWOOD]  "
      ]
     },
     "execution_count": 35,
     "metadata": {},
     "output_type": "execute_result"
    }
   ],
   "source": [
    "df1.head()"
   ]
  },
  {
   "cell_type": "code",
   "execution_count": 36,
   "metadata": {
    "autoscroll": false,
    "collapsed": false,
    "ein.tags": "worksheet-0",
    "slideshow": {
     "slide-type": "-"
    }
   },
   "outputs": [],
   "source": [
    "df1.rename(columns={'coords': 'from_cnn_coords'}, inplace=True)"
   ]
  },
  {
   "cell_type": "code",
   "execution_count": 37,
   "metadata": {
    "autoscroll": false,
    "collapsed": false,
    "ein.tags": "worksheet-0",
    "slideshow": {
     "slide-type": "-"
    }
   },
   "outputs": [],
   "source": [
    "df1.drop(labels=['cnn', 'streets_at_intersection'], axis=1, inplace=True)"
   ]
  },
  {
   "cell_type": "code",
   "execution_count": 38,
   "metadata": {
    "autoscroll": false,
    "collapsed": false,
    "ein.tags": "worksheet-0",
    "slideshow": {
     "slide-type": "-"
    }
   },
   "outputs": [
    {
     "name": "stdout",
     "output_type": "stream",
     "text": [
      "<class 'pandas.core.frame.DataFrame'>\n",
      "Int64Index: 16146 entries, 0 to 16145\n",
      "Data columns (total 4 columns):\n",
      "CNN                16146 non-null int64\n",
      "FROM_CNN           16146 non-null int64\n",
      "TO_CNN             16146 non-null int64\n",
      "from_cnn_coords    16146 non-null object\n",
      "dtypes: int64(3), object(1)\n",
      "memory usage: 630.7+ KB\n"
     ]
    }
   ],
   "source": [
    "df1.info()"
   ]
  },
  {
   "cell_type": "code",
   "execution_count": 39,
   "metadata": {
    "autoscroll": false,
    "collapsed": false,
    "ein.tags": "worksheet-0",
    "slideshow": {
     "slide-type": "-"
    }
   },
   "outputs": [],
   "source": [
    "df1 = df1.merge(street_info, how='inner', left_on='TO_CNN', right_on='cnn')"
   ]
  },
  {
   "cell_type": "code",
   "execution_count": 40,
   "metadata": {
    "autoscroll": false,
    "collapsed": false,
    "ein.tags": "worksheet-0",
    "slideshow": {
     "slide-type": "-"
    }
   },
   "outputs": [],
   "source": [
    "df1.rename(columns={'coords': 'to_cnn_coords'}, inplace=True)"
   ]
  },
  {
   "cell_type": "code",
   "execution_count": 41,
   "metadata": {
    "autoscroll": false,
    "collapsed": false,
    "ein.tags": "worksheet-0",
    "slideshow": {
     "slide-type": "-"
    }
   },
   "outputs": [
    {
     "name": "stdout",
     "output_type": "stream",
     "text": [
      "<class 'pandas.core.frame.DataFrame'>\n",
      "Int64Index: 16130 entries, 0 to 16129\n",
      "Data columns (total 7 columns):\n",
      "CNN                        16130 non-null int64\n",
      "FROM_CNN                   16130 non-null int64\n",
      "TO_CNN                     16130 non-null int64\n",
      "from_cnn_coords            16130 non-null object\n",
      "cnn                        16130 non-null int64\n",
      "to_cnn_coords              16130 non-null object\n",
      "streets_at_intersection    16130 non-null object\n",
      "dtypes: int64(4), object(3)\n",
      "memory usage: 1008.1+ KB\n"
     ]
    }
   ],
   "source": [
    "df1.info()"
   ]
  },
  {
   "cell_type": "code",
   "execution_count": 42,
   "metadata": {
    "autoscroll": false,
    "collapsed": false,
    "ein.tags": "worksheet-0",
    "slideshow": {
     "slide-type": "-"
    }
   },
   "outputs": [],
   "source": [
    "df1.drop(labels=['streets_at_intersection', 'cnn'], axis=1, inplace=True)"
   ]
  },
  {
   "cell_type": "code",
   "execution_count": 43,
   "metadata": {
    "autoscroll": false,
    "collapsed": false,
    "ein.tags": "worksheet-0",
    "slideshow": {
     "slide-type": "-"
    }
   },
   "outputs": [
    {
     "data": {
      "text/plain": [
       "       CNN  FROM_CNN    TO_CNN                 from_cnn_coords  \\\n0   100000  30731000  24666000  [-122.399148598, 37.791016649]   \n1  8742201  30731000  30732000  [-122.399148598, 37.791016649]   \n\n                     to_cnn_coords  \n0  [-122.398589511, 37.7905712253]  \n1  [-122.399504511, 37.7908053759]  "
      ]
     },
     "execution_count": 43,
     "metadata": {},
     "output_type": "execute_result"
    }
   ],
   "source": [
    "df1.head(2)"
   ]
  },
  {
   "cell_type": "code",
   "execution_count": 44,
   "metadata": {
    "autoscroll": false,
    "collapsed": false,
    "ein.tags": "worksheet-0",
    "slideshow": {
     "slide-type": "-"
    }
   },
   "outputs": [
    {
     "name": "stdout",
     "output_type": "stream",
     "text": [
      "<class 'pandas.core.frame.DataFrame'>\n",
      "Int64Index: 16130 entries, 0 to 16129\n",
      "Data columns (total 5 columns):\n",
      "CNN                16130 non-null int64\n",
      "FROM_CNN           16130 non-null int64\n",
      "TO_CNN             16130 non-null int64\n",
      "from_cnn_coords    16130 non-null object\n",
      "to_cnn_coords      16130 non-null object\n",
      "dtypes: int64(3), object(2)\n",
      "memory usage: 756.1+ KB\n"
     ]
    }
   ],
   "source": [
    "df1.info()"
   ]
  },
  {
   "cell_type": "code",
   "execution_count": 45,
   "metadata": {
    "autoscroll": false,
    "collapsed": false,
    "ein.tags": "worksheet-0",
    "slideshow": {
     "slide-type": "-"
    }
   },
   "outputs": [],
   "source": [
    "center_lines = pd.read_csv('./street_data/San_Francisco_Basemap_Street_Centerlines.csv')"
   ]
  },
  {
   "cell_type": "code",
   "execution_count": 46,
   "metadata": {
    "autoscroll": false,
    "collapsed": false,
    "ein.tags": "worksheet-0",
    "slideshow": {
     "slide-type": "-"
    }
   },
   "outputs": [
    {
     "name": "stdout",
     "output_type": "stream",
     "text": [
      "<class 'pandas.core.frame.DataFrame'>\n",
      "RangeIndex: 16187 entries, 0 to 16186\n",
      "Data columns (total 22 columns):\n",
      "accepted      16181 non-null object\n",
      "classcode     16187 non-null int64\n",
      "cnn           16187 non-null int64\n",
      "cnntext       16187 non-null int64\n",
      "district      0 non-null float64\n",
      "f_node_cnn    16187 non-null int64\n",
      "jurisdicti    13173 non-null object\n",
      "layer         16187 non-null object\n",
      "lf_fadd       16187 non-null int64\n",
      "lf_toadd      16187 non-null int64\n",
      "nhood         16186 non-null object\n",
      "oneway        16187 non-null object\n",
      "rt_fadd       16187 non-null int64\n",
      "rt_toadd      16187 non-null int64\n",
      "street        16187 non-null object\n",
      "streetname    16187 non-null object\n",
      "street_gc     16187 non-null object\n",
      "st_type       15794 non-null object\n",
      "t_node_cnn    16187 non-null int64\n",
      "zip_code      16187 non-null int64\n",
      "geometry      16187 non-null object\n",
      "multigeom     16187 non-null bool\n",
      "dtypes: bool(1), float64(1), int64(10), object(10)\n",
      "memory usage: 2.6+ MB\n"
     ]
    }
   ],
   "source": [
    "center_lines.info()"
   ]
  },
  {
   "cell_type": "code",
   "execution_count": 47,
   "metadata": {
    "autoscroll": false,
    "collapsed": false,
    "ein.tags": "worksheet-0",
    "slideshow": {
     "slide-type": "-"
    }
   },
   "outputs": [],
   "source": [
    "center_lines = center_lines[['classcode', 'oneway', 'streetname', 'cnn']]"
   ]
  },
  {
   "cell_type": "code",
   "execution_count": 48,
   "metadata": {
    "autoscroll": false,
    "collapsed": false,
    "ein.tags": "worksheet-0",
    "slideshow": {
     "slide-type": "-"
    }
   },
   "outputs": [
    {
     "data": {
      "text/plain": [
       "   classcode oneway         streetname       cnn\n0          0      B           CROWN CT  15145000\n1          0      B  SAINT GERMAIN AVE  11305001"
      ]
     },
     "execution_count": 48,
     "metadata": {},
     "output_type": "execute_result"
    }
   ],
   "source": [
    "center_lines.head(2)"
   ]
  },
  {
   "cell_type": "code",
   "execution_count": 49,
   "metadata": {
    "autoscroll": false,
    "collapsed": false,
    "ein.tags": "worksheet-0",
    "slideshow": {
     "slide-type": "-"
    }
   },
   "outputs": [],
   "source": [
    "comb_strt_seg = center_lines.merge(df1, how='right', left_on='cnn', right_on='CNN')"
   ]
  },
  {
   "cell_type": "code",
   "execution_count": 50,
   "metadata": {
    "autoscroll": false,
    "collapsed": false,
    "ein.tags": "worksheet-0",
    "slideshow": {
     "slide-type": "-"
    }
   },
   "outputs": [
    {
     "name": "stdout",
     "output_type": "stream",
     "text": [
      "<class 'pandas.core.frame.DataFrame'>\n",
      "Int64Index: 16130 entries, 0 to 16129\n",
      "Data columns (total 9 columns):\n",
      "classcode          16130 non-null int64\n",
      "oneway             16130 non-null object\n",
      "streetname         16130 non-null object\n",
      "cnn                16130 non-null int64\n",
      "CNN                16130 non-null int64\n",
      "FROM_CNN           16130 non-null int64\n",
      "TO_CNN             16130 non-null int64\n",
      "from_cnn_coords    16130 non-null object\n",
      "to_cnn_coords      16130 non-null object\n",
      "dtypes: int64(5), object(4)\n",
      "memory usage: 1.2+ MB\n"
     ]
    }
   ],
   "source": [
    "comb_strt_seg.info()"
   ]
  },
  {
   "cell_type": "code",
   "execution_count": 51,
   "metadata": {
    "autoscroll": false,
    "collapsed": false,
    "ein.tags": "worksheet-0",
    "slideshow": {
     "slide-type": "-"
    }
   },
   "outputs": [],
   "source": [
    "comb_strt_seg.drop(labels='cnn', axis=1, inplace=True)"
   ]
  },
  {
   "cell_type": "code",
   "execution_count": 52,
   "metadata": {
    "autoscroll": false,
    "collapsed": false,
    "ein.tags": "worksheet-0",
    "slideshow": {
     "slide-type": "-"
    }
   },
   "outputs": [],
   "source": [
    "comb_strt_seg.rename(columns={'CNN': 'cnn',\n",
    "                              'FROM_CNN': 'from_cnn',\n",
    "                              'TO_CNN': 'to_cnn'},\n",
    "                     inplace=True)"
   ]
  },
  {
   "cell_type": "code",
   "execution_count": 53,
   "metadata": {
    "autoscroll": false,
    "collapsed": false,
    "ein.tags": "worksheet-0",
    "slideshow": {
     "slide-type": "-"
    }
   },
   "outputs": [
    {
     "data": {
      "text/plain": [
       "   classcode oneway         streetname       cnn  from_cnn    to_cnn  \\\n0          0      B           CROWN CT  15145000  26132000  54223000   \n1          0      B  SAINT GERMAIN AVE  11305001  26255000  54224000   \n2          5      B  SAINT GERMAIN AVE  11305002  54224000  26247000   \n3          5      F          CORONA ST  13798000  35015000  35015000   \n4          5      B        FAIRFAX AVE   5389001  35016000  35017000   \n\n                   from_cnn_coords                    to_cnn_coords  \n0  [-122.446942444, 37.7572289215]  [-122.445867016, 37.7569364859]  \n1   [-122.447915266, 37.757589498]  [-122.448877014, 37.7575363275]  \n2  [-122.448877014, 37.7575363275]  [-122.450289302, 37.7574582341]  \n3  [-122.466597727, 37.7259244744]  [-122.466597727, 37.7259244744]  \n4  [-122.380850804, 37.7362793847]   [-122.381003701, 37.736790553]  "
      ]
     },
     "execution_count": 53,
     "metadata": {},
     "output_type": "execute_result"
    }
   ],
   "source": [
    "comb_strt_seg.head()"
   ]
  },
  {
   "cell_type": "code",
   "execution_count": 54,
   "metadata": {
    "autoscroll": false,
    "collapsed": false,
    "ein.tags": "worksheet-0",
    "slideshow": {
     "slide-type": "-"
    }
   },
   "outputs": [],
   "source": [
    "from distance import haversin\n",
    "\n",
    "def dist(coords):\n",
    "    return haversin(*coords)"
   ]
  },
  {
   "cell_type": "code",
   "execution_count": 55,
   "metadata": {
    "autoscroll": false,
    "collapsed": false,
    "ein.tags": "worksheet-0",
    "slideshow": {
     "slide-type": "-"
    }
   },
   "outputs": [],
   "source": [
    "comb_strt_seg['length'] = \\\n",
    "    comb_strt_seg[['from_cnn_coords', 'to_cnn_coords']].apply(dist, axis=1)"
   ]
  },
  {
   "cell_type": "code",
   "execution_count": 56,
   "metadata": {
    "autoscroll": false,
    "collapsed": false,
    "ein.tags": "worksheet-0",
    "slideshow": {
     "slide-type": "-"
    }
   },
   "outputs": [],
   "source": [
    "comb_strt_seg = comb_strt_seg[comb_strt_seg.length != 0]"
   ]
  },
  {
   "cell_type": "code",
   "execution_count": 57,
   "metadata": {
    "autoscroll": false,
    "collapsed": false,
    "ein.tags": "worksheet-0",
    "slideshow": {
     "slide-type": "-"
    }
   },
   "outputs": [
    {
     "data": {
      "text/plain": [
       "   classcode oneway         streetname       cnn  from_cnn    to_cnn  \\\n0          0      B           CROWN CT  15145000  26132000  54223000   \n1          0      B  SAINT GERMAIN AVE  11305001  26255000  54224000   \n\n                   from_cnn_coords                    to_cnn_coords     length  \n0  [-122.446942444, 37.7572289215]  [-122.445867016, 37.7569364859]  99.916264  \n1   [-122.447915266, 37.757589498]  [-122.448877014, 37.7575363275]  84.702128  "
      ]
     },
     "execution_count": 57,
     "metadata": {},
     "output_type": "execute_result"
    }
   ],
   "source": [
    "comb_strt_seg.head(2)"
   ]
  },
  {
   "cell_type": "code",
   "execution_count": 58,
   "metadata": {
    "autoscroll": false,
    "collapsed": false,
    "ein.tags": "worksheet-0",
    "slideshow": {
     "slide-type": "-"
    }
   },
   "outputs": [],
   "source": [
    "comb_strt_seg.sort_values(['length', 'streetname'], inplace=True)"
   ]
  },
  {
   "cell_type": "code",
   "execution_count": 59,
   "metadata": {
    "autoscroll": false,
    "collapsed": false,
    "ein.tags": "worksheet-0",
    "slideshow": {
     "slide-type": "-"
    }
   },
   "outputs": [],
   "source": [
    "comb_strt_seg.reset_index(inplace=True, drop=True)"
   ]
  },
  {
   "cell_type": "code",
   "execution_count": 60,
   "metadata": {
    "autoscroll": false,
    "collapsed": false,
    "ein.tags": "worksheet-0",
    "slideshow": {
     "slide-type": "-"
    }
   },
   "outputs": [
    {
     "name": "stdout",
     "output_type": "stream",
     "text": [
      "<class 'pandas.core.frame.DataFrame'>\n",
      "RangeIndex: 16116 entries, 0 to 16115\n",
      "Data columns (total 9 columns):\n",
      "classcode          16116 non-null int64\n",
      "oneway             16116 non-null object\n",
      "streetname         16116 non-null object\n",
      "cnn                16116 non-null int64\n",
      "from_cnn           16116 non-null int64\n",
      "to_cnn             16116 non-null int64\n",
      "from_cnn_coords    16116 non-null object\n",
      "to_cnn_coords      16116 non-null object\n",
      "length             16116 non-null float64\n",
      "dtypes: float64(1), int64(4), object(4)\n",
      "memory usage: 1.1+ MB\n"
     ]
    }
   ],
   "source": [
    "comb_strt_seg.info()"
   ]
  },
  {
   "cell_type": "code",
   "execution_count": 61,
   "metadata": {
    "autoscroll": false,
    "collapsed": false,
    "ein.tags": "worksheet-0",
    "slideshow": {
     "slide-type": "slide"
    }
   },
   "outputs": [
    {
     "data": {
      "text/plain": [
       "   classcode oneway      streetname       cnn  from_cnn    to_cnn  \\\n0          5      B       GRANT AVE   6408000  25376000  25391000   \n1          5      B         HYDE ST   7141000  30028000  25543000   \n2          5      B   SACRAMENTO ST  11238000  25077000  30047000   \n3          5      B  LEAVENWORTH ST   8259000  25285000  30043000   \n4          5      T         CLAY ST   4097000  25015000  25016000   \n5          5      B     PACIFIC AVE  10136000  25124000  25125000   \n6          5      B      JACKSON ST   7380000  25040000  25041000   \n7          5      B      VALLEJO ST  13086000  30040000  24827000   \n8          5      T        JONES ST   7568000  24931000  24927000   \n9          5      B        MASON ST   8825000  25418000  25419000   \n\n                   from_cnn_coords                    to_cnn_coords    length  \n0  [-122.407895702, 37.8022031597]  [-122.407898666, 37.8022180205]  1.671781  \n1  [-122.419105547, 37.7994822746]   [-122.419109459, 37.799501833]  2.200408  \n2  [-122.411900469, 37.7926482491]  [-122.411929944, 37.7926445051]  2.621567  \n3  [-122.416931168, 37.7970508219]  [-122.416936047, 37.7970750186]  2.722776  \n4  [-122.409900714, 37.7938061657]  [-122.409935886, 37.7938016901]  3.128414  \n5  [-122.412503876, 37.7961920286]  [-122.412540657, 37.7961874009]  3.270468  \n6  [-122.408704654, 37.7957668411]  [-122.408743234, 37.7957619818]  3.430513  \n7  [-122.403644962, 37.7992241685]   [-122.40369039, 37.7992184505]  4.039182  \n8  [-122.412872038, 37.7853084484]   [-122.412881239, 37.785353823]  5.106611  \n9    [-122.41240815, 37.799718002]  [-122.412417555, 37.7997647693]  5.262220  "
      ]
     },
     "execution_count": 61,
     "metadata": {},
     "output_type": "execute_result"
    }
   ],
   "source": [
    "comb_strt_seg.head(10)"
   ]
  },
  {
   "cell_type": "code",
   "execution_count": 62,
   "metadata": {
    "autoscroll": false,
    "collapsed": false,
    "ein.tags": "worksheet-0",
    "slideshow": {
     "slide-type": "-"
    }
   },
   "outputs": [
    {
     "data": {
      "text/plain": [
       "       classcode oneway          streetname       cnn  from_cnn    to_cnn  \\\n16106          1      F    HWY 1 NORTHBOUND  19185000  27628000  52102000   \n16107          1      F  HWY 101 NORTHBOUND  19222000  52123000  52168000   \n16108          4      B        JOHN MUIR DR   7553000  33539000  23323000   \n16109          1      F    HWY 1 SOUTHBOUND  19186000  52101000  27628000   \n16110          1      F  HWY 101 NORTHBOUND  15176000  54235000  52266000   \n16111          1      F    I-280 SOUTHBOUND  19343000  52144000  52125000   \n16112          1      F      I-80 WESTBOUND  14249000  53063000  52307000   \n16113          1      F      I-80 EASTBOUND  14248000  52306000  53062000   \n16114          3      T           GREAT HWY   6436101  27942000  32904000   \n16115          3      F           GREAT HWY   6436201  27942000  32904000   \n\n                       from_cnn_coords                    to_cnn_coords  \\\n16106   [-122.47262579, 37.7863148065]   [-122.46939327, 37.8008108732]   \n16107  [-122.401495961, 37.7247557928]  [-122.407970803, 37.7386174844]   \n16108  [-122.485723866, 37.7080857299]  [-122.500220954, 37.7189555588]   \n16109  [-122.469680996, 37.8024997839]   [-122.47262579, 37.7863148065]   \n16110  [-122.450356379, 37.8034862443]  [-122.473088125, 37.8050227493]   \n16111  [-122.392028947, 37.7506630819]  [-122.411473163, 37.7337860011]   \n16112  [-122.367433795, 37.8078191921]   [-122.388125845, 37.788553802]   \n16113  [-122.388139084, 37.7885626445]  [-122.367465625, 37.8078513432]   \n16114  [-122.510341319, 37.7640008332]  [-122.506717429, 37.7354697579]   \n16115  [-122.510341319, 37.7640008332]  [-122.506717429, 37.7354697579]   \n\n            length  \n16106  1635.695929  \n16107  1642.133143  \n16108  1755.903810  \n16109  1817.051972  \n16110  2003.160369  \n16111  2537.100513  \n16112  2807.946002  \n16113  2808.865728  \n16114  3186.468163  \n16115  3186.468163  "
      ]
     },
     "execution_count": 62,
     "metadata": {},
     "output_type": "execute_result"
    }
   ],
   "source": [
    "comb_strt_seg.tail(10)"
   ]
  },
  {
   "cell_type": "code",
   "execution_count": 63,
   "metadata": {
    "autoscroll": false,
    "collapsed": false,
    "ein.tags": "worksheet-0",
    "slideshow": {
     "slide-type": "-"
    }
   },
   "outputs": [
    {
     "data": {
      "text/plain": [
       "685"
      ]
     },
     "execution_count": 63,
     "metadata": {},
     "output_type": "execute_result"
    }
   ],
   "source": [
    "grouped = comb_strt_seg.groupby(by=['from_cnn', 'to_cnn'])\n",
    "grouped = grouped.filter(lambda x: len(x) > 1).groupby(by=['from_cnn', 'to_cnn'], as_index=False)\n",
    "grouped.ngroups"
   ]
  },
  {
   "cell_type": "code",
   "execution_count": 64,
   "metadata": {
    "autoscroll": false,
    "collapsed": false,
    "ein.tags": "worksheet-0",
    "slideshow": {
     "slide-type": "-"
    }
   },
   "outputs": [
    {
     "data": {
      "text/plain": [
       "       classcode oneway    streetname       cnn  from_cnn    to_cnn  \\\n14155          4      T   FILLMORE ST   5568101  26763000  26764000   \n14156          4      F   FILLMORE ST   5568201  26763000  26764000   \n9937           4      T     MARKET ST   8740101  30729000  30730000   \n9938           4      F     MARKET ST   8740201  30729000  30730000   \n5167           5      T  HOLLOWAY AVE   6996101  23032000  23056000   \n5168           5      F  HOLLOWAY AVE   6996201  23032000  23056000   \n10988          4      T  WOODSIDE AVE  13712101  22863000  22862000   \n10989          4      F  WOODSIDE AVE  13712201  22863000  22862000   \n7903           3      T   LINCOLN WAY   8358101  27377000  27378000   \n7904           3      F   LINCOLN WAY   8358201  27377000  27378000   \n\n                       from_cnn_coords                    to_cnn_coords  \\\n14155   [-122.43627391, 37.8008141445]  [-122.436693347, 37.8026284241]   \n14156   [-122.43627391, 37.8008141445]  [-122.436693347, 37.8026284241]   \n9937   [-122.397383446, 37.7924055215]  [-122.398264448, 37.7917160586]   \n9938   [-122.397383446, 37.7924055215]  [-122.398264448, 37.7917160586]   \n5167    [-122.475221952, 37.721057296]   [-122.47606967, 37.7207799471]   \n5168    [-122.475221952, 37.721057296]   [-122.47606967, 37.7207799471]   \n10988  [-122.458728518, 37.7467554297]  [-122.457166741, 37.7466980209]   \n10989  [-122.458728518, 37.7467554297]  [-122.457166741, 37.7466980209]   \n7903   [-122.478324821, 37.7653991358]   [-122.47939843, 37.7653509932]   \n7904   [-122.478324821, 37.7653991358]   [-122.47939843, 37.7653509932]   \n\n           length  \n14155  204.948116  \n14156  204.948116  \n9937   108.883219  \n9938   108.883219  \n5167    80.636745  \n5168    80.636745  \n10988  137.380554  \n10989  137.380554  \n7903    94.465176  \n7904    94.465176  "
      ]
     },
     "execution_count": 64,
     "metadata": {},
     "output_type": "execute_result"
    }
   ],
   "source": [
    "comb_strt_seg.take(np.array(grouped.groups.values()).flat).head(10)"
   ]
  },
  {
   "cell_type": "code",
   "execution_count": 65,
   "metadata": {
    "autoscroll": false,
    "collapsed": false,
    "ein.tags": "worksheet-0",
    "slideshow": {
     "slide-type": "-"
    }
   },
   "outputs": [],
   "source": [
    "comb_strt_seg.to_csv('./street_data/processed_strt_data.csv')"
   ]
  },
  {
   "cell_type": "code",
   "execution_count": null,
   "metadata": {
    "autoscroll": false,
    "collapsed": false,
    "ein.tags": "worksheet-0",
    "slideshow": {
     "slide-type": "-"
    }
   },
   "outputs": [],
   "source": []
  }
 ],
 "metadata": {
  "anaconda-cloud": null,
  "kernelspec": {
   "display_name": "Python 2",
   "name": "python2"
  },
  "language_info": {
   "codemirror_mode": {
    "name": "ipython",
    "version": 2
   },
   "file_extension": ".py",
   "mimetype": "text/x-python",
   "name": "python",
   "nbconvert_exporter": "python",
   "pygments_lexer": "ipython2",
   "version": "2.7.12"
  },
  "name": "SF_Street_Data.ipynb"
 },
 "nbformat": 4,
 "nbformat_minor": 1
}
