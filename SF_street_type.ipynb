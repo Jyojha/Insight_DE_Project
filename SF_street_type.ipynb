{
 "cells": [
  {
   "cell_type": "code",
   "execution_count": 1,
   "metadata": {
    "collapsed": false
   },
   "outputs": [],
   "source": [
    "import pandas as pd\n",
    "import numpy as np\n",
    "import matplotlib.pyplot as plt\n",
    "import json"
   ]
  },
  {
   "cell_type": "code",
   "execution_count": 2,
   "metadata": {
    "collapsed": true
   },
   "outputs": [],
   "source": [
    "sf_strt = pd.read_csv('./street_data/processed_strt_data.csv')"
   ]
  },
  {
   "cell_type": "code",
   "execution_count": 3,
   "metadata": {
    "collapsed": false
   },
   "outputs": [
    {
     "data": {
      "text/html": [
       "<div>\n",
       "<table border=\"1\" class=\"dataframe\">\n",
       "  <thead>\n",
       "    <tr style=\"text-align: right;\">\n",
       "      <th></th>\n",
       "      <th>Unnamed: 0</th>\n",
       "      <th>classcode</th>\n",
       "      <th>oneway</th>\n",
       "      <th>streetname</th>\n",
       "      <th>cnn</th>\n",
       "      <th>from_cnn</th>\n",
       "      <th>to_cnn</th>\n",
       "      <th>from_cnn_coords</th>\n",
       "      <th>to_cnn_coords</th>\n",
       "      <th>length</th>\n",
       "    </tr>\n",
       "  </thead>\n",
       "  <tbody>\n",
       "    <tr>\n",
       "      <th>0</th>\n",
       "      <td>0</td>\n",
       "      <td>5</td>\n",
       "      <td>B</td>\n",
       "      <td>GRANT AVE</td>\n",
       "      <td>6408000</td>\n",
       "      <td>25376000</td>\n",
       "      <td>25391000</td>\n",
       "      <td>[-122.40789570242603, 37.802203159671244]</td>\n",
       "      <td>[-122.40789866598965, 37.80221802045265]</td>\n",
       "      <td>1.671781</td>\n",
       "    </tr>\n",
       "    <tr>\n",
       "      <th>1</th>\n",
       "      <td>1</td>\n",
       "      <td>5</td>\n",
       "      <td>B</td>\n",
       "      <td>HYDE ST</td>\n",
       "      <td>7141000</td>\n",
       "      <td>30028000</td>\n",
       "      <td>25543000</td>\n",
       "      <td>[-122.41910554731129, 37.79948227457389]</td>\n",
       "      <td>[-122.41910945900483, 37.799501833031165]</td>\n",
       "      <td>2.200408</td>\n",
       "    </tr>\n",
       "  </tbody>\n",
       "</table>\n",
       "</div>"
      ],
      "text/plain": [
       "   Unnamed: 0  classcode oneway streetname      cnn  from_cnn    to_cnn  \\\n",
       "0           0          5      B  GRANT AVE  6408000  25376000  25391000   \n",
       "1           1          5      B    HYDE ST  7141000  30028000  25543000   \n",
       "\n",
       "                             from_cnn_coords  \\\n",
       "0  [-122.40789570242603, 37.802203159671244]   \n",
       "1   [-122.41910554731129, 37.79948227457389]   \n",
       "\n",
       "                               to_cnn_coords    length  \n",
       "0   [-122.40789866598965, 37.80221802045265]  1.671781  \n",
       "1  [-122.41910945900483, 37.799501833031165]  2.200408  "
      ]
     },
     "execution_count": 3,
     "metadata": {},
     "output_type": "execute_result"
    }
   ],
   "source": [
    "sf_strt.head(2)"
   ]
  },
  {
   "cell_type": "code",
   "execution_count": 4,
   "metadata": {
    "collapsed": false
   },
   "outputs": [],
   "source": [
    "sf_strt.drop(labels='Unnamed: 0', axis=1, inplace=True)"
   ]
  },
  {
   "cell_type": "code",
   "execution_count": 5,
   "metadata": {
    "collapsed": false
   },
   "outputs": [
    {
     "data": {
      "text/html": [
       "<div>\n",
       "<table border=\"1\" class=\"dataframe\">\n",
       "  <thead>\n",
       "    <tr style=\"text-align: right;\">\n",
       "      <th></th>\n",
       "      <th>classcode</th>\n",
       "      <th>oneway</th>\n",
       "      <th>streetname</th>\n",
       "      <th>cnn</th>\n",
       "      <th>from_cnn</th>\n",
       "      <th>to_cnn</th>\n",
       "      <th>from_cnn_coords</th>\n",
       "      <th>to_cnn_coords</th>\n",
       "      <th>length</th>\n",
       "    </tr>\n",
       "  </thead>\n",
       "  <tbody>\n",
       "    <tr>\n",
       "      <th>0</th>\n",
       "      <td>5</td>\n",
       "      <td>B</td>\n",
       "      <td>GRANT AVE</td>\n",
       "      <td>6408000</td>\n",
       "      <td>25376000</td>\n",
       "      <td>25391000</td>\n",
       "      <td>[-122.40789570242603, 37.802203159671244]</td>\n",
       "      <td>[-122.40789866598965, 37.80221802045265]</td>\n",
       "      <td>1.671781</td>\n",
       "    </tr>\n",
       "    <tr>\n",
       "      <th>1</th>\n",
       "      <td>5</td>\n",
       "      <td>B</td>\n",
       "      <td>HYDE ST</td>\n",
       "      <td>7141000</td>\n",
       "      <td>30028000</td>\n",
       "      <td>25543000</td>\n",
       "      <td>[-122.41910554731129, 37.79948227457389]</td>\n",
       "      <td>[-122.41910945900483, 37.799501833031165]</td>\n",
       "      <td>2.200408</td>\n",
       "    </tr>\n",
       "  </tbody>\n",
       "</table>\n",
       "</div>"
      ],
      "text/plain": [
       "   classcode oneway streetname      cnn  from_cnn    to_cnn  \\\n",
       "0          5      B  GRANT AVE  6408000  25376000  25391000   \n",
       "1          5      B    HYDE ST  7141000  30028000  25543000   \n",
       "\n",
       "                             from_cnn_coords  \\\n",
       "0  [-122.40789570242603, 37.802203159671244]   \n",
       "1   [-122.41910554731129, 37.79948227457389]   \n",
       "\n",
       "                               to_cnn_coords    length  \n",
       "0   [-122.40789866598965, 37.80221802045265]  1.671781  \n",
       "1  [-122.41910945900483, 37.799501833031165]  2.200408  "
      ]
     },
     "execution_count": 5,
     "metadata": {},
     "output_type": "execute_result"
    }
   ],
   "source": [
    "sf_strt.head(2)"
   ]
  },
  {
   "cell_type": "code",
   "execution_count": 6,
   "metadata": {
    "collapsed": false
   },
   "outputs": [
    {
     "data": {
      "text/html": [
       "<div>\n",
       "<table border=\"1\" class=\"dataframe\">\n",
       "  <thead>\n",
       "    <tr style=\"text-align: right;\">\n",
       "      <th></th>\n",
       "      <th>classcode</th>\n",
       "      <th>oneway</th>\n",
       "      <th>streetname</th>\n",
       "      <th>cnn</th>\n",
       "      <th>from_cnn</th>\n",
       "      <th>to_cnn</th>\n",
       "      <th>from_cnn_coords</th>\n",
       "      <th>to_cnn_coords</th>\n",
       "      <th>length</th>\n",
       "    </tr>\n",
       "  </thead>\n",
       "  <tbody>\n",
       "    <tr>\n",
       "      <th>3159</th>\n",
       "      <td>3</td>\n",
       "      <td>F</td>\n",
       "      <td>03RD ST</td>\n",
       "      <td>200202</td>\n",
       "      <td>20245000</td>\n",
       "      <td>20244000</td>\n",
       "      <td>[-122.38750874616855, 37.74406207957941]</td>\n",
       "      <td>[-122.38762945352309, 37.74352792755228]</td>\n",
       "      <td>60.297955</td>\n",
       "    </tr>\n",
       "    <tr>\n",
       "      <th>3196</th>\n",
       "      <td>5</td>\n",
       "      <td>F</td>\n",
       "      <td>PHELPS ST</td>\n",
       "      <td>10394000</td>\n",
       "      <td>20245000</td>\n",
       "      <td>20246000</td>\n",
       "      <td>[-122.38750874616855, 37.74406207957941]</td>\n",
       "      <td>[-122.38790040732846, 37.743610176527405]</td>\n",
       "      <td>60.879478</td>\n",
       "    </tr>\n",
       "  </tbody>\n",
       "</table>\n",
       "</div>"
      ],
      "text/plain": [
       "      classcode oneway streetname       cnn  from_cnn    to_cnn  \\\n",
       "3159          3      F    03RD ST    200202  20245000  20244000   \n",
       "3196          5      F  PHELPS ST  10394000  20245000  20246000   \n",
       "\n",
       "                               from_cnn_coords  \\\n",
       "3159  [-122.38750874616855, 37.74406207957941]   \n",
       "3196  [-122.38750874616855, 37.74406207957941]   \n",
       "\n",
       "                                  to_cnn_coords     length  \n",
       "3159   [-122.38762945352309, 37.74352792755228]  60.297955  \n",
       "3196  [-122.38790040732846, 37.743610176527405]  60.879478  "
      ]
     },
     "execution_count": 6,
     "metadata": {},
     "output_type": "execute_result"
    }
   ],
   "source": [
    "sf_strt[sf_strt['from_cnn']==20245000]"
   ]
  },
  {
   "cell_type": "code",
   "execution_count": 7,
   "metadata": {
    "collapsed": false
   },
   "outputs": [],
   "source": [
    "df_b = sf_strt[['oneway','cnn','from_cnn','to_cnn']][sf_strt['oneway']=='B']\n",
    "df_b.reset_index(inplace=True)\n",
    "df_t = sf_strt[['oneway','cnn','from_cnn','to_cnn']][sf_strt['oneway']=='T']\n",
    "df_t.reset_index(inplace=True)\n",
    "df_f = sf_strt[['oneway','cnn','from_cnn','to_cnn']][sf_strt['oneway']=='F']\n",
    "df_f.reset_index(inplace=True)"
   ]
  },
  {
   "cell_type": "code",
   "execution_count": 8,
   "metadata": {
    "collapsed": false
   },
   "outputs": [
    {
     "data": {
      "text/html": [
       "<div>\n",
       "<table border=\"1\" class=\"dataframe\">\n",
       "  <thead>\n",
       "    <tr style=\"text-align: right;\">\n",
       "      <th></th>\n",
       "      <th>index</th>\n",
       "      <th>oneway</th>\n",
       "      <th>cnn</th>\n",
       "      <th>from_cnn</th>\n",
       "      <th>to_cnn</th>\n",
       "    </tr>\n",
       "  </thead>\n",
       "  <tbody>\n",
       "    <tr>\n",
       "      <th>0</th>\n",
       "      <td>0</td>\n",
       "      <td>B</td>\n",
       "      <td>6408000</td>\n",
       "      <td>25376000</td>\n",
       "      <td>25391000</td>\n",
       "    </tr>\n",
       "    <tr>\n",
       "      <th>1</th>\n",
       "      <td>1</td>\n",
       "      <td>B</td>\n",
       "      <td>7141000</td>\n",
       "      <td>30028000</td>\n",
       "      <td>25543000</td>\n",
       "    </tr>\n",
       "  </tbody>\n",
       "</table>\n",
       "</div>"
      ],
      "text/plain": [
       "   index oneway      cnn  from_cnn    to_cnn\n",
       "0      0      B  6408000  25376000  25391000\n",
       "1      1      B  7141000  30028000  25543000"
      ]
     },
     "execution_count": 8,
     "metadata": {},
     "output_type": "execute_result"
    }
   ],
   "source": [
    "df_b.head(2)"
   ]
  },
  {
   "cell_type": "code",
   "execution_count": 9,
   "metadata": {
    "collapsed": true
   },
   "outputs": [],
   "source": [
    "def collect(x):\n",
    "    return list(x)"
   ]
  },
  {
   "cell_type": "code",
   "execution_count": 10,
   "metadata": {
    "collapsed": false
   },
   "outputs": [],
   "source": [
    "df_B1 = pd.DataFrame(df_b.groupby('from_cnn').agg({'to_cnn':collect}))\n",
    "#df_T1 = df_t.groupby('from_cnn').agg({'to_cnn':collect})\n",
    "df_F = df_f.groupby('from_cnn').agg({'to_cnn':collect})"
   ]
  },
  {
   "cell_type": "code",
   "execution_count": 11,
   "metadata": {
    "collapsed": true
   },
   "outputs": [],
   "source": [
    "df_B2 = df_b.groupby('to_cnn').agg({'from_cnn':collect})\n",
    "df_T = df_t.groupby('to_cnn').agg({'from_cnn':collect})\n",
    "#df_F2 = df_f.groupby('to_cnn').agg({'from_cnn':collect})"
   ]
  },
  {
   "cell_type": "code",
   "execution_count": 12,
   "metadata": {
    "collapsed": false
   },
   "outputs": [],
   "source": [
    "df_B1.reset_index(inplace=True)\n",
    "df_B1.rename(columns={'from_cnn':'node'},inplace=True)\n",
    "df_T.reset_index(inplace=True)\n",
    "df_F.reset_index(inplace=True)"
   ]
  },
  {
   "cell_type": "code",
   "execution_count": 13,
   "metadata": {
    "collapsed": true
   },
   "outputs": [],
   "source": [
    "df_B2.reset_index(inplace=True)\n",
    "df_B2.rename(columns={'to_cnn':'node'},inplace=True)\n",
    "\n",
    "#df_T2.reset_index(inplace=True)\n",
    "#df_F2.reset_index(inplace=True)"
   ]
  },
  {
   "cell_type": "code",
   "execution_count": 14,
   "metadata": {
    "collapsed": false
   },
   "outputs": [
    {
     "data": {
      "text/html": [
       "<div>\n",
       "<table border=\"1\" class=\"dataframe\">\n",
       "  <thead>\n",
       "    <tr style=\"text-align: right;\">\n",
       "      <th></th>\n",
       "      <th>node</th>\n",
       "      <th>to_cnn</th>\n",
       "    </tr>\n",
       "  </thead>\n",
       "  <tbody>\n",
       "    <tr>\n",
       "      <th>0</th>\n",
       "      <td>20010000</td>\n",
       "      <td>[20435000]</td>\n",
       "    </tr>\n",
       "    <tr>\n",
       "      <th>1</th>\n",
       "      <td>20011000</td>\n",
       "      <td>[20101000, 20097000]</td>\n",
       "    </tr>\n",
       "  </tbody>\n",
       "</table>\n",
       "</div>"
      ],
      "text/plain": [
       "       node                to_cnn\n",
       "0  20010000            [20435000]\n",
       "1  20011000  [20101000, 20097000]"
      ]
     },
     "execution_count": 14,
     "metadata": {},
     "output_type": "execute_result"
    }
   ],
   "source": [
    "df_B1.head(2)"
   ]
  },
  {
   "cell_type": "code",
   "execution_count": 15,
   "metadata": {
    "collapsed": false
   },
   "outputs": [
    {
     "data": {
      "text/html": [
       "<div>\n",
       "<table border=\"1\" class=\"dataframe\">\n",
       "  <thead>\n",
       "    <tr style=\"text-align: right;\">\n",
       "      <th></th>\n",
       "      <th>node</th>\n",
       "      <th>from_cnn</th>\n",
       "    </tr>\n",
       "  </thead>\n",
       "  <tbody>\n",
       "    <tr>\n",
       "      <th>0</th>\n",
       "      <td>20010000</td>\n",
       "      <td>[51652000, 28144000]</td>\n",
       "    </tr>\n",
       "    <tr>\n",
       "      <th>1</th>\n",
       "      <td>20013000</td>\n",
       "      <td>[20101000, 51653000]</td>\n",
       "    </tr>\n",
       "  </tbody>\n",
       "</table>\n",
       "</div>"
      ],
      "text/plain": [
       "       node              from_cnn\n",
       "0  20010000  [51652000, 28144000]\n",
       "1  20013000  [20101000, 51653000]"
      ]
     },
     "execution_count": 15,
     "metadata": {},
     "output_type": "execute_result"
    }
   ],
   "source": [
    "df_B2.head(2)"
   ]
  },
  {
   "cell_type": "code",
   "execution_count": 16,
   "metadata": {
    "collapsed": false
   },
   "outputs": [
    {
     "name": "stdout",
     "output_type": "stream",
     "text": [
      "<class 'pandas.core.frame.DataFrame'>\n",
      "RangeIndex: 7978 entries, 0 to 7977\n",
      "Data columns (total 2 columns):\n",
      "node        7978 non-null int64\n",
      "from_cnn    7978 non-null object\n",
      "dtypes: int64(1), object(1)\n",
      "memory usage: 124.7+ KB\n"
     ]
    }
   ],
   "source": [
    "df_B2.info()"
   ]
  },
  {
   "cell_type": "code",
   "execution_count": 17,
   "metadata": {
    "collapsed": true
   },
   "outputs": [],
   "source": [
    "def combine(row, col1='to_cnn', col2='from_cnn'):      \n",
    "    if row[col1] is np.nan and row[col2] is np.nan:\n",
    "        return [[]]\n",
    "    \n",
    "    if row[col1] is np.nan:\n",
    "        return [row[col2]]\n",
    "    \n",
    "    if row[col2] is np.nan:\n",
    "        return [row[col1]]\n",
    "    \n",
    "    #print type(row['node_neighbors_y'])\n",
    "    #print type(row)\n",
    "  \n",
    "    return [row[col1]+row[col2]]\n",
    "    \n",
    "    "
   ]
  },
  {
   "cell_type": "code",
   "execution_count": 18,
   "metadata": {
    "collapsed": false
   },
   "outputs": [
    {
     "name": "stdout",
     "output_type": "stream",
     "text": [
      "<class 'pandas.core.frame.DataFrame'>\n",
      "RangeIndex: 7855 entries, 0 to 7854\n",
      "Data columns (total 2 columns):\n",
      "node      7855 non-null int64\n",
      "to_cnn    7855 non-null object\n",
      "dtypes: int64(1), object(1)\n",
      "memory usage: 122.8+ KB\n"
     ]
    }
   ],
   "source": [
    "df_B1.info()"
   ]
  },
  {
   "cell_type": "code",
   "execution_count": 19,
   "metadata": {
    "collapsed": false
   },
   "outputs": [],
   "source": [
    "df_B3 = df_B1.merge(df_B2,how='outer',left_on='node',right_on='node')\n"
   ]
  },
  {
   "cell_type": "code",
   "execution_count": 20,
   "metadata": {
    "collapsed": false
   },
   "outputs": [
    {
     "data": {
      "text/html": [
       "<div>\n",
       "<table border=\"1\" class=\"dataframe\">\n",
       "  <thead>\n",
       "    <tr style=\"text-align: right;\">\n",
       "      <th></th>\n",
       "      <th>node</th>\n",
       "      <th>to_cnn</th>\n",
       "      <th>from_cnn</th>\n",
       "    </tr>\n",
       "  </thead>\n",
       "  <tbody>\n",
       "    <tr>\n",
       "      <th>0</th>\n",
       "      <td>20010000.0</td>\n",
       "      <td>[20435000]</td>\n",
       "      <td>[51652000, 28144000]</td>\n",
       "    </tr>\n",
       "    <tr>\n",
       "      <th>1</th>\n",
       "      <td>20011000.0</td>\n",
       "      <td>[20101000, 20097000]</td>\n",
       "      <td>NaN</td>\n",
       "    </tr>\n",
       "  </tbody>\n",
       "</table>\n",
       "</div>"
      ],
      "text/plain": [
       "         node                to_cnn              from_cnn\n",
       "0  20010000.0            [20435000]  [51652000, 28144000]\n",
       "1  20011000.0  [20101000, 20097000]                   NaN"
      ]
     },
     "execution_count": 20,
     "metadata": {},
     "output_type": "execute_result"
    }
   ],
   "source": [
    "df_B3.head(2)"
   ]
  },
  {
   "cell_type": "code",
   "execution_count": 21,
   "metadata": {
    "collapsed": false
   },
   "outputs": [
    {
     "name": "stdout",
     "output_type": "stream",
     "text": [
      "<class 'pandas.core.frame.DataFrame'>\n",
      "Int64Index: 8986 entries, 0 to 8985\n",
      "Data columns (total 3 columns):\n",
      "node        8986 non-null float64\n",
      "to_cnn      7855 non-null object\n",
      "from_cnn    7978 non-null object\n",
      "dtypes: float64(1), object(2)\n",
      "memory usage: 280.8+ KB\n"
     ]
    }
   ],
   "source": [
    "df_B3.info()"
   ]
  },
  {
   "cell_type": "code",
   "execution_count": 22,
   "metadata": {
    "collapsed": false
   },
   "outputs": [],
   "source": [
    "df_B3['node_neighbors'] = df_B3.apply(combine, axis=1)"
   ]
  },
  {
   "cell_type": "code",
   "execution_count": 23,
   "metadata": {
    "collapsed": false
   },
   "outputs": [],
   "source": [
    "df_B3.drop(labels=['to_cnn','from_cnn'],axis=1,inplace=True)"
   ]
  },
  {
   "cell_type": "code",
   "execution_count": 24,
   "metadata": {
    "collapsed": false
   },
   "outputs": [
    {
     "data": {
      "text/html": [
       "<div>\n",
       "<table border=\"1\" class=\"dataframe\">\n",
       "  <thead>\n",
       "    <tr style=\"text-align: right;\">\n",
       "      <th></th>\n",
       "      <th>node</th>\n",
       "      <th>node_neighbors</th>\n",
       "    </tr>\n",
       "  </thead>\n",
       "  <tbody>\n",
       "    <tr>\n",
       "      <th>0</th>\n",
       "      <td>20010000.0</td>\n",
       "      <td>[[20435000, 51652000, 28144000]]</td>\n",
       "    </tr>\n",
       "    <tr>\n",
       "      <th>1</th>\n",
       "      <td>20011000.0</td>\n",
       "      <td>[[20101000, 20097000]]</td>\n",
       "    </tr>\n",
       "  </tbody>\n",
       "</table>\n",
       "</div>"
      ],
      "text/plain": [
       "         node                    node_neighbors\n",
       "0  20010000.0  [[20435000, 51652000, 28144000]]\n",
       "1  20011000.0            [[20101000, 20097000]]"
      ]
     },
     "execution_count": 24,
     "metadata": {},
     "output_type": "execute_result"
    }
   ],
   "source": [
    "df_B3.head(2)"
   ]
  },
  {
   "cell_type": "code",
   "execution_count": 25,
   "metadata": {
    "collapsed": false
   },
   "outputs": [],
   "source": [
    "df_B3['node_neighbors']=df_B3.node_neighbors.map(lambda x: [item for sublist in x for item in sublist])\n"
   ]
  },
  {
   "cell_type": "code",
   "execution_count": 26,
   "metadata": {
    "collapsed": false
   },
   "outputs": [
    {
     "data": {
      "text/html": [
       "<div>\n",
       "<table border=\"1\" class=\"dataframe\">\n",
       "  <thead>\n",
       "    <tr style=\"text-align: right;\">\n",
       "      <th></th>\n",
       "      <th>node</th>\n",
       "      <th>node_neighbors</th>\n",
       "    </tr>\n",
       "  </thead>\n",
       "  <tbody>\n",
       "    <tr>\n",
       "      <th>0</th>\n",
       "      <td>20010000.0</td>\n",
       "      <td>[20435000, 51652000, 28144000]</td>\n",
       "    </tr>\n",
       "    <tr>\n",
       "      <th>1</th>\n",
       "      <td>20011000.0</td>\n",
       "      <td>[20101000, 20097000]</td>\n",
       "    </tr>\n",
       "  </tbody>\n",
       "</table>\n",
       "</div>"
      ],
      "text/plain": [
       "         node                  node_neighbors\n",
       "0  20010000.0  [20435000, 51652000, 28144000]\n",
       "1  20011000.0            [20101000, 20097000]"
      ]
     },
     "execution_count": 26,
     "metadata": {},
     "output_type": "execute_result"
    }
   ],
   "source": [
    "df_B3.rename(columns={'from_cnn_x':'node'}, inplace=True)\n",
    "df_B3.head(2)"
   ]
  },
  {
   "cell_type": "code",
   "execution_count": 27,
   "metadata": {
    "collapsed": false
   },
   "outputs": [
    {
     "data": {
      "text/plain": [
       "(8986, 2)"
      ]
     },
     "execution_count": 27,
     "metadata": {},
     "output_type": "execute_result"
    }
   ],
   "source": [
    "df_B3.shape"
   ]
  },
  {
   "cell_type": "code",
   "execution_count": 28,
   "metadata": {
    "collapsed": false
   },
   "outputs": [
    {
     "name": "stdout",
     "output_type": "stream",
     "text": [
      "<class 'pandas.core.frame.DataFrame'>\n",
      "Int64Index: 8986 entries, 0 to 8985\n",
      "Data columns (total 2 columns):\n",
      "node              8986 non-null float64\n",
      "node_neighbors    8986 non-null object\n",
      "dtypes: float64(1), object(1)\n",
      "memory usage: 210.6+ KB\n"
     ]
    }
   ],
   "source": [
    "df_B3.info()"
   ]
  },
  {
   "cell_type": "code",
   "execution_count": 29,
   "metadata": {
    "collapsed": false
   },
   "outputs": [
    {
     "data": {
      "text/html": [
       "<div>\n",
       "<table border=\"1\" class=\"dataframe\">\n",
       "  <thead>\n",
       "    <tr style=\"text-align: right;\">\n",
       "      <th></th>\n",
       "      <th>node</th>\n",
       "      <th>from_cnn</th>\n",
       "    </tr>\n",
       "  </thead>\n",
       "  <tbody>\n",
       "    <tr>\n",
       "      <th>0</th>\n",
       "      <td>20181000</td>\n",
       "      <td>[20177000]</td>\n",
       "    </tr>\n",
       "    <tr>\n",
       "      <th>1</th>\n",
       "      <td>20196000</td>\n",
       "      <td>[33204000]</td>\n",
       "    </tr>\n",
       "    <tr>\n",
       "      <th>2</th>\n",
       "      <td>20197000</td>\n",
       "      <td>[20196000]</td>\n",
       "    </tr>\n",
       "    <tr>\n",
       "      <th>3</th>\n",
       "      <td>20198000</td>\n",
       "      <td>[20200000, 34010000]</td>\n",
       "    </tr>\n",
       "    <tr>\n",
       "      <th>4</th>\n",
       "      <td>20200000</td>\n",
       "      <td>[33634000]</td>\n",
       "    </tr>\n",
       "  </tbody>\n",
       "</table>\n",
       "</div>"
      ],
      "text/plain": [
       "       node              from_cnn\n",
       "0  20181000            [20177000]\n",
       "1  20196000            [33204000]\n",
       "2  20197000            [20196000]\n",
       "3  20198000  [20200000, 34010000]\n",
       "4  20200000            [33634000]"
      ]
     },
     "execution_count": 29,
     "metadata": {},
     "output_type": "execute_result"
    }
   ],
   "source": [
    "df_T.rename(columns={'to_cnn':'node'}, inplace=True)\n",
    "df_T.head()"
   ]
  },
  {
   "cell_type": "code",
   "execution_count": 30,
   "metadata": {
    "collapsed": false
   },
   "outputs": [
    {
     "data": {
      "text/html": [
       "<div>\n",
       "<table border=\"1\" class=\"dataframe\">\n",
       "  <thead>\n",
       "    <tr style=\"text-align: right;\">\n",
       "      <th></th>\n",
       "      <th>node</th>\n",
       "      <th>to_cnn</th>\n",
       "    </tr>\n",
       "  </thead>\n",
       "  <tbody>\n",
       "    <tr>\n",
       "      <th>0</th>\n",
       "      <td>20177000</td>\n",
       "      <td>[20181000]</td>\n",
       "    </tr>\n",
       "    <tr>\n",
       "      <th>1</th>\n",
       "      <td>20181000</td>\n",
       "      <td>[20203000]</td>\n",
       "    </tr>\n",
       "  </tbody>\n",
       "</table>\n",
       "</div>"
      ],
      "text/plain": [
       "       node      to_cnn\n",
       "0  20177000  [20181000]\n",
       "1  20181000  [20203000]"
      ]
     },
     "execution_count": 30,
     "metadata": {},
     "output_type": "execute_result"
    }
   ],
   "source": [
    "df_F.rename(columns={'from_cnn':'node'}, inplace=True)\n",
    "df_F.head(2)"
   ]
  },
  {
   "cell_type": "code",
   "execution_count": 31,
   "metadata": {
    "collapsed": false
   },
   "outputs": [
    {
     "data": {
      "text/html": [
       "<div>\n",
       "<table border=\"1\" class=\"dataframe\">\n",
       "  <thead>\n",
       "    <tr style=\"text-align: right;\">\n",
       "      <th></th>\n",
       "      <th>node</th>\n",
       "      <th>to_cnn</th>\n",
       "    </tr>\n",
       "  </thead>\n",
       "  <tbody>\n",
       "    <tr>\n",
       "      <th>20</th>\n",
       "      <td>20245000</td>\n",
       "      <td>[20244000, 20246000]</td>\n",
       "    </tr>\n",
       "  </tbody>\n",
       "</table>\n",
       "</div>"
      ],
      "text/plain": [
       "        node                to_cnn\n",
       "20  20245000  [20244000, 20246000]"
      ]
     },
     "execution_count": 31,
     "metadata": {},
     "output_type": "execute_result"
    }
   ],
   "source": [
    "df_F[df_F['node']==20245000]"
   ]
  },
  {
   "cell_type": "code",
   "execution_count": 32,
   "metadata": {
    "collapsed": false
   },
   "outputs": [],
   "source": [
    "df_final1 = df_B3.merge(df_T, how='outer',left_on='node',right_on='node')"
   ]
  },
  {
   "cell_type": "code",
   "execution_count": 33,
   "metadata": {
    "collapsed": false
   },
   "outputs": [],
   "source": [
    "df_final = df_final1.merge(df_F, how='outer',left_on='node',right_on='node')"
   ]
  },
  {
   "cell_type": "code",
   "execution_count": 34,
   "metadata": {
    "collapsed": false
   },
   "outputs": [
    {
     "data": {
      "text/html": [
       "<div>\n",
       "<table border=\"1\" class=\"dataframe\">\n",
       "  <thead>\n",
       "    <tr style=\"text-align: right;\">\n",
       "      <th></th>\n",
       "      <th>node</th>\n",
       "      <th>node_neighbors</th>\n",
       "      <th>from_cnn</th>\n",
       "      <th>to_cnn</th>\n",
       "    </tr>\n",
       "  </thead>\n",
       "  <tbody>\n",
       "    <tr>\n",
       "      <th>0</th>\n",
       "      <td>20010000.0</td>\n",
       "      <td>[20435000, 51652000, 28144000]</td>\n",
       "      <td>NaN</td>\n",
       "      <td>NaN</td>\n",
       "    </tr>\n",
       "    <tr>\n",
       "      <th>1</th>\n",
       "      <td>20011000.0</td>\n",
       "      <td>[20101000, 20097000]</td>\n",
       "      <td>NaN</td>\n",
       "      <td>NaN</td>\n",
       "    </tr>\n",
       "  </tbody>\n",
       "</table>\n",
       "</div>"
      ],
      "text/plain": [
       "         node                  node_neighbors from_cnn to_cnn\n",
       "0  20010000.0  [20435000, 51652000, 28144000]      NaN    NaN\n",
       "1  20011000.0            [20101000, 20097000]      NaN    NaN"
      ]
     },
     "execution_count": 34,
     "metadata": {},
     "output_type": "execute_result"
    }
   ],
   "source": [
    "df_final.head(2)"
   ]
  },
  {
   "cell_type": "code",
   "execution_count": 35,
   "metadata": {
    "collapsed": false
   },
   "outputs": [
    {
     "data": {
      "text/html": [
       "<div>\n",
       "<table border=\"1\" class=\"dataframe\">\n",
       "  <thead>\n",
       "    <tr style=\"text-align: right;\">\n",
       "      <th></th>\n",
       "      <th>node</th>\n",
       "      <th>node_neighbors</th>\n",
       "      <th>from_cnn</th>\n",
       "      <th>to_cnn</th>\n",
       "    </tr>\n",
       "  </thead>\n",
       "  <tbody>\n",
       "    <tr>\n",
       "      <th>9344</th>\n",
       "      <td>20245000.0</td>\n",
       "      <td>NaN</td>\n",
       "      <td>NaN</td>\n",
       "      <td>[20244000, 20246000]</td>\n",
       "    </tr>\n",
       "  </tbody>\n",
       "</table>\n",
       "</div>"
      ],
      "text/plain": [
       "            node node_neighbors from_cnn                to_cnn\n",
       "9344  20245000.0            NaN      NaN  [20244000, 20246000]"
      ]
     },
     "execution_count": 35,
     "metadata": {},
     "output_type": "execute_result"
    }
   ],
   "source": [
    "df_final[df_final['node']==20245000]"
   ]
  },
  {
   "cell_type": "code",
   "execution_count": null,
   "metadata": {
    "collapsed": true
   },
   "outputs": [],
   "source": []
  },
  {
   "cell_type": "code",
   "execution_count": 36,
   "metadata": {
    "collapsed": false
   },
   "outputs": [],
   "source": [
    "from functools import partial\n",
    "\n",
    "df_final['node_neighbors'] = df_final.apply(partial(combine, col1='node_neighbors', col2='from_cnn'), axis=1)"
   ]
  },
  {
   "cell_type": "code",
   "execution_count": 37,
   "metadata": {
    "collapsed": true
   },
   "outputs": [],
   "source": [
    "df_final['node_neighbors'] = df_final.apply(partial(combine, col1='node_neighbors', col2='to_cnn'), axis=1)"
   ]
  },
  {
   "cell_type": "code",
   "execution_count": 38,
   "metadata": {
    "collapsed": false
   },
   "outputs": [],
   "source": [
    "df_final['node_neighbors'] = df_final['node_neighbors'].map(lambda x: x[0][0])"
   ]
  },
  {
   "cell_type": "code",
   "execution_count": 39,
   "metadata": {
    "collapsed": false
   },
   "outputs": [
    {
     "data": {
      "text/html": [
       "<div>\n",
       "<table border=\"1\" class=\"dataframe\">\n",
       "  <thead>\n",
       "    <tr style=\"text-align: right;\">\n",
       "      <th></th>\n",
       "      <th>node</th>\n",
       "      <th>node_neighbors</th>\n",
       "      <th>from_cnn</th>\n",
       "      <th>to_cnn</th>\n",
       "    </tr>\n",
       "  </thead>\n",
       "  <tbody>\n",
       "    <tr>\n",
       "      <th>9344</th>\n",
       "      <td>20245000.0</td>\n",
       "      <td>[]</td>\n",
       "      <td>NaN</td>\n",
       "      <td>[20244000, 20246000]</td>\n",
       "    </tr>\n",
       "  </tbody>\n",
       "</table>\n",
       "</div>"
      ],
      "text/plain": [
       "            node node_neighbors from_cnn                to_cnn\n",
       "9344  20245000.0             []      NaN  [20244000, 20246000]"
      ]
     },
     "execution_count": 39,
     "metadata": {},
     "output_type": "execute_result"
    }
   ],
   "source": [
    "df_final[df_final['node']==20245000]"
   ]
  },
  {
   "cell_type": "code",
   "execution_count": 40,
   "metadata": {
    "collapsed": false
   },
   "outputs": [],
   "source": [
    "df_final.drop(labels=['from_cnn','to_cnn'],axis=1, inplace=True)\n",
    "df_final['node'] = df_final['node'].map(lambda x: int(x))"
   ]
  },
  {
   "cell_type": "code",
   "execution_count": 41,
   "metadata": {
    "collapsed": false
   },
   "outputs": [
    {
     "data": {
      "text/html": [
       "<div>\n",
       "<table border=\"1\" class=\"dataframe\">\n",
       "  <thead>\n",
       "    <tr style=\"text-align: right;\">\n",
       "      <th></th>\n",
       "      <th>node</th>\n",
       "      <th>node_neighbors</th>\n",
       "    </tr>\n",
       "  </thead>\n",
       "  <tbody>\n",
       "    <tr>\n",
       "      <th>0</th>\n",
       "      <td>20010000</td>\n",
       "      <td>[20435000, 51652000, 28144000]</td>\n",
       "    </tr>\n",
       "    <tr>\n",
       "      <th>1</th>\n",
       "      <td>20011000</td>\n",
       "      <td>[20101000, 20097000]</td>\n",
       "    </tr>\n",
       "    <tr>\n",
       "      <th>2</th>\n",
       "      <td>20013000</td>\n",
       "      <td>[51652000, 20101000, 51653000]</td>\n",
       "    </tr>\n",
       "    <tr>\n",
       "      <th>3</th>\n",
       "      <td>20034000</td>\n",
       "      <td>[33121000, 35028000, 50752000]</td>\n",
       "    </tr>\n",
       "    <tr>\n",
       "      <th>4</th>\n",
       "      <td>20039000</td>\n",
       "      <td>[20044000, 33128000, 33121000]</td>\n",
       "    </tr>\n",
       "  </tbody>\n",
       "</table>\n",
       "</div>"
      ],
      "text/plain": [
       "       node                  node_neighbors\n",
       "0  20010000  [20435000, 51652000, 28144000]\n",
       "1  20011000            [20101000, 20097000]\n",
       "2  20013000  [51652000, 20101000, 51653000]\n",
       "3  20034000  [33121000, 35028000, 50752000]\n",
       "4  20039000  [20044000, 33128000, 33121000]"
      ]
     },
     "execution_count": 41,
     "metadata": {},
     "output_type": "execute_result"
    }
   ],
   "source": [
    "df_final.head()"
   ]
  },
  {
   "cell_type": "code",
   "execution_count": 42,
   "metadata": {
    "collapsed": false
   },
   "outputs": [],
   "source": [
    "streets = zip(list(sf_strt['to_cnn']), list(sf_strt['from_cnn']), list(sf_strt['oneway']))\n",
    "streets_set = set()\n",
    "\n",
    "for t, f, o in streets:\n",
    "    if o == 'B':\n",
    "        streets_set.add((f, t))\n",
    "        streets_set.add((t, f))\n",
    "    elif o == 'T':\n",
    "        streets_set.add((t, f))\n",
    "    else:\n",
    "        streets_set.add((f, t))"
   ]
  },
  {
   "cell_type": "code",
   "execution_count": 43,
   "metadata": {
    "collapsed": false
   },
   "outputs": [],
   "source": [
    "def pred(row):\n",
    "    node = row['node']\n",
    "    neighbors = row['node_neighbors']\n",
    "    \n",
    "    for n in neighbors:\n",
    "        if (node, n) not in streets_set:\n",
    "            return False\n",
    "        \n",
    "    return True\n",
    "    "
   ]
  },
  {
   "cell_type": "code",
   "execution_count": 46,
   "metadata": {
    "collapsed": false
   },
   "outputs": [
    {
     "data": {
      "text/plain": [
       "True"
      ]
     },
     "execution_count": 46,
     "metadata": {},
     "output_type": "execute_result"
    }
   ],
   "source": [
    "df_final.apply(pred, axis=1).all()"
   ]
  },
  {
   "cell_type": "code",
   "execution_count": 49,
   "metadata": {
    "collapsed": true
   },
   "outputs": [],
   "source": [
    "df_final.to_json(\"./street_data/node_neighbors.json\", orient='records')"
   ]
  },
  {
   "cell_type": "code",
   "execution_count": null,
   "metadata": {
    "collapsed": true
   },
   "outputs": [],
   "source": []
  }
 ],
 "metadata": {
  "anaconda-cloud": {},
  "kernelspec": {
   "display_name": "Python [default]",
   "language": "python",
   "name": "python2"
  },
  "language_info": {
   "codemirror_mode": {
    "name": "ipython",
    "version": 2
   },
   "file_extension": ".py",
   "mimetype": "text/x-python",
   "name": "python",
   "nbconvert_exporter": "python",
   "pygments_lexer": "ipython2",
   "version": "2.7.12"
  }
 },
 "nbformat": 4,
 "nbformat_minor": 1
}
